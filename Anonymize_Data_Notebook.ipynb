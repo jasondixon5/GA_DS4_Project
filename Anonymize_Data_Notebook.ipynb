{
 "cells": [
  {
   "cell_type": "markdown",
   "metadata": {},
   "source": [
    "##Data Anonymization\n",
    "\n",
    "Due to privacy concerns, several columns need to be dropped or recoded.\n",
    "For example, information identifying students and outside adults (mentors, coaches, etc.) will be dropped.\n",
    "A column that provides a unique identifier for each student will be used to create a new randomly generated identifier for each student.\n",
    "Information identifying assigned teacher by name or email address will also be dropped, although a teacher ID column will be retained."
   ]
  },
  {
   "cell_type": "code",
   "execution_count": null,
   "metadata": {
    "collapsed": true
   },
   "outputs": [],
   "source": [
    "import numpy as np\n",
    "import pandas as pd\n",
    "import random\n",
    "import csv"
   ]
  },
  {
   "cell_type": "code",
   "execution_count": null,
   "metadata": {
    "collapsed": true
   },
   "outputs": [],
   "source": [
    "# read in source data Excel file\n",
    "enr = pd.read_excel('ALVS_Enrollments_SY14-16.xlsx')"
   ]
  },
  {
   "cell_type": "code",
   "execution_count": null,
   "metadata": {
    "collapsed": true
   },
   "outputs": [],
   "source": [
    "# The 'CustomerID' column has a unique identifier for each student.\n",
    "# Will use that column to create my own unique identifier and then export the references.\n",
    "# Then create a column with the uniqute identifier and drop the original\n",
    "\n",
    "student_id_list = enr['CustomerID'].unique()\n",
    "\n",
    "student_id_dict = {}\n",
    "fake_ids = range(1, len(student_id_list) + 1)\n",
    "random.seed(1242)\n",
    "random.shuffle(fake_ids)\n",
    "i = 0\n",
    "for id in student_id_list:\n",
    "    student_id_dict[id] = fake_ids[i]\n",
    "    i += 1\n",
    "\n",
    "# Verify there's a new ID for each student\n",
    "print \"DF enr's shape: {}\".format(enr.shape)\n",
    "print \"Number of values in customer ID column: {}\".format(enr['CustomerID'].size)\n",
    "print \"Number of UNIQUE values in customer ID column: {}\".format(len(enr['CustomerID'].unique()))\n",
    "print \"Number of ID's captured in Customer ID list: {}\".format(len(student_id_list))\n",
    "print \"Number of oldID-newID pairs in dictionary: {}\".format(len(student_id_dict))"
   ]
  },
  {
   "cell_type": "code",
   "execution_count": null,
   "metadata": {
    "collapsed": true
   },
   "outputs": [],
   "source": [
    "# Output CSV file with old ID and new ID\n",
    "ID_file_header = ['old_ID','new_ID']\n",
    "with open('oldID_newID_dict.csv', 'wb') as csvfile:\n",
    "    filewriter = csv.writer(csvfile)\n",
    "    filewriter.writerow(ID_file_header)\n",
    "    for k, v in student_id_dict.iteritems():\n",
    "        filewriter.writerow((k, v))"
   ]
  },
  {
   "cell_type": "code",
   "execution_count": null,
   "metadata": {
    "collapsed": true
   },
   "outputs": [],
   "source": [
    "# Create new ID column with the new student ID\n",
    "enr['Anon_Student_ID'] = enr.CustomerID.map(lambda x: student_id_dict[x])"
   ]
  },
  {
   "cell_type": "code",
   "execution_count": null,
   "metadata": {
    "collapsed": true
   },
   "outputs": [],
   "source": [
    "privacy_cols_to_drop = ['CustomerName','CustomerID','ImportOrgID','ImportUserID','FirstName','MiddleName','LastName','LogonID','Email', 'MessageCenterID','StudentPhone','TeacherName','TeacherEmail','MentorCustomerID', 'MentorName', 'MentorEmail','SCCustomerID','SCName','SCEmail','CoachEmails']"
   ]
  },
  {
   "cell_type": "code",
   "execution_count": null,
   "metadata": {
    "collapsed": true
   },
   "outputs": [],
   "source": [
    "enr.drop(privacy_cols_to_drop, inplace=True, axis=1)"
   ]
  },
  {
   "cell_type": "code",
   "execution_count": null,
   "metadata": {
    "collapsed": true
   },
   "outputs": [],
   "source": [
    "# Verify each expected column was dropped\n",
    "for x in privacy_cols_to_drop:\n",
    "    if x in list(enr.columns):\n",
    "        print x+\",\"+\"still there\"\n",
    "    else:\n",
    "        print x+\",\"+\"successfully deleted\""
   ]
  },
  {
   "cell_type": "code",
   "execution_count": null,
   "metadata": {
    "collapsed": true
   },
   "outputs": [],
   "source": [
    "# Examine remaining columns\n",
    "list(enr.columns)"
   ]
  },
  {
   "cell_type": "code",
   "execution_count": null,
   "metadata": {
    "collapsed": true
   },
   "outputs": [],
   "source": [
    "# export anonymized dataframe\n",
    "# index=False because will use one of the columns as the index when re-importing\n",
    "writer = pd.ExcelWriter(\"ALVS_Enrollments_SY14-16_Anon.xlsx\")\n",
    "enr.to_excel(writer,index=False,header=True,sheet_name=\"Enrollments_SY14-16\")"
   ]
  }
 ],
 "metadata": {
  "kernelspec": {
   "display_name": "Python [python_molted]",
   "language": "python",
   "name": "Python [python_molted]"
  },
  "language_info": {
   "codemirror_mode": {
    "name": "ipython",
    "version": 2
   },
   "file_extension": ".py",
   "mimetype": "text/x-python",
   "name": "python",
   "nbconvert_exporter": "python",
   "pygments_lexer": "ipython2",
   "version": "2.7.12"
  }
 },
 "nbformat": 4,
 "nbformat_minor": 0
}

{
 "cells": [
  {
   "cell_type": "code",
   "execution_count": 1,
   "metadata": {
    "collapsed": true
   },
   "outputs": [],
   "source": [
    "import numpy as np\n",
    "import pandas as pd\n",
    "import seaborn as sns\n",
    "import matplotlib.pyplot as plt\n",
    "import random\n",
    "import csv\n",
    "%matplotlib inline"
   ]
  },
  {
   "cell_type": "markdown",
   "metadata": {},
   "source": [
    "## Note that the source data file used below is a version that was modified via Pandas to anonymize the data. The code used to perform the anonymization is available in the notebook named \"Anonymize_Data_Notebook.\""
   ]
  },
  {
   "cell_type": "code",
   "execution_count": 2,
   "metadata": {
    "collapsed": true
   },
   "outputs": [],
   "source": [
    "# read in Excel file; use col 1 (\"EnrollmentID\") as index\n",
    "# sourcefile also avail here: https://www.dropbox.com/s/oz2rhnb7ryp34dw/ALVS_Enrollments_SY14-16_Anon.xlsx?dl=0\n",
    "enr = pd.read_excel('ALVS_Enrollments_SY14-16_Anon.xlsx', index_col=1)"
   ]
  },
  {
   "cell_type": "markdown",
   "metadata": {},
   "source": [
    "### There were about 69,000 rows in original source data\n",
    "### I read in a file for just two years (SY 2014-2015 and SY 2015-2016), reducing the rows to about 34,000."
   ]
  },
  {
   "cell_type": "code",
   "execution_count": 3,
   "metadata": {
    "collapsed": false
   },
   "outputs": [
    {
     "data": {
      "text/plain": [
       "(33593, 117)"
      ]
     },
     "execution_count": 3,
     "metadata": {},
     "output_type": "execute_result"
    }
   ],
   "source": [
    "enr.shape"
   ]
  },
  {
   "cell_type": "markdown",
   "metadata": {},
   "source": [
    "### Some of these columns, e.g., the date columns, may need to be converted in order for calculations to be done.\n",
    "\n",
    "Below you can see some of my unsuccessful attempts to find the columns that have the word 'date' in them."
   ]
  },
  {
   "cell_type": "markdown",
   "metadata": {},
   "source": [
    "### In the next few cells, I converted the column names to a list so I could slice through them and explore what kinds of variables I had available.\n",
    "\n",
    "#### Some promising variables:\n",
    "* OnSchedulePercent'\n",
    "* u'GradeToDate',\n",
    "* u'LetterGradeToDate',\n",
    "* u'OverallGrade',\n",
    "* u'OverdueActivities',\n",
    "* u'TotalPointsEarnedOnActivitiesDueToNow',\n",
    "* u'TotalPointsPossibleDueToNow',\n",
    "* u'TotalPointsEarnedOnActivities',\n",
    "* u'TotalPointsAttempted',\n",
    "* u'TotalPointsPossible',\n",
    "* u'ExtraCredit',\n",
    "* u'NumOfScoredActivitiesByCourse',\n",
    "* u'NumOfScoredActivitiesCompletedByCourse',"
   ]
  },
  {
   "cell_type": "code",
   "execution_count": 164,
   "metadata": {
    "collapsed": true
   },
   "outputs": [],
   "source": [
    "col_list = list(enr.columns)"
   ]
  },
  {
   "cell_type": "code",
   "execution_count": 165,
   "metadata": {
    "collapsed": false
   },
   "outputs": [
    {
     "data": {
      "text/plain": [
       "[u'LastDueDate',\n",
       " u'Extension_Granted',\n",
       " u'ExtensionDate',\n",
       " u'EnrollmentCount',\n",
       " u'ProductTypeID',\n",
       " u'CustomerName',\n",
       " u'CustomerID',\n",
       " u'UniverseName',\n",
       " u'UniverseID',\n",
       " u'TopParentOrgName',\n",
       " u'TopParentOrgID',\n",
       " u'ParentOrgName',\n",
       " u'ParentOrgID',\n",
       " u'OrgName',\n",
       " u'OrgState',\n",
       " u'OrgID',\n",
       " u'OrgType',\n",
       " u'ImportOrgID',\n",
       " u'ImportUserID',\n",
       " u'FirstName']"
      ]
     },
     "execution_count": 165,
     "metadata": {},
     "output_type": "execute_result"
    }
   ],
   "source": [
    "col_list[:20]"
   ]
  },
  {
   "cell_type": "code",
   "execution_count": 166,
   "metadata": {
    "collapsed": false,
    "scrolled": true
   },
   "outputs": [
    {
     "data": {
      "text/plain": [
       "[u'LastName',\n",
       " u'LogonID',\n",
       " u'Email',\n",
       " u'MessageCenterID',\n",
       " u'StudentPhone',\n",
       " u'SchoolYear',\n",
       " u'TimePeriodName',\n",
       " u'Semester',\n",
       " u'SemesterID',\n",
       " u'TrackName',\n",
       " u'SubjectName',\n",
       " u'CommonCore',\n",
       " u'ProductCode',\n",
       " u'ProductName',\n",
       " u'SectionID',\n",
       " u'ClassroomName',\n",
       " u'ClasssroomIsActive',\n",
       " u'ClassroomArchiveDate',\n",
       " u'ClassroomArchived',\n",
       " u'ClassroomID',\n",
       " u'CopiedSection',\n",
       " u'ProgramID',\n",
       " u'ProgramCode',\n",
       " u'ProgramName',\n",
       " u'ClassroomEcode',\n",
       " u'ImportClassroomID',\n",
       " u'IsProctored',\n",
       " u'SpecialScheduleIND',\n",
       " u'EnrollmentStatus']"
      ]
     },
     "execution_count": 166,
     "metadata": {},
     "output_type": "execute_result"
    }
   ],
   "source": [
    "col_list[21:50]"
   ]
  },
  {
   "cell_type": "code",
   "execution_count": 167,
   "metadata": {
    "collapsed": false
   },
   "outputs": [
    {
     "data": {
      "text/plain": [
       "[u'EnrollmentStatusALHS',\n",
       " u'EnrollmentStatusALHSID',\n",
       " u'EnrollmentDate',\n",
       " u'StudentStartDate',\n",
       " u'ClassroomStartDate',\n",
       " u'ALHSPaidEnrollment',\n",
       " u'Started',\n",
       " u'Served',\n",
       " u'EnrollmentDays',\n",
       " u'Readiness',\n",
       " u'StartToFirstAccessDays',\n",
       " u'StartedThree',\n",
       " u'CourseDurationDays',\n",
       " u'DaysSinceStart',\n",
       " u'CreditStatusCategory',\n",
       " u'LastLogin',\n",
       " u'FirstAccessed',\n",
       " u'LastAccessed',\n",
       " u'DaysSinceLastAccess',\n",
       " u'TotalTimeSpentOnCourse_Hours',\n",
       " u'TotalTimeSpentOnCourse_Minutes',\n",
       " u'TotalTimeSpentOnCourse',\n",
       " u'LA28',\n",
       " u'Dropped',\n",
       " u'EffectiveWithdrawalDate',\n",
       " u'WithdrawalDate',\n",
       " u'WithdrawReason',\n",
       " u'WithdrawCreditStatus',\n",
       " u'FinalGrade']"
      ]
     },
     "execution_count": 167,
     "metadata": {},
     "output_type": "execute_result"
    }
   ],
   "source": [
    "col_list[51:80]"
   ]
  },
  {
   "cell_type": "code",
   "execution_count": 168,
   "metadata": {
    "collapsed": false
   },
   "outputs": [
    {
     "data": {
      "text/plain": [
       "[u'Passing',\n",
       " u'ValidGrade',\n",
       " u'CompletionDate',\n",
       " u'CompletionDaysOld',\n",
       " u'CompletionDaysNew',\n",
       " u'QualityOfWork',\n",
       " u'Progress',\n",
       " u'OnSchedulePercent',\n",
       " u'GradeToDate',\n",
       " u'LetterGradeToDate',\n",
       " u'OverallGrade',\n",
       " u'TeacherCustomerID',\n",
       " u'TeacherEnrollID',\n",
       " u'TeacherName',\n",
       " u'TeacherEmail',\n",
       " u'TeacherEnrollmentStatusTypeID',\n",
       " u'TeacherLastLogin',\n",
       " u'MentorCustomerID',\n",
       " u'MentorName',\n",
       " u'MentorEmail',\n",
       " u'MentorLastLogin',\n",
       " u'SCCustomerID',\n",
       " u'SCName',\n",
       " u'SCEmail',\n",
       " u'SCLastLogin',\n",
       " u'ActivityCountComplete',\n",
       " u'ActivityCountTotal',\n",
       " u'ActivityCompletePerc',\n",
       " u'ActivityCountDueToNow']"
      ]
     },
     "execution_count": 168,
     "metadata": {},
     "output_type": "execute_result"
    }
   ],
   "source": [
    "col_list[81:110]"
   ]
  },
  {
   "cell_type": "code",
   "execution_count": 169,
   "metadata": {
    "collapsed": false
   },
   "outputs": [
    {
     "data": {
      "text/plain": [
       "[u'OverdueActivities',\n",
       " u'TotalPointsEarnedOnActivitiesDueToNow',\n",
       " u'TotalPointsPossibleDueToNow',\n",
       " u'TotalPointsEarnedOnActivities',\n",
       " u'TotalPointsAttempted',\n",
       " u'TotalPointsPossible',\n",
       " u'ExtraCredit',\n",
       " u'NumOfScoredActivitiesByCourse',\n",
       " u'NumOfScoredActivitiesCompletedByCourse',\n",
       " u'TotalPointsPossible_Non_ModifiedCourseWithDiagExcluded',\n",
       " u'TotalPointsPossible_Non_ModifiedCourse',\n",
       " u'TotalPointsPossible_ModifiedCourse_TeacherScoredWork',\n",
       " u'TotalPointsPossible_ModifiedCourse_ComputerScoredWork',\n",
       " u'TotalPointsPossible_ModifiedCourse',\n",
       " u'TotalPointsExcluded',\n",
       " u'NON_DIAG_Points_Excluded',\n",
       " u'TotalPointsEarned_TeacherScoredActivities',\n",
       " u'TotalPointsEarned_ComputerScoredActivities',\n",
       " u'TestOutPoints',\n",
       " u'ExcusedPoints',\n",
       " u'Count_of_Teacher_Excluded_Activities',\n",
       " u'CoachEmails',\n",
       " u'ALHS_Pathway',\n",
       " u'ALHSWithdrawnFC',\n",
       " 'Unnamed: 136']"
      ]
     },
     "execution_count": 169,
     "metadata": {},
     "output_type": "execute_result"
    }
   ],
   "source": [
    "col_list[111:len(col_list)+1]"
   ]
  },
  {
   "cell_type": "markdown",
   "metadata": {},
   "source": [
    "### Then I checked my counts.\n",
    "### There was growth in enrollments between the school year 14-15 and 15-16.\n",
    "I'll need to take that into account for any kind of seasonal/semester view. The underlying growth trend could be a confounding factor, just like with the bike rental data we explored in class."
   ]
  },
  {
   "cell_type": "code",
   "execution_count": 170,
   "metadata": {
    "collapsed": false
   },
   "outputs": [
    {
     "data": {
      "text/html": [
       "<div>\n",
       "<table border=\"1\" class=\"dataframe\">\n",
       "  <thead>\n",
       "    <tr style=\"text-align: right;\">\n",
       "      <th></th>\n",
       "      <th>LastDueDate</th>\n",
       "      <th>Extension_Granted</th>\n",
       "      <th>ExtensionDate</th>\n",
       "      <th>EnrollmentCount</th>\n",
       "      <th>ProductTypeID</th>\n",
       "      <th>CustomerName</th>\n",
       "      <th>CustomerID</th>\n",
       "      <th>UniverseName</th>\n",
       "      <th>UniverseID</th>\n",
       "      <th>TopParentOrgName</th>\n",
       "      <th>...</th>\n",
       "      <th>NON_DIAG_Points_Excluded</th>\n",
       "      <th>TotalPointsEarned_TeacherScoredActivities</th>\n",
       "      <th>TotalPointsEarned_ComputerScoredActivities</th>\n",
       "      <th>TestOutPoints</th>\n",
       "      <th>ExcusedPoints</th>\n",
       "      <th>Count_of_Teacher_Excluded_Activities</th>\n",
       "      <th>CoachEmails</th>\n",
       "      <th>ALHS_Pathway</th>\n",
       "      <th>ALHSWithdrawnFC</th>\n",
       "      <th>Unnamed: 136</th>\n",
       "    </tr>\n",
       "    <tr>\n",
       "      <th>SchoolYear</th>\n",
       "      <th></th>\n",
       "      <th></th>\n",
       "      <th></th>\n",
       "      <th></th>\n",
       "      <th></th>\n",
       "      <th></th>\n",
       "      <th></th>\n",
       "      <th></th>\n",
       "      <th></th>\n",
       "      <th></th>\n",
       "      <th></th>\n",
       "      <th></th>\n",
       "      <th></th>\n",
       "      <th></th>\n",
       "      <th></th>\n",
       "      <th></th>\n",
       "      <th></th>\n",
       "      <th></th>\n",
       "      <th></th>\n",
       "      <th></th>\n",
       "      <th></th>\n",
       "    </tr>\n",
       "  </thead>\n",
       "  <tbody>\n",
       "    <tr>\n",
       "      <th>SY 14-15</th>\n",
       "      <td>13099</td>\n",
       "      <td>1086</td>\n",
       "      <td>1975</td>\n",
       "      <td>15067</td>\n",
       "      <td>15067</td>\n",
       "      <td>15067</td>\n",
       "      <td>15067</td>\n",
       "      <td>15067</td>\n",
       "      <td>15067</td>\n",
       "      <td>15057</td>\n",
       "      <td>...</td>\n",
       "      <td>0</td>\n",
       "      <td>0</td>\n",
       "      <td>0</td>\n",
       "      <td>15067</td>\n",
       "      <td>15067</td>\n",
       "      <td>0</td>\n",
       "      <td>11246</td>\n",
       "      <td>15067</td>\n",
       "      <td>0</td>\n",
       "      <td>0</td>\n",
       "    </tr>\n",
       "    <tr>\n",
       "      <th>SY 15-16</th>\n",
       "      <td>18066</td>\n",
       "      <td>1844</td>\n",
       "      <td>1844</td>\n",
       "      <td>18525</td>\n",
       "      <td>18525</td>\n",
       "      <td>18525</td>\n",
       "      <td>18525</td>\n",
       "      <td>18525</td>\n",
       "      <td>18525</td>\n",
       "      <td>18518</td>\n",
       "      <td>...</td>\n",
       "      <td>18525</td>\n",
       "      <td>18525</td>\n",
       "      <td>18525</td>\n",
       "      <td>18525</td>\n",
       "      <td>18525</td>\n",
       "      <td>18525</td>\n",
       "      <td>14450</td>\n",
       "      <td>18525</td>\n",
       "      <td>0</td>\n",
       "      <td>0</td>\n",
       "    </tr>\n",
       "    <tr>\n",
       "      <th>SchoolYear</th>\n",
       "      <td>1</td>\n",
       "      <td>1</td>\n",
       "      <td>1</td>\n",
       "      <td>1</td>\n",
       "      <td>1</td>\n",
       "      <td>1</td>\n",
       "      <td>1</td>\n",
       "      <td>1</td>\n",
       "      <td>1</td>\n",
       "      <td>1</td>\n",
       "      <td>...</td>\n",
       "      <td>1</td>\n",
       "      <td>1</td>\n",
       "      <td>1</td>\n",
       "      <td>1</td>\n",
       "      <td>1</td>\n",
       "      <td>1</td>\n",
       "      <td>1</td>\n",
       "      <td>1</td>\n",
       "      <td>1</td>\n",
       "      <td>0</td>\n",
       "    </tr>\n",
       "  </tbody>\n",
       "</table>\n",
       "<p>3 rows × 135 columns</p>\n",
       "</div>"
      ],
      "text/plain": [
       "            LastDueDate  Extension_Granted  ExtensionDate  EnrollmentCount  \\\n",
       "SchoolYear                                                                   \n",
       "SY 14-15          13099               1086           1975            15067   \n",
       "SY 15-16          18066               1844           1844            18525   \n",
       "SchoolYear            1                  1              1                1   \n",
       "\n",
       "            ProductTypeID  CustomerName  CustomerID  UniverseName  UniverseID  \\\n",
       "SchoolYear                                                                      \n",
       "SY 14-15            15067         15067       15067         15067       15067   \n",
       "SY 15-16            18525         18525       18525         18525       18525   \n",
       "SchoolYear              1             1           1             1           1   \n",
       "\n",
       "            TopParentOrgName      ...       NON_DIAG_Points_Excluded  \\\n",
       "SchoolYear                        ...                                  \n",
       "SY 14-15               15057      ...                              0   \n",
       "SY 15-16               18518      ...                          18525   \n",
       "SchoolYear                 1      ...                              1   \n",
       "\n",
       "            TotalPointsEarned_TeacherScoredActivities  \\\n",
       "SchoolYear                                              \n",
       "SY 14-15                                            0   \n",
       "SY 15-16                                        18525   \n",
       "SchoolYear                                          1   \n",
       "\n",
       "            TotalPointsEarned_ComputerScoredActivities  TestOutPoints  \\\n",
       "SchoolYear                                                              \n",
       "SY 14-15                                             0          15067   \n",
       "SY 15-16                                         18525          18525   \n",
       "SchoolYear                                           1              1   \n",
       "\n",
       "            ExcusedPoints  Count_of_Teacher_Excluded_Activities  CoachEmails  \\\n",
       "SchoolYear                                                                     \n",
       "SY 14-15            15067                                     0        11246   \n",
       "SY 15-16            18525                                 18525        14450   \n",
       "SchoolYear              1                                     1            1   \n",
       "\n",
       "            ALHS_Pathway  ALHSWithdrawnFC  Unnamed: 136  \n",
       "SchoolYear                                               \n",
       "SY 14-15           15067                0             0  \n",
       "SY 15-16           18525                0             0  \n",
       "SchoolYear             1                1             0  \n",
       "\n",
       "[3 rows x 135 columns]"
      ]
     },
     "execution_count": 170,
     "metadata": {},
     "output_type": "execute_result"
    }
   ],
   "source": [
    "enr.groupby('SchoolYear').count()"
   ]
  },
  {
   "cell_type": "markdown",
   "metadata": {},
   "source": [
    "### Because my definition of student success will involve a grade of some kind, I decided to explore relationship between grade and other factors, e.g., subject."
   ]
  },
  {
   "cell_type": "code",
   "execution_count": 172,
   "metadata": {
    "collapsed": false
   },
   "outputs": [
    {
     "data": {
      "text/plain": [
       "Index([u'FinalGrade', u'GradeTranslation', u'ValidGrade', u'GradeToDate',\n",
       "       u'LetterGradeToDate', u'OverallGrade'],\n",
       "      dtype='object')"
      ]
     },
     "execution_count": 172,
     "metadata": {},
     "output_type": "execute_result"
    }
   ],
   "source": [
    "enr.columns[enr.columns.str.contains('Grade')]"
   ]
  },
  {
   "cell_type": "code",
   "execution_count": 173,
   "metadata": {
    "collapsed": false
   },
   "outputs": [
    {
     "data": {
      "text/html": [
       "<div>\n",
       "<table border=\"1\" class=\"dataframe\">\n",
       "  <thead>\n",
       "    <tr style=\"text-align: right;\">\n",
       "      <th></th>\n",
       "      <th>LastDueDate</th>\n",
       "      <th>Extension_Granted</th>\n",
       "      <th>ExtensionDate</th>\n",
       "      <th>EnrollmentCount</th>\n",
       "      <th>ProductTypeID</th>\n",
       "      <th>CustomerName</th>\n",
       "      <th>CustomerID</th>\n",
       "      <th>UniverseName</th>\n",
       "      <th>UniverseID</th>\n",
       "      <th>TopParentOrgName</th>\n",
       "      <th>...</th>\n",
       "      <th>NON_DIAG_Points_Excluded</th>\n",
       "      <th>TotalPointsEarned_TeacherScoredActivities</th>\n",
       "      <th>TotalPointsEarned_ComputerScoredActivities</th>\n",
       "      <th>TestOutPoints</th>\n",
       "      <th>ExcusedPoints</th>\n",
       "      <th>Count_of_Teacher_Excluded_Activities</th>\n",
       "      <th>CoachEmails</th>\n",
       "      <th>ALHS_Pathway</th>\n",
       "      <th>ALHSWithdrawnFC</th>\n",
       "      <th>Unnamed: 136</th>\n",
       "    </tr>\n",
       "    <tr>\n",
       "      <th>GradeTranslation</th>\n",
       "      <th></th>\n",
       "      <th></th>\n",
       "      <th></th>\n",
       "      <th></th>\n",
       "      <th></th>\n",
       "      <th></th>\n",
       "      <th></th>\n",
       "      <th></th>\n",
       "      <th></th>\n",
       "      <th></th>\n",
       "      <th></th>\n",
       "      <th></th>\n",
       "      <th></th>\n",
       "      <th></th>\n",
       "      <th></th>\n",
       "      <th></th>\n",
       "      <th></th>\n",
       "      <th></th>\n",
       "      <th></th>\n",
       "      <th></th>\n",
       "      <th></th>\n",
       "    </tr>\n",
       "  </thead>\n",
       "  <tbody>\n",
       "    <tr>\n",
       "      <th>A</th>\n",
       "      <td>7481</td>\n",
       "      <td>601</td>\n",
       "      <td>775</td>\n",
       "      <td>7802</td>\n",
       "      <td>7802</td>\n",
       "      <td>7802</td>\n",
       "      <td>7802</td>\n",
       "      <td>7802</td>\n",
       "      <td>7802</td>\n",
       "      <td>7798</td>\n",
       "      <td>...</td>\n",
       "      <td>4063</td>\n",
       "      <td>4063</td>\n",
       "      <td>4063</td>\n",
       "      <td>7802</td>\n",
       "      <td>7802</td>\n",
       "      <td>4063</td>\n",
       "      <td>6457</td>\n",
       "      <td>7802</td>\n",
       "      <td>0</td>\n",
       "      <td>0</td>\n",
       "    </tr>\n",
       "    <tr>\n",
       "      <th>B</th>\n",
       "      <td>5852</td>\n",
       "      <td>663</td>\n",
       "      <td>866</td>\n",
       "      <td>6140</td>\n",
       "      <td>6140</td>\n",
       "      <td>6140</td>\n",
       "      <td>6140</td>\n",
       "      <td>6140</td>\n",
       "      <td>6140</td>\n",
       "      <td>6140</td>\n",
       "      <td>...</td>\n",
       "      <td>3189</td>\n",
       "      <td>3189</td>\n",
       "      <td>3189</td>\n",
       "      <td>6140</td>\n",
       "      <td>6140</td>\n",
       "      <td>3189</td>\n",
       "      <td>4724</td>\n",
       "      <td>6140</td>\n",
       "      <td>0</td>\n",
       "      <td>0</td>\n",
       "    </tr>\n",
       "    <tr>\n",
       "      <th>C</th>\n",
       "      <td>3582</td>\n",
       "      <td>478</td>\n",
       "      <td>608</td>\n",
       "      <td>3723</td>\n",
       "      <td>3723</td>\n",
       "      <td>3723</td>\n",
       "      <td>3723</td>\n",
       "      <td>3723</td>\n",
       "      <td>3723</td>\n",
       "      <td>3722</td>\n",
       "      <td>...</td>\n",
       "      <td>2059</td>\n",
       "      <td>2059</td>\n",
       "      <td>2059</td>\n",
       "      <td>3723</td>\n",
       "      <td>3723</td>\n",
       "      <td>2059</td>\n",
       "      <td>2701</td>\n",
       "      <td>3723</td>\n",
       "      <td>0</td>\n",
       "      <td>0</td>\n",
       "    </tr>\n",
       "    <tr>\n",
       "      <th>D</th>\n",
       "      <td>2316</td>\n",
       "      <td>387</td>\n",
       "      <td>497</td>\n",
       "      <td>2410</td>\n",
       "      <td>2410</td>\n",
       "      <td>2410</td>\n",
       "      <td>2410</td>\n",
       "      <td>2410</td>\n",
       "      <td>2410</td>\n",
       "      <td>2410</td>\n",
       "      <td>...</td>\n",
       "      <td>1401</td>\n",
       "      <td>1401</td>\n",
       "      <td>1401</td>\n",
       "      <td>2410</td>\n",
       "      <td>2410</td>\n",
       "      <td>1401</td>\n",
       "      <td>1678</td>\n",
       "      <td>2410</td>\n",
       "      <td>0</td>\n",
       "      <td>0</td>\n",
       "    </tr>\n",
       "    <tr>\n",
       "      <th>E</th>\n",
       "      <td>7123</td>\n",
       "      <td>651</td>\n",
       "      <td>852</td>\n",
       "      <td>7814</td>\n",
       "      <td>7814</td>\n",
       "      <td>7814</td>\n",
       "      <td>7814</td>\n",
       "      <td>7814</td>\n",
       "      <td>7814</td>\n",
       "      <td>7813</td>\n",
       "      <td>...</td>\n",
       "      <td>4452</td>\n",
       "      <td>4452</td>\n",
       "      <td>4452</td>\n",
       "      <td>7814</td>\n",
       "      <td>7814</td>\n",
       "      <td>4452</td>\n",
       "      <td>5996</td>\n",
       "      <td>7814</td>\n",
       "      <td>0</td>\n",
       "      <td>0</td>\n",
       "    </tr>\n",
       "    <tr>\n",
       "      <th>GradeTranslation</th>\n",
       "      <td>1</td>\n",
       "      <td>1</td>\n",
       "      <td>1</td>\n",
       "      <td>1</td>\n",
       "      <td>1</td>\n",
       "      <td>1</td>\n",
       "      <td>1</td>\n",
       "      <td>1</td>\n",
       "      <td>1</td>\n",
       "      <td>1</td>\n",
       "      <td>...</td>\n",
       "      <td>1</td>\n",
       "      <td>1</td>\n",
       "      <td>1</td>\n",
       "      <td>1</td>\n",
       "      <td>1</td>\n",
       "      <td>1</td>\n",
       "      <td>1</td>\n",
       "      <td>1</td>\n",
       "      <td>1</td>\n",
       "      <td>0</td>\n",
       "    </tr>\n",
       "    <tr>\n",
       "      <th>O</th>\n",
       "      <td>171</td>\n",
       "      <td>0</td>\n",
       "      <td>0</td>\n",
       "      <td>175</td>\n",
       "      <td>175</td>\n",
       "      <td>175</td>\n",
       "      <td>175</td>\n",
       "      <td>175</td>\n",
       "      <td>175</td>\n",
       "      <td>175</td>\n",
       "      <td>...</td>\n",
       "      <td>158</td>\n",
       "      <td>158</td>\n",
       "      <td>158</td>\n",
       "      <td>175</td>\n",
       "      <td>175</td>\n",
       "      <td>158</td>\n",
       "      <td>133</td>\n",
       "      <td>175</td>\n",
       "      <td>0</td>\n",
       "      <td>0</td>\n",
       "    </tr>\n",
       "  </tbody>\n",
       "</table>\n",
       "<p>7 rows × 135 columns</p>\n",
       "</div>"
      ],
      "text/plain": [
       "                  LastDueDate  Extension_Granted  ExtensionDate  \\\n",
       "GradeTranslation                                                  \n",
       "A                        7481                601            775   \n",
       "B                        5852                663            866   \n",
       "C                        3582                478            608   \n",
       "D                        2316                387            497   \n",
       "E                        7123                651            852   \n",
       "GradeTranslation            1                  1              1   \n",
       "O                         171                  0              0   \n",
       "\n",
       "                  EnrollmentCount  ProductTypeID  CustomerName  CustomerID  \\\n",
       "GradeTranslation                                                             \n",
       "A                            7802           7802          7802        7802   \n",
       "B                            6140           6140          6140        6140   \n",
       "C                            3723           3723          3723        3723   \n",
       "D                            2410           2410          2410        2410   \n",
       "E                            7814           7814          7814        7814   \n",
       "GradeTranslation                1              1             1           1   \n",
       "O                             175            175           175         175   \n",
       "\n",
       "                  UniverseName  UniverseID  TopParentOrgName      ...       \\\n",
       "GradeTranslation                                                  ...        \n",
       "A                         7802        7802              7798      ...        \n",
       "B                         6140        6140              6140      ...        \n",
       "C                         3723        3723              3722      ...        \n",
       "D                         2410        2410              2410      ...        \n",
       "E                         7814        7814              7813      ...        \n",
       "GradeTranslation             1           1                 1      ...        \n",
       "O                          175         175               175      ...        \n",
       "\n",
       "                  NON_DIAG_Points_Excluded  \\\n",
       "GradeTranslation                             \n",
       "A                                     4063   \n",
       "B                                     3189   \n",
       "C                                     2059   \n",
       "D                                     1401   \n",
       "E                                     4452   \n",
       "GradeTranslation                         1   \n",
       "O                                      158   \n",
       "\n",
       "                  TotalPointsEarned_TeacherScoredActivities  \\\n",
       "GradeTranslation                                              \n",
       "A                                                      4063   \n",
       "B                                                      3189   \n",
       "C                                                      2059   \n",
       "D                                                      1401   \n",
       "E                                                      4452   \n",
       "GradeTranslation                                          1   \n",
       "O                                                       158   \n",
       "\n",
       "                  TotalPointsEarned_ComputerScoredActivities  TestOutPoints  \\\n",
       "GradeTranslation                                                              \n",
       "A                                                       4063           7802   \n",
       "B                                                       3189           6140   \n",
       "C                                                       2059           3723   \n",
       "D                                                       1401           2410   \n",
       "E                                                       4452           7814   \n",
       "GradeTranslation                                           1              1   \n",
       "O                                                        158            175   \n",
       "\n",
       "                  ExcusedPoints  Count_of_Teacher_Excluded_Activities  \\\n",
       "GradeTranslation                                                        \n",
       "A                          7802                                  4063   \n",
       "B                          6140                                  3189   \n",
       "C                          3723                                  2059   \n",
       "D                          2410                                  1401   \n",
       "E                          7814                                  4452   \n",
       "GradeTranslation              1                                     1   \n",
       "O                           175                                   158   \n",
       "\n",
       "                  CoachEmails  ALHS_Pathway  ALHSWithdrawnFC  Unnamed: 136  \n",
       "GradeTranslation                                                            \n",
       "A                        6457          7802                0             0  \n",
       "B                        4724          6140                0             0  \n",
       "C                        2701          3723                0             0  \n",
       "D                        1678          2410                0             0  \n",
       "E                        5996          7814                0             0  \n",
       "GradeTranslation            1             1                1             0  \n",
       "O                         133           175                0             0  \n",
       "\n",
       "[7 rows x 135 columns]"
      ]
     },
     "execution_count": 173,
     "metadata": {},
     "output_type": "execute_result"
    }
   ],
   "source": [
    "enr.groupby('GradeTranslation').count()"
   ]
  },
  {
   "cell_type": "markdown",
   "metadata": {},
   "source": [
    "## How many students completed the course?\n",
    "## At this stage I want to explore only those students.\n",
    "Future exploration could be done on progress throughout a course, but that would require combining data week-over-week or month-over-month for the same course and same student. \n",
    "\n",
    "At this stage of the project the cleanest option is to look at students who completed the course, examine their final grade, and then try to identify factors that are associated with high and low final grades."
   ]
  },
  {
   "cell_type": "code",
   "execution_count": 174,
   "metadata": {
    "collapsed": false
   },
   "outputs": [
    {
     "data": {
      "text/html": [
       "<div>\n",
       "<table border=\"1\" class=\"dataframe\">\n",
       "  <thead>\n",
       "    <tr style=\"text-align: right;\">\n",
       "      <th></th>\n",
       "      <th>LastDueDate</th>\n",
       "      <th>Extension_Granted</th>\n",
       "      <th>ExtensionDate</th>\n",
       "      <th>EnrollmentCount</th>\n",
       "      <th>ProductTypeID</th>\n",
       "      <th>CustomerName</th>\n",
       "      <th>CustomerID</th>\n",
       "      <th>UniverseName</th>\n",
       "      <th>UniverseID</th>\n",
       "      <th>TopParentOrgName</th>\n",
       "      <th>...</th>\n",
       "      <th>NON_DIAG_Points_Excluded</th>\n",
       "      <th>TotalPointsEarned_TeacherScoredActivities</th>\n",
       "      <th>TotalPointsEarned_ComputerScoredActivities</th>\n",
       "      <th>TestOutPoints</th>\n",
       "      <th>ExcusedPoints</th>\n",
       "      <th>Count_of_Teacher_Excluded_Activities</th>\n",
       "      <th>CoachEmails</th>\n",
       "      <th>ALHS_Pathway</th>\n",
       "      <th>ALHSWithdrawnFC</th>\n",
       "      <th>Unnamed: 136</th>\n",
       "    </tr>\n",
       "    <tr>\n",
       "      <th>EnrollmentStatus</th>\n",
       "      <th></th>\n",
       "      <th></th>\n",
       "      <th></th>\n",
       "      <th></th>\n",
       "      <th></th>\n",
       "      <th></th>\n",
       "      <th></th>\n",
       "      <th></th>\n",
       "      <th></th>\n",
       "      <th></th>\n",
       "      <th></th>\n",
       "      <th></th>\n",
       "      <th></th>\n",
       "      <th></th>\n",
       "      <th></th>\n",
       "      <th></th>\n",
       "      <th></th>\n",
       "      <th></th>\n",
       "      <th></th>\n",
       "      <th></th>\n",
       "      <th></th>\n",
       "    </tr>\n",
       "  </thead>\n",
       "  <tbody>\n",
       "    <tr>\n",
       "      <th>Active</th>\n",
       "      <td>694</td>\n",
       "      <td>33</td>\n",
       "      <td>33</td>\n",
       "      <td>716</td>\n",
       "      <td>716</td>\n",
       "      <td>716</td>\n",
       "      <td>716</td>\n",
       "      <td>716</td>\n",
       "      <td>716</td>\n",
       "      <td>716</td>\n",
       "      <td>...</td>\n",
       "      <td>687</td>\n",
       "      <td>687</td>\n",
       "      <td>687</td>\n",
       "      <td>716</td>\n",
       "      <td>716</td>\n",
       "      <td>687</td>\n",
       "      <td>683</td>\n",
       "      <td>716</td>\n",
       "      <td>0</td>\n",
       "      <td>0</td>\n",
       "    </tr>\n",
       "    <tr>\n",
       "      <th>Complete</th>\n",
       "      <td>26525</td>\n",
       "      <td>2780</td>\n",
       "      <td>3598</td>\n",
       "      <td>28064</td>\n",
       "      <td>28064</td>\n",
       "      <td>28064</td>\n",
       "      <td>28064</td>\n",
       "      <td>28064</td>\n",
       "      <td>28064</td>\n",
       "      <td>28058</td>\n",
       "      <td>...</td>\n",
       "      <td>15322</td>\n",
       "      <td>15322</td>\n",
       "      <td>15322</td>\n",
       "      <td>28064</td>\n",
       "      <td>28064</td>\n",
       "      <td>15322</td>\n",
       "      <td>21689</td>\n",
       "      <td>28064</td>\n",
       "      <td>0</td>\n",
       "      <td>0</td>\n",
       "    </tr>\n",
       "    <tr>\n",
       "      <th>EnrollmentStatus</th>\n",
       "      <td>1</td>\n",
       "      <td>1</td>\n",
       "      <td>1</td>\n",
       "      <td>1</td>\n",
       "      <td>1</td>\n",
       "      <td>1</td>\n",
       "      <td>1</td>\n",
       "      <td>1</td>\n",
       "      <td>1</td>\n",
       "      <td>1</td>\n",
       "      <td>...</td>\n",
       "      <td>1</td>\n",
       "      <td>1</td>\n",
       "      <td>1</td>\n",
       "      <td>1</td>\n",
       "      <td>1</td>\n",
       "      <td>1</td>\n",
       "      <td>1</td>\n",
       "      <td>1</td>\n",
       "      <td>1</td>\n",
       "      <td>0</td>\n",
       "    </tr>\n",
       "    <tr>\n",
       "      <th>Withdrawn</th>\n",
       "      <td>3946</td>\n",
       "      <td>117</td>\n",
       "      <td>188</td>\n",
       "      <td>4812</td>\n",
       "      <td>4812</td>\n",
       "      <td>4812</td>\n",
       "      <td>4812</td>\n",
       "      <td>4812</td>\n",
       "      <td>4812</td>\n",
       "      <td>4801</td>\n",
       "      <td>...</td>\n",
       "      <td>2516</td>\n",
       "      <td>2516</td>\n",
       "      <td>2516</td>\n",
       "      <td>4812</td>\n",
       "      <td>4812</td>\n",
       "      <td>2516</td>\n",
       "      <td>3324</td>\n",
       "      <td>4812</td>\n",
       "      <td>0</td>\n",
       "      <td>0</td>\n",
       "    </tr>\n",
       "  </tbody>\n",
       "</table>\n",
       "<p>4 rows × 135 columns</p>\n",
       "</div>"
      ],
      "text/plain": [
       "                  LastDueDate  Extension_Granted  ExtensionDate  \\\n",
       "EnrollmentStatus                                                  \n",
       "Active                    694                 33             33   \n",
       "Complete                26525               2780           3598   \n",
       "EnrollmentStatus            1                  1              1   \n",
       "Withdrawn                3946                117            188   \n",
       "\n",
       "                  EnrollmentCount  ProductTypeID  CustomerName  CustomerID  \\\n",
       "EnrollmentStatus                                                             \n",
       "Active                        716            716           716         716   \n",
       "Complete                    28064          28064         28064       28064   \n",
       "EnrollmentStatus                1              1             1           1   \n",
       "Withdrawn                    4812           4812          4812        4812   \n",
       "\n",
       "                  UniverseName  UniverseID  TopParentOrgName      ...       \\\n",
       "EnrollmentStatus                                                  ...        \n",
       "Active                     716         716               716      ...        \n",
       "Complete                 28064       28064             28058      ...        \n",
       "EnrollmentStatus             1           1                 1      ...        \n",
       "Withdrawn                 4812        4812              4801      ...        \n",
       "\n",
       "                  NON_DIAG_Points_Excluded  \\\n",
       "EnrollmentStatus                             \n",
       "Active                                 687   \n",
       "Complete                             15322   \n",
       "EnrollmentStatus                         1   \n",
       "Withdrawn                             2516   \n",
       "\n",
       "                  TotalPointsEarned_TeacherScoredActivities  \\\n",
       "EnrollmentStatus                                              \n",
       "Active                                                  687   \n",
       "Complete                                              15322   \n",
       "EnrollmentStatus                                          1   \n",
       "Withdrawn                                              2516   \n",
       "\n",
       "                  TotalPointsEarned_ComputerScoredActivities  TestOutPoints  \\\n",
       "EnrollmentStatus                                                              \n",
       "Active                                                   687            716   \n",
       "Complete                                               15322          28064   \n",
       "EnrollmentStatus                                           1              1   \n",
       "Withdrawn                                               2516           4812   \n",
       "\n",
       "                  ExcusedPoints  Count_of_Teacher_Excluded_Activities  \\\n",
       "EnrollmentStatus                                                        \n",
       "Active                      716                                   687   \n",
       "Complete                  28064                                 15322   \n",
       "EnrollmentStatus              1                                     1   \n",
       "Withdrawn                  4812                                  2516   \n",
       "\n",
       "                  CoachEmails  ALHS_Pathway  ALHSWithdrawnFC  Unnamed: 136  \n",
       "EnrollmentStatus                                                            \n",
       "Active                    683           716                0             0  \n",
       "Complete                21689         28064                0             0  \n",
       "EnrollmentStatus            1             1                1             0  \n",
       "Withdrawn                3324          4812                0             0  \n",
       "\n",
       "[4 rows x 135 columns]"
      ]
     },
     "execution_count": 174,
     "metadata": {},
     "output_type": "execute_result"
    }
   ],
   "source": [
    "enr.groupby('EnrollmentStatus').count()"
   ]
  },
  {
   "cell_type": "code",
   "execution_count": 175,
   "metadata": {
    "collapsed": false
   },
   "outputs": [],
   "source": [
    "# Create dataframe of only those students who completed the course\n",
    "enr_complete = enr[enr['EnrollmentStatus'] == 'Complete']"
   ]
  },
  {
   "cell_type": "code",
   "execution_count": 176,
   "metadata": {
    "collapsed": false
   },
   "outputs": [],
   "source": [
    "# Create binary 'dummy' columns for each letter grade\n",
    "grade_dummies = pd.get_dummies(enr_complete.GradeTranslation, prefix='Grade')"
   ]
  },
  {
   "cell_type": "code",
   "execution_count": 177,
   "metadata": {
    "collapsed": false
   },
   "outputs": [
    {
     "data": {
      "text/plain": [
       "Grade_A    28064\n",
       "Grade_B    28064\n",
       "Grade_C    28064\n",
       "Grade_D    28064\n",
       "Grade_E    28064\n",
       "Grade_O    28064\n",
       "dtype: int64"
      ]
     },
     "execution_count": 177,
     "metadata": {},
     "output_type": "execute_result"
    }
   ],
   "source": [
    "grade_dummies.count()"
   ]
  },
  {
   "cell_type": "code",
   "execution_count": 178,
   "metadata": {
    "collapsed": false
   },
   "outputs": [
    {
     "data": {
      "text/plain": [
       "Grade_A    7802.0\n",
       "Grade_B    6140.0\n",
       "Grade_C    3723.0\n",
       "Grade_D    2410.0\n",
       "Grade_E    7814.0\n",
       "Grade_O     175.0\n",
       "dtype: float64"
      ]
     },
     "execution_count": 178,
     "metadata": {},
     "output_type": "execute_result"
    }
   ],
   "source": [
    "grade_dummies.sum()"
   ]
  },
  {
   "cell_type": "code",
   "execution_count": 179,
   "metadata": {
    "collapsed": true
   },
   "outputs": [],
   "source": [
    "# Concatenate the dummy columns to the main dataframe\n",
    "enr_complete = pd.concat([enr_complete, grade_dummies], axis=1)"
   ]
  },
  {
   "cell_type": "markdown",
   "metadata": {},
   "source": [
    "### Let's explore final grade obtained by subject."
   ]
  },
  {
   "cell_type": "code",
   "execution_count": 184,
   "metadata": {
    "collapsed": false
   },
   "outputs": [
    {
     "data": {
      "text/html": [
       "<div>\n",
       "<table border=\"1\" class=\"dataframe\">\n",
       "  <thead>\n",
       "    <tr style=\"text-align: right;\">\n",
       "      <th></th>\n",
       "      <th>Grade_A</th>\n",
       "      <th>Grade_B</th>\n",
       "      <th>Grade_C</th>\n",
       "      <th>Grade_D</th>\n",
       "      <th>Grade_E</th>\n",
       "      <th>Grade_O</th>\n",
       "    </tr>\n",
       "    <tr>\n",
       "      <th>SubjectName</th>\n",
       "      <th></th>\n",
       "      <th></th>\n",
       "      <th></th>\n",
       "      <th></th>\n",
       "      <th></th>\n",
       "      <th></th>\n",
       "    </tr>\n",
       "  </thead>\n",
       "  <tbody>\n",
       "    <tr>\n",
       "      <th>Electives</th>\n",
       "      <td>721.0</td>\n",
       "      <td>563.0</td>\n",
       "      <td>302.0</td>\n",
       "      <td>231.0</td>\n",
       "      <td>626.0</td>\n",
       "      <td>0.0</td>\n",
       "    </tr>\n",
       "    <tr>\n",
       "      <th>English</th>\n",
       "      <td>893.0</td>\n",
       "      <td>936.0</td>\n",
       "      <td>649.0</td>\n",
       "      <td>399.0</td>\n",
       "      <td>1260.0</td>\n",
       "      <td>3.0</td>\n",
       "    </tr>\n",
       "    <tr>\n",
       "      <th>Math</th>\n",
       "      <td>1836.0</td>\n",
       "      <td>1591.0</td>\n",
       "      <td>976.0</td>\n",
       "      <td>650.0</td>\n",
       "      <td>2192.0</td>\n",
       "      <td>6.0</td>\n",
       "    </tr>\n",
       "    <tr>\n",
       "      <th>Science</th>\n",
       "      <td>1367.0</td>\n",
       "      <td>833.0</td>\n",
       "      <td>543.0</td>\n",
       "      <td>365.0</td>\n",
       "      <td>1192.0</td>\n",
       "      <td>4.0</td>\n",
       "    </tr>\n",
       "    <tr>\n",
       "      <th>Social Studies</th>\n",
       "      <td>1489.0</td>\n",
       "      <td>1137.0</td>\n",
       "      <td>655.0</td>\n",
       "      <td>372.0</td>\n",
       "      <td>1318.0</td>\n",
       "      <td>7.0</td>\n",
       "    </tr>\n",
       "    <tr>\n",
       "      <th>World Language</th>\n",
       "      <td>1496.0</td>\n",
       "      <td>1080.0</td>\n",
       "      <td>598.0</td>\n",
       "      <td>393.0</td>\n",
       "      <td>1226.0</td>\n",
       "      <td>155.0</td>\n",
       "    </tr>\n",
       "  </tbody>\n",
       "</table>\n",
       "</div>"
      ],
      "text/plain": [
       "                Grade_A  Grade_B  Grade_C  Grade_D  Grade_E  Grade_O\n",
       "SubjectName                                                         \n",
       "Electives         721.0    563.0    302.0    231.0    626.0      0.0\n",
       "English           893.0    936.0    649.0    399.0   1260.0      3.0\n",
       "Math             1836.0   1591.0    976.0    650.0   2192.0      6.0\n",
       "Science          1367.0    833.0    543.0    365.0   1192.0      4.0\n",
       "Social Studies   1489.0   1137.0    655.0    372.0   1318.0      7.0\n",
       "World Language   1496.0   1080.0    598.0    393.0   1226.0    155.0"
      ]
     },
     "execution_count": 184,
     "metadata": {},
     "output_type": "execute_result"
    }
   ],
   "source": [
    "enr_complete.groupby('SubjectName')[letter_grades].sum()"
   ]
  },
  {
   "cell_type": "markdown",
   "metadata": {},
   "source": [
    "### There are a decent number of A's, but there are also a number of E's (which is used instead of F).\n",
    "### There are also O's, ~~and I will need to find out what that grade means.~~ which is probably related to a request by a school district to provide a special grade designation."
   ]
  },
  {
   "cell_type": "code",
   "execution_count": 185,
   "metadata": {
    "collapsed": false,
    "scrolled": true
   },
   "outputs": [
    {
     "data": {
      "text/html": [
       "<div>\n",
       "<table border=\"1\" class=\"dataframe\">\n",
       "  <thead>\n",
       "    <tr style=\"text-align: right;\">\n",
       "      <th></th>\n",
       "      <th>Unnamed: 136</th>\n",
       "      <th>Grade_A</th>\n",
       "      <th>Grade_B</th>\n",
       "      <th>Grade_C</th>\n",
       "      <th>Grade_D</th>\n",
       "      <th>Grade_E</th>\n",
       "      <th>Grade_O</th>\n",
       "    </tr>\n",
       "    <tr>\n",
       "      <th>TopParentOrgName</th>\n",
       "      <th></th>\n",
       "      <th></th>\n",
       "      <th></th>\n",
       "      <th></th>\n",
       "      <th></th>\n",
       "      <th></th>\n",
       "      <th></th>\n",
       "    </tr>\n",
       "  </thead>\n",
       "  <tbody>\n",
       "    <tr>\n",
       "      <th>ALVS - Full Time Program</th>\n",
       "      <td>NaN</td>\n",
       "      <td>0.0</td>\n",
       "      <td>0.0</td>\n",
       "      <td>0.0</td>\n",
       "      <td>0.0</td>\n",
       "      <td>0.0</td>\n",
       "      <td>7.0</td>\n",
       "    </tr>\n",
       "    <tr>\n",
       "      <th>ALVS - Part Time Program</th>\n",
       "      <td>NaN</td>\n",
       "      <td>0.0</td>\n",
       "      <td>0.0</td>\n",
       "      <td>0.0</td>\n",
       "      <td>0.0</td>\n",
       "      <td>0.0</td>\n",
       "      <td>2.0</td>\n",
       "    </tr>\n",
       "    <tr>\n",
       "      <th>ALVS District Partners</th>\n",
       "      <td>NaN</td>\n",
       "      <td>0.0</td>\n",
       "      <td>0.0</td>\n",
       "      <td>0.0</td>\n",
       "      <td>0.0</td>\n",
       "      <td>0.0</td>\n",
       "      <td>13.0</td>\n",
       "    </tr>\n",
       "    <tr>\n",
       "      <th>Aiken County Public School District</th>\n",
       "      <td>NaN</td>\n",
       "      <td>0.0</td>\n",
       "      <td>0.0</td>\n",
       "      <td>0.0</td>\n",
       "      <td>0.0</td>\n",
       "      <td>0.0</td>\n",
       "      <td>153.0</td>\n",
       "    </tr>\n",
       "  </tbody>\n",
       "</table>\n",
       "</div>"
      ],
      "text/plain": [
       "                                     Unnamed: 136  Grade_A  Grade_B  Grade_C  \\\n",
       "TopParentOrgName                                                               \n",
       "ALVS - Full Time Program                      NaN      0.0      0.0      0.0   \n",
       "ALVS - Part Time Program                      NaN      0.0      0.0      0.0   \n",
       "ALVS District Partners                        NaN      0.0      0.0      0.0   \n",
       "Aiken County Public School District           NaN      0.0      0.0      0.0   \n",
       "\n",
       "                                     Grade_D  Grade_E  Grade_O  \n",
       "TopParentOrgName                                                \n",
       "ALVS - Full Time Program                 0.0      0.0      7.0  \n",
       "ALVS - Part Time Program                 0.0      0.0      2.0  \n",
       "ALVS District Partners                   0.0      0.0     13.0  \n",
       "Aiken County Public School District      0.0      0.0    153.0  "
      ]
     },
     "execution_count": 185,
     "metadata": {},
     "output_type": "execute_result"
    }
   ],
   "source": [
    "enr_complete[enr_complete['Grade_O'] != 0].groupby('TopParentOrgName').sum()"
   ]
  },
  {
   "cell_type": "code",
   "execution_count": 186,
   "metadata": {
    "collapsed": true
   },
   "outputs": [],
   "source": [
    "grades_by_subject = enr_complete.groupby('SubjectName')[letter_grades].sum()"
   ]
  },
  {
   "cell_type": "code",
   "execution_count": 188,
   "metadata": {
    "collapsed": true
   },
   "outputs": [],
   "source": [
    "# Create dummy encoding for subject\n",
    "subject_dummies = pd.get_dummies(enr_complete.SubjectName, prefix='Subject')"
   ]
  },
  {
   "cell_type": "code",
   "execution_count": 189,
   "metadata": {
    "collapsed": false
   },
   "outputs": [
    {
     "data": {
      "text/plain": [
       "Subject_Electives         28064\n",
       "Subject_English           28064\n",
       "Subject_Math              28064\n",
       "Subject_Science           28064\n",
       "Subject_Social Studies    28064\n",
       "Subject_World Language    28064\n",
       "dtype: int64"
      ]
     },
     "execution_count": 189,
     "metadata": {},
     "output_type": "execute_result"
    }
   ],
   "source": [
    "subject_dummies.count()"
   ]
  },
  {
   "cell_type": "code",
   "execution_count": 190,
   "metadata": {
    "collapsed": false
   },
   "outputs": [
    {
     "data": {
      "text/plain": [
       "Subject_Electives         2443.0\n",
       "Subject_English           4140.0\n",
       "Subject_Math              7251.0\n",
       "Subject_Science           4304.0\n",
       "Subject_Social Studies    4978.0\n",
       "Subject_World Language    4948.0\n",
       "dtype: float64"
      ]
     },
     "execution_count": 190,
     "metadata": {},
     "output_type": "execute_result"
    }
   ],
   "source": [
    "subject_dummies.sum()"
   ]
  },
  {
   "cell_type": "code",
   "execution_count": 191,
   "metadata": {
    "collapsed": true
   },
   "outputs": [],
   "source": [
    "enr_complete = pd.concat([enr_complete, subject_dummies], axis=1)"
   ]
  },
  {
   "cell_type": "code",
   "execution_count": 192,
   "metadata": {
    "collapsed": true
   },
   "outputs": [],
   "source": [
    "subjects = list(subject_dummies.columns)"
   ]
  },
  {
   "cell_type": "code",
   "execution_count": 193,
   "metadata": {
    "collapsed": false
   },
   "outputs": [
    {
     "data": {
      "text/plain": [
       "[u'Subject_Electives',\n",
       " u'Subject_English',\n",
       " u'Subject_Math',\n",
       " u'Subject_Science',\n",
       " u'Subject_Social Studies',\n",
       " u'Subject_World Language']"
      ]
     },
     "execution_count": 193,
     "metadata": {},
     "output_type": "execute_result"
    }
   ],
   "source": [
    "subjects"
   ]
  },
  {
   "cell_type": "code",
   "execution_count": 194,
   "metadata": {
    "collapsed": false
   },
   "outputs": [
    {
     "data": {
      "text/html": [
       "<div>\n",
       "<table border=\"1\" class=\"dataframe\">\n",
       "  <thead>\n",
       "    <tr style=\"text-align: right;\">\n",
       "      <th></th>\n",
       "      <th>Grade_A</th>\n",
       "      <th>Grade_B</th>\n",
       "      <th>Grade_C</th>\n",
       "      <th>Grade_D</th>\n",
       "      <th>Grade_E</th>\n",
       "      <th>Grade_O</th>\n",
       "    </tr>\n",
       "    <tr>\n",
       "      <th>SubjectName</th>\n",
       "      <th></th>\n",
       "      <th></th>\n",
       "      <th></th>\n",
       "      <th></th>\n",
       "      <th></th>\n",
       "      <th></th>\n",
       "    </tr>\n",
       "  </thead>\n",
       "  <tbody>\n",
       "    <tr>\n",
       "      <th>Electives</th>\n",
       "      <td>721.0</td>\n",
       "      <td>563.0</td>\n",
       "      <td>302.0</td>\n",
       "      <td>231.0</td>\n",
       "      <td>626.0</td>\n",
       "      <td>0.0</td>\n",
       "    </tr>\n",
       "    <tr>\n",
       "      <th>English</th>\n",
       "      <td>893.0</td>\n",
       "      <td>936.0</td>\n",
       "      <td>649.0</td>\n",
       "      <td>399.0</td>\n",
       "      <td>1260.0</td>\n",
       "      <td>3.0</td>\n",
       "    </tr>\n",
       "    <tr>\n",
       "      <th>Math</th>\n",
       "      <td>1836.0</td>\n",
       "      <td>1591.0</td>\n",
       "      <td>976.0</td>\n",
       "      <td>650.0</td>\n",
       "      <td>2192.0</td>\n",
       "      <td>6.0</td>\n",
       "    </tr>\n",
       "    <tr>\n",
       "      <th>Science</th>\n",
       "      <td>1367.0</td>\n",
       "      <td>833.0</td>\n",
       "      <td>543.0</td>\n",
       "      <td>365.0</td>\n",
       "      <td>1192.0</td>\n",
       "      <td>4.0</td>\n",
       "    </tr>\n",
       "    <tr>\n",
       "      <th>Social Studies</th>\n",
       "      <td>1489.0</td>\n",
       "      <td>1137.0</td>\n",
       "      <td>655.0</td>\n",
       "      <td>372.0</td>\n",
       "      <td>1318.0</td>\n",
       "      <td>7.0</td>\n",
       "    </tr>\n",
       "    <tr>\n",
       "      <th>World Language</th>\n",
       "      <td>1496.0</td>\n",
       "      <td>1080.0</td>\n",
       "      <td>598.0</td>\n",
       "      <td>393.0</td>\n",
       "      <td>1226.0</td>\n",
       "      <td>155.0</td>\n",
       "    </tr>\n",
       "  </tbody>\n",
       "</table>\n",
       "</div>"
      ],
      "text/plain": [
       "                Grade_A  Grade_B  Grade_C  Grade_D  Grade_E  Grade_O\n",
       "SubjectName                                                         \n",
       "Electives         721.0    563.0    302.0    231.0    626.0      0.0\n",
       "English           893.0    936.0    649.0    399.0   1260.0      3.0\n",
       "Math             1836.0   1591.0    976.0    650.0   2192.0      6.0\n",
       "Science          1367.0    833.0    543.0    365.0   1192.0      4.0\n",
       "Social Studies   1489.0   1137.0    655.0    372.0   1318.0      7.0\n",
       "World Language   1496.0   1080.0    598.0    393.0   1226.0    155.0"
      ]
     },
     "execution_count": 194,
     "metadata": {},
     "output_type": "execute_result"
    }
   ],
   "source": [
    "enr_complete.groupby('SubjectName')[letter_grades].sum()"
   ]
  },
  {
   "cell_type": "code",
   "execution_count": 195,
   "metadata": {
    "collapsed": false
   },
   "outputs": [
    {
     "data": {
      "text/html": [
       "<div>\n",
       "<table border=\"1\" class=\"dataframe\">\n",
       "  <thead>\n",
       "    <tr style=\"text-align: right;\">\n",
       "      <th></th>\n",
       "      <th>Unnamed: 136</th>\n",
       "      <th>Grade_A</th>\n",
       "      <th>Grade_B</th>\n",
       "      <th>Grade_C</th>\n",
       "      <th>Grade_D</th>\n",
       "      <th>Grade_E</th>\n",
       "      <th>Grade_O</th>\n",
       "      <th>Subject_Electives</th>\n",
       "      <th>Subject_English</th>\n",
       "      <th>Subject_Math</th>\n",
       "      <th>Subject_Science</th>\n",
       "      <th>Subject_Social Studies</th>\n",
       "      <th>Subject_World Language</th>\n",
       "    </tr>\n",
       "    <tr>\n",
       "      <th>SubjectName</th>\n",
       "      <th></th>\n",
       "      <th></th>\n",
       "      <th></th>\n",
       "      <th></th>\n",
       "      <th></th>\n",
       "      <th></th>\n",
       "      <th></th>\n",
       "      <th></th>\n",
       "      <th></th>\n",
       "      <th></th>\n",
       "      <th></th>\n",
       "      <th></th>\n",
       "      <th></th>\n",
       "    </tr>\n",
       "  </thead>\n",
       "  <tbody>\n",
       "    <tr>\n",
       "      <th>Electives</th>\n",
       "      <td>NaN</td>\n",
       "      <td>721.0</td>\n",
       "      <td>563.0</td>\n",
       "      <td>302.0</td>\n",
       "      <td>231.0</td>\n",
       "      <td>626.0</td>\n",
       "      <td>0.0</td>\n",
       "      <td>2443.0</td>\n",
       "      <td>0.0</td>\n",
       "      <td>0.0</td>\n",
       "      <td>0.0</td>\n",
       "      <td>0.0</td>\n",
       "      <td>0.0</td>\n",
       "    </tr>\n",
       "    <tr>\n",
       "      <th>English</th>\n",
       "      <td>NaN</td>\n",
       "      <td>893.0</td>\n",
       "      <td>936.0</td>\n",
       "      <td>649.0</td>\n",
       "      <td>399.0</td>\n",
       "      <td>1260.0</td>\n",
       "      <td>3.0</td>\n",
       "      <td>0.0</td>\n",
       "      <td>4140.0</td>\n",
       "      <td>0.0</td>\n",
       "      <td>0.0</td>\n",
       "      <td>0.0</td>\n",
       "      <td>0.0</td>\n",
       "    </tr>\n",
       "    <tr>\n",
       "      <th>Math</th>\n",
       "      <td>NaN</td>\n",
       "      <td>1836.0</td>\n",
       "      <td>1591.0</td>\n",
       "      <td>976.0</td>\n",
       "      <td>650.0</td>\n",
       "      <td>2192.0</td>\n",
       "      <td>6.0</td>\n",
       "      <td>0.0</td>\n",
       "      <td>0.0</td>\n",
       "      <td>7251.0</td>\n",
       "      <td>0.0</td>\n",
       "      <td>0.0</td>\n",
       "      <td>0.0</td>\n",
       "    </tr>\n",
       "    <tr>\n",
       "      <th>Science</th>\n",
       "      <td>NaN</td>\n",
       "      <td>1367.0</td>\n",
       "      <td>833.0</td>\n",
       "      <td>543.0</td>\n",
       "      <td>365.0</td>\n",
       "      <td>1192.0</td>\n",
       "      <td>4.0</td>\n",
       "      <td>0.0</td>\n",
       "      <td>0.0</td>\n",
       "      <td>0.0</td>\n",
       "      <td>4304.0</td>\n",
       "      <td>0.0</td>\n",
       "      <td>0.0</td>\n",
       "    </tr>\n",
       "    <tr>\n",
       "      <th>Social Studies</th>\n",
       "      <td>NaN</td>\n",
       "      <td>1489.0</td>\n",
       "      <td>1137.0</td>\n",
       "      <td>655.0</td>\n",
       "      <td>372.0</td>\n",
       "      <td>1318.0</td>\n",
       "      <td>7.0</td>\n",
       "      <td>0.0</td>\n",
       "      <td>0.0</td>\n",
       "      <td>0.0</td>\n",
       "      <td>0.0</td>\n",
       "      <td>4978.0</td>\n",
       "      <td>0.0</td>\n",
       "    </tr>\n",
       "    <tr>\n",
       "      <th>World Language</th>\n",
       "      <td>NaN</td>\n",
       "      <td>1496.0</td>\n",
       "      <td>1080.0</td>\n",
       "      <td>598.0</td>\n",
       "      <td>393.0</td>\n",
       "      <td>1226.0</td>\n",
       "      <td>155.0</td>\n",
       "      <td>0.0</td>\n",
       "      <td>0.0</td>\n",
       "      <td>0.0</td>\n",
       "      <td>0.0</td>\n",
       "      <td>0.0</td>\n",
       "      <td>4948.0</td>\n",
       "    </tr>\n",
       "  </tbody>\n",
       "</table>\n",
       "</div>"
      ],
      "text/plain": [
       "                Unnamed: 136  Grade_A  Grade_B  Grade_C  Grade_D  Grade_E  \\\n",
       "SubjectName                                                                 \n",
       "Electives                NaN    721.0    563.0    302.0    231.0    626.0   \n",
       "English                  NaN    893.0    936.0    649.0    399.0   1260.0   \n",
       "Math                     NaN   1836.0   1591.0    976.0    650.0   2192.0   \n",
       "Science                  NaN   1367.0    833.0    543.0    365.0   1192.0   \n",
       "Social Studies           NaN   1489.0   1137.0    655.0    372.0   1318.0   \n",
       "World Language           NaN   1496.0   1080.0    598.0    393.0   1226.0   \n",
       "\n",
       "                Grade_O  Subject_Electives  Subject_English  Subject_Math  \\\n",
       "SubjectName                                                                 \n",
       "Electives           0.0             2443.0              0.0           0.0   \n",
       "English             3.0                0.0           4140.0           0.0   \n",
       "Math                6.0                0.0              0.0        7251.0   \n",
       "Science             4.0                0.0              0.0           0.0   \n",
       "Social Studies      7.0                0.0              0.0           0.0   \n",
       "World Language    155.0                0.0              0.0           0.0   \n",
       "\n",
       "                Subject_Science  Subject_Social Studies  \\\n",
       "SubjectName                                               \n",
       "Electives                   0.0                     0.0   \n",
       "English                     0.0                     0.0   \n",
       "Math                        0.0                     0.0   \n",
       "Science                  4304.0                     0.0   \n",
       "Social Studies              0.0                  4978.0   \n",
       "World Language              0.0                     0.0   \n",
       "\n",
       "                Subject_World Language  \n",
       "SubjectName                             \n",
       "Electives                          0.0  \n",
       "English                            0.0  \n",
       "Math                               0.0  \n",
       "Science                            0.0  \n",
       "Social Studies                     0.0  \n",
       "World Language                  4948.0  "
      ]
     },
     "execution_count": 195,
     "metadata": {},
     "output_type": "execute_result"
    }
   ],
   "source": [
    "enr_complete.groupby(\"SubjectName\").sum()"
   ]
  },
  {
   "cell_type": "code",
   "execution_count": 196,
   "metadata": {
    "collapsed": false
   },
   "outputs": [
    {
     "data": {
      "text/plain": [
       "E    7814\n",
       "A    7802\n",
       "B    6140\n",
       "C    3723\n",
       "D    2410\n",
       "O     175\n",
       "Name: GradeTranslation, dtype: int64"
      ]
     },
     "execution_count": 196,
     "metadata": {},
     "output_type": "execute_result"
    }
   ],
   "source": [
    "enr_complete.GradeTranslation.value_counts()"
   ]
  },
  {
   "cell_type": "code",
   "execution_count": 197,
   "metadata": {
    "collapsed": false
   },
   "outputs": [
    {
     "data": {
      "text/plain": [
       "SubjectName     GradeTranslation\n",
       "Electives       A                    721\n",
       "                E                    626\n",
       "                B                    563\n",
       "                C                    302\n",
       "                D                    231\n",
       "English         E                   1260\n",
       "                B                    936\n",
       "                A                    893\n",
       "                C                    649\n",
       "                D                    399\n",
       "                O                      3\n",
       "Math            E                   2192\n",
       "                A                   1836\n",
       "                B                   1591\n",
       "                C                    976\n",
       "                D                    650\n",
       "                O                      6\n",
       "Science         A                   1367\n",
       "                E                   1192\n",
       "                B                    833\n",
       "                C                    543\n",
       "                D                    365\n",
       "                O                      4\n",
       "Social Studies  A                   1489\n",
       "                E                   1318\n",
       "                B                   1137\n",
       "                C                    655\n",
       "                D                    372\n",
       "                O                      7\n",
       "World Language  A                   1496\n",
       "                E                   1226\n",
       "                B                   1080\n",
       "                C                    598\n",
       "                D                    393\n",
       "                O                    155\n",
       "Name: GradeTranslation, dtype: int64"
      ]
     },
     "execution_count": 197,
     "metadata": {},
     "output_type": "execute_result"
    }
   ],
   "source": [
    "enr_complete.groupby(\"SubjectName\").GradeTranslation.value_counts()"
   ]
  },
  {
   "cell_type": "markdown",
   "metadata": {},
   "source": [
    "### It looks like E's and A's are the most common grades among all enrollments in this time period.\n"
   ]
  },
  {
   "cell_type": "code",
   "execution_count": 198,
   "metadata": {
    "collapsed": false
   },
   "outputs": [
    {
     "data": {
      "text/plain": [
       "<matplotlib.axes._subplots.AxesSubplot at 0x116adda10>"
      ]
     },
     "execution_count": 198,
     "metadata": {},
     "output_type": "execute_result"
    },
    {
     "data": {
      "image/png": "[encoded data removed]",
      "text/plain": [
       "<matplotlib.figure.Figure at 0x11649c210>"
      ]
     },
     "metadata": {},
     "output_type": "display_data"
    }
   ],
   "source": [
    "enr_complete.GradeTranslation.value_counts().plot(kind='bar')"
   ]
  },
  {
   "cell_type": "code",
   "execution_count": 199,
   "metadata": {
    "collapsed": false
   },
   "outputs": [
    {
     "data": {
      "text/plain": [
       "Complete    28064\n",
       "Name: EnrollmentStatus, dtype: int64"
      ]
     },
     "execution_count": 199,
     "metadata": {},
     "output_type": "execute_result"
    }
   ],
   "source": [
    "enr_complete.EnrollmentStatus.value_counts()"
   ]
  },
  {
   "cell_type": "markdown",
   "metadata": {},
   "source": [
    "### Most students enrolling at Apex enroll in a math class."
   ]
  },
  {
   "cell_type": "code",
   "execution_count": 200,
   "metadata": {
    "collapsed": false
   },
   "outputs": [
    {
     "data": {
      "text/plain": [
       "<matplotlib.axes._subplots.AxesSubplot at 0x116afca10>"
      ]
     },
     "execution_count": 200,
     "metadata": {},
     "output_type": "execute_result"
    },
    {
     "data": {
      "image/png": "[encoded data removed]",
      "text/plain": [
       "<matplotlib.figure.Figure at 0x127242050>"
      ]
     },
     "metadata": {},
     "output_type": "display_data"
    }
   ],
   "source": [
    "enr_complete.SubjectName.value_counts().plot(kind='bar')"
   ]
  },
  {
   "cell_type": "markdown",
   "metadata": {},
   "source": [
    "### Are math classes harder than other classes, like English?"
   ]
  },
  {
   "cell_type": "code",
   "execution_count": 201,
   "metadata": {
    "collapsed": false
   },
   "outputs": [
    {
     "data": {
      "text/plain": [
       "<matplotlib.axes._subplots.AxesSubplot at 0x13cb405d0>"
      ]
     },
     "execution_count": 201,
     "metadata": {},
     "output_type": "execute_result"
    },
    {
     "data": {
      "image/png": "[encoded data removed]",
      "text/plain": [
       "<matplotlib.figure.Figure at 0x126b9d350>"
      ]
     },
     "metadata": {},
     "output_type": "display_data"
    }
   ],
   "source": [
    "# Get breakdown of letter grade for Math\n",
    "enr_complete[enr_complete['SubjectName'] == 'Math'].GradeTranslation.value_counts().plot(kind='bar')"
   ]
  },
  {
   "cell_type": "markdown",
   "metadata": {},
   "source": [
    "### Actually in English, among students who don't fail, the most common grade is a B.\n",
    "### Note that the frequency scaling is different between the above and below graphs. That will need to be corrected for any final comparison visuazliation."
   ]
  },
  {
   "cell_type": "code",
   "execution_count": 202,
   "metadata": {
    "collapsed": false
   },
   "outputs": [
    {
     "data": {
      "text/plain": [
       "<matplotlib.axes._subplots.AxesSubplot at 0x116f87650>"
      ]
     },
     "execution_count": 202,
     "metadata": {},
     "output_type": "execute_result"
    },
    {
     "data": {
      "image/png": "[encoded data removed]",
      "text/plain": [
       "<matplotlib.figure.Figure at 0x127242a50>"
      ]
     },
     "metadata": {},
     "output_type": "display_data"
    }
   ],
   "source": [
    "# Get breakdown of letter grade for English\n",
    "enr_complete[enr_complete['SubjectName'] == 'English'].GradeTranslation.value_counts().plot(kind='bar')"
   ]
  },
  {
   "cell_type": "code",
   "execution_count": 203,
   "metadata": {
    "collapsed": false
   },
   "outputs": [
    {
     "data": {
      "text/html": [
       "<div>\n",
       "<table border=\"1\" class=\"dataframe\">\n",
       "  <thead>\n",
       "    <tr style=\"text-align: right;\">\n",
       "      <th></th>\n",
       "      <th>Grade_A</th>\n",
       "      <th>Grade_B</th>\n",
       "      <th>Grade_C</th>\n",
       "      <th>Grade_D</th>\n",
       "      <th>Grade_E</th>\n",
       "      <th>Grade_O</th>\n",
       "    </tr>\n",
       "    <tr>\n",
       "      <th>SubjectName</th>\n",
       "      <th></th>\n",
       "      <th></th>\n",
       "      <th></th>\n",
       "      <th></th>\n",
       "      <th></th>\n",
       "      <th></th>\n",
       "    </tr>\n",
       "  </thead>\n",
       "  <tbody>\n",
       "    <tr>\n",
       "      <th>Electives</th>\n",
       "      <td>721.0</td>\n",
       "      <td>563.0</td>\n",
       "      <td>302.0</td>\n",
       "      <td>231.0</td>\n",
       "      <td>626.0</td>\n",
       "      <td>0.0</td>\n",
       "    </tr>\n",
       "    <tr>\n",
       "      <th>English</th>\n",
       "      <td>893.0</td>\n",
       "      <td>936.0</td>\n",
       "      <td>649.0</td>\n",
       "      <td>399.0</td>\n",
       "      <td>1260.0</td>\n",
       "      <td>3.0</td>\n",
       "    </tr>\n",
       "    <tr>\n",
       "      <th>Math</th>\n",
       "      <td>1836.0</td>\n",
       "      <td>1591.0</td>\n",
       "      <td>976.0</td>\n",
       "      <td>650.0</td>\n",
       "      <td>2192.0</td>\n",
       "      <td>6.0</td>\n",
       "    </tr>\n",
       "    <tr>\n",
       "      <th>Science</th>\n",
       "      <td>1367.0</td>\n",
       "      <td>833.0</td>\n",
       "      <td>543.0</td>\n",
       "      <td>365.0</td>\n",
       "      <td>1192.0</td>\n",
       "      <td>4.0</td>\n",
       "    </tr>\n",
       "    <tr>\n",
       "      <th>Social Studies</th>\n",
       "      <td>1489.0</td>\n",
       "      <td>1137.0</td>\n",
       "      <td>655.0</td>\n",
       "      <td>372.0</td>\n",
       "      <td>1318.0</td>\n",
       "      <td>7.0</td>\n",
       "    </tr>\n",
       "    <tr>\n",
       "      <th>World Language</th>\n",
       "      <td>1496.0</td>\n",
       "      <td>1080.0</td>\n",
       "      <td>598.0</td>\n",
       "      <td>393.0</td>\n",
       "      <td>1226.0</td>\n",
       "      <td>155.0</td>\n",
       "    </tr>\n",
       "  </tbody>\n",
       "</table>\n",
       "</div>"
      ],
      "text/plain": [
       "                Grade_A  Grade_B  Grade_C  Grade_D  Grade_E  Grade_O\n",
       "SubjectName                                                         \n",
       "Electives         721.0    563.0    302.0    231.0    626.0      0.0\n",
       "English           893.0    936.0    649.0    399.0   1260.0      3.0\n",
       "Math             1836.0   1591.0    976.0    650.0   2192.0      6.0\n",
       "Science          1367.0    833.0    543.0    365.0   1192.0      4.0\n",
       "Social Studies   1489.0   1137.0    655.0    372.0   1318.0      7.0\n",
       "World Language   1496.0   1080.0    598.0    393.0   1226.0    155.0"
      ]
     },
     "execution_count": 203,
     "metadata": {},
     "output_type": "execute_result"
    }
   ],
   "source": [
    "enr_complete.groupby('SubjectName')[letter_grades].sum()"
   ]
  },
  {
   "cell_type": "markdown",
   "metadata": {},
   "source": [
    "### In what subject are the most points available?"
   ]
  },
  {
   "cell_type": "code",
   "execution_count": 207,
   "metadata": {
    "collapsed": false
   },
   "outputs": [
    {
     "data": {
      "text/plain": [
       "SubjectName\n",
       "Electives          645404.5\n",
       "English           1400039.9\n",
       "Math              1942289.7\n",
       "Science           1072350.5\n",
       "Social Studies    1829299.2\n",
       "World Language    1527599.5\n",
       "Name: TotalPointsEarned_TeacherScoredActivities, dtype: float64"
      ]
     },
     "execution_count": 207,
     "metadata": {},
     "output_type": "execute_result"
    }
   ],
   "source": [
    "# Points earned by subject for teacher-scored work\n",
    "enr_complete['TotalPointsEarned_TeacherScoredActivities'].groupby(enr_complete['SubjectName']).sum()"
   ]
  },
  {
   "cell_type": "code",
   "execution_count": 208,
   "metadata": {
    "collapsed": false
   },
   "outputs": [
    {
     "data": {
      "text/plain": [
       "SubjectName\n",
       "Electives          618078.0\n",
       "English           1209701.7\n",
       "Math              3586219.4\n",
       "Science           1240771.9\n",
       "Social Studies    2015588.4\n",
       "World Language     891662.0\n",
       "Name: TotalPointsEarned_ComputerScoredActivities, dtype: float64"
      ]
     },
     "execution_count": 208,
     "metadata": {},
     "output_type": "execute_result"
    }
   ],
   "source": [
    "# Points earned by subject for teacher-scored work\n",
    "enr_complete['TotalPointsEarned_ComputerScoredActivities'].groupby(enr_complete['SubjectName']).sum()"
   ]
  },
  {
   "cell_type": "code",
   "execution_count": 209,
   "metadata": {
    "collapsed": false
   },
   "outputs": [
    {
     "data": {
      "text/plain": [
       "SubjectName\n",
       "Electives          3628644\n",
       "English            7221159\n",
       "Math              15144157\n",
       "Science            7164543\n",
       "Social Studies    10817301\n",
       "World Language     6947320\n",
       "Name: TotalPointsPossible, dtype: int64"
      ]
     },
     "execution_count": 209,
     "metadata": {},
     "output_type": "execute_result"
    }
   ],
   "source": [
    "# Points available by subject for entire course\n",
    "enr_complete['TotalPointsPossible'].groupby(enr_complete['SubjectName']).sum()"
   ]
  },
  {
   "cell_type": "code",
   "execution_count": 210,
   "metadata": {
    "collapsed": false
   },
   "outputs": [
    {
     "data": {
      "text/plain": [
       "SubjectName\n",
       "Electives          2885500\n",
       "English            5492583\n",
       "Math              12094245\n",
       "Science            5450327\n",
       "Social Studies     8574739\n",
       "World Language     5610456\n",
       "Name: TotalPointsAttempted, dtype: int64"
      ]
     },
     "execution_count": 210,
     "metadata": {},
     "output_type": "execute_result"
    }
   ],
   "source": [
    "enr_complete['TotalPointsAttempted'].groupby(enr_complete['SubjectName']).sum()"
   ]
  },
  {
   "cell_type": "code",
   "execution_count": 211,
   "metadata": {
    "collapsed": false
   },
   "outputs": [
    {
     "data": {
      "text/plain": [
       "SubjectName\n",
       "Electives         2471111.5\n",
       "English           4573893.6\n",
       "Math              9717759.1\n",
       "Science           4580911.4\n",
       "Social Studies    7287399.0\n",
       "World Language    4761288.5\n",
       "Name: TotalPointsEarnedOnActivities, dtype: float64"
      ]
     },
     "execution_count": 211,
     "metadata": {},
     "output_type": "execute_result"
    }
   ],
   "source": [
    "enr_complete['TotalPointsEarnedOnActivities'].groupby(enr_complete['SubjectName']).sum()"
   ]
  },
  {
   "cell_type": "code",
   "execution_count": 212,
   "metadata": {
    "collapsed": false
   },
   "outputs": [
    {
     "data": {
      "text/plain": [
       "SubjectName\n",
       "Electives         True\n",
       "English           True\n",
       "Math              True\n",
       "Science           True\n",
       "Social Studies    True\n",
       "World Language    True\n",
       "dtype: bool"
      ]
     },
     "execution_count": 212,
     "metadata": {},
     "output_type": "execute_result"
    }
   ],
   "source": [
    "# Verify expectation that total points earned is less than or equal to total points possible\n",
    "enr_complete['TotalPointsEarnedOnActivities'].groupby(enr_complete['SubjectName']).sum() <= enr_complete['TotalPointsPossible'].groupby(enr_complete['SubjectName']).sum()"
   ]
  },
  {
   "cell_type": "code",
   "execution_count": 213,
   "metadata": {
    "collapsed": false
   },
   "outputs": [
    {
     "data": {
      "text/plain": [
       "SubjectName\n",
       "Electives         1263482.5\n",
       "English           2609741.6\n",
       "Math              5528509.1\n",
       "Science           2313122.4\n",
       "Social Studies    3844887.6\n",
       "World Language    2419261.5\n",
       "dtype: float64"
      ]
     },
     "execution_count": 213,
     "metadata": {},
     "output_type": "execute_result"
    }
   ],
   "source": [
    "enr_complete['TotalPointsEarned_ComputerScoredActivities'].groupby(enr_complete['SubjectName']).sum() + enr_complete['TotalPointsEarned_TeacherScoredActivities'].groupby(enr_complete['SubjectName']).sum()"
   ]
  },
  {
   "cell_type": "code",
   "execution_count": 214,
   "metadata": {
    "collapsed": false
   },
   "outputs": [
    {
     "data": {
      "text/plain": [
       "SubjectName\n",
       "Electives         False\n",
       "English           False\n",
       "Math              False\n",
       "Science           False\n",
       "Social Studies    False\n",
       "World Language    False\n",
       "dtype: bool"
      ]
     },
     "execution_count": 214,
     "metadata": {},
     "output_type": "execute_result"
    }
   ],
   "source": [
    "# Determine if computer scored activities ...\n",
    "(enr_complete['TotalPointsEarned_ComputerScoredActivities'].groupby(enr_complete['SubjectName']).sum() + enr_complete['TotalPointsEarned_TeacherScoredActivities'].groupby(enr_complete['SubjectName']).sum()) == enr_complete['TotalPointsPossible'].groupby(enr_complete['SubjectName']).sum() "
   ]
  },
  {
   "cell_type": "markdown",
   "metadata": {},
   "source": [
    "### Examine overdue activities by subject and by final letter grade"
   ]
  },
  {
   "cell_type": "code",
   "execution_count": 215,
   "metadata": {
    "collapsed": false
   },
   "outputs": [
    {
     "data": {
      "text/plain": [
       "<bound method Series.sort of SubjectName\n",
       "Electives         25100\n",
       "English           68922\n",
       "Math              92140\n",
       "Science           52387\n",
       "Social Studies    79098\n",
       "World Language    30922\n",
       "Name: OverdueActivities, dtype: int64>"
      ]
     },
     "execution_count": 215,
     "metadata": {},
     "output_type": "execute_result"
    }
   ],
   "source": [
    "enr_complete['OverdueActivities'].groupby(enr_complete['SubjectName']).sum().sort"
   ]
  },
  {
   "cell_type": "markdown",
   "metadata": {},
   "source": [
    "### It requires more research, but the below breakdown of overdue activities by final letter grade lends support to the hypothesis that the problem isn't that the course is too hard -- it's that the student's are doing the work.\n",
    "### Students who do the assignments, regardless of the grade, tend to achieve a higher final grade."
   ]
  },
  {
   "cell_type": "code",
   "execution_count": 216,
   "metadata": {
    "collapsed": false
   },
   "outputs": [
    {
     "data": {
      "text/plain": [
       "<bound method Series.sort of GradeTranslation\n",
       "A      1132\n",
       "B      4298\n",
       "C      9186\n",
       "D     13350\n",
       "E    316563\n",
       "O      4040\n",
       "Name: OverdueActivities, dtype: int64>"
      ]
     },
     "execution_count": 216,
     "metadata": {},
     "output_type": "execute_result"
    }
   ],
   "source": [
    "enr_complete['OverdueActivities'].groupby(enr_complete['GradeTranslation']).sum().sort"
   ]
  },
  {
   "cell_type": "code",
   "execution_count": 218,
   "metadata": {
    "collapsed": false
   },
   "outputs": [
    {
     "data": {
      "text/plain": [
       "(28064, 148)"
      ]
     },
     "execution_count": 218,
     "metadata": {},
     "output_type": "execute_result"
    }
   ],
   "source": [
    "enr_complete.shape"
   ]
  },
  {
   "cell_type": "markdown",
   "metadata": {},
   "source": [
    "### Most course have a range of approximately 50-75 scored activities"
   ]
  },
  {
   "cell_type": "code",
   "execution_count": 219,
   "metadata": {
    "collapsed": false
   },
   "outputs": [
    {
     "data": {
      "text/plain": [
       "<matplotlib.axes._subplots.AxesSubplot at 0x143c7b5d0>"
      ]
     },
     "execution_count": 219,
     "metadata": {},
     "output_type": "execute_result"
    },
    {
     "data": {
      "image/png": "[encoded data removed]",
      "text/plain": [
       "<matplotlib.figure.Figure at 0x143c62ed0>"
      ]
     },
     "metadata": {},
     "output_type": "display_data"
    }
   ],
   "source": [
    "enr_complete['NumOfScoredActivitiesByCourse'].plot(kind='hist')"
   ]
  },
  {
   "cell_type": "markdown",
   "metadata": {},
   "source": [
    "### Of the scored activities in a course, most students complete around 40-70 of them."
   ]
  },
  {
   "cell_type": "code",
   "execution_count": 220,
   "metadata": {
    "collapsed": false
   },
   "outputs": [
    {
     "data": {
      "text/plain": [
       "<matplotlib.axes._subplots.AxesSubplot at 0x13ae32510>"
      ]
     },
     "execution_count": 220,
     "metadata": {},
     "output_type": "execute_result"
    },
    {
     "data": {
      "image/png": "[encoded data removed]",
      "text/plain": [
       "<matplotlib.figure.Figure at 0x1165f0cd0>"
      ]
     },
     "metadata": {},
     "output_type": "display_data"
    }
   ],
   "source": [
    "enr_complete['NumOfScoredActivitiesCompletedByCourse'].plot(kind='hist')"
   ]
  },
  {
   "cell_type": "code",
   "execution_count": 221,
   "metadata": {
    "collapsed": false
   },
   "outputs": [
    {
     "data": {
      "text/html": [
       "<div>\n",
       "<table border=\"1\" class=\"dataframe\">\n",
       "  <thead>\n",
       "    <tr style=\"text-align: right;\">\n",
       "      <th></th>\n",
       "      <th>Unnamed: 136</th>\n",
       "      <th>Grade_A</th>\n",
       "      <th>Grade_B</th>\n",
       "      <th>Grade_C</th>\n",
       "      <th>Grade_D</th>\n",
       "      <th>Grade_E</th>\n",
       "      <th>Grade_O</th>\n",
       "      <th>Subject_Electives</th>\n",
       "      <th>Subject_English</th>\n",
       "      <th>Subject_Math</th>\n",
       "      <th>Subject_Science</th>\n",
       "      <th>Subject_Social Studies</th>\n",
       "      <th>Subject_World Language</th>\n",
       "    </tr>\n",
       "    <tr>\n",
       "      <th>SemesterID</th>\n",
       "      <th></th>\n",
       "      <th></th>\n",
       "      <th></th>\n",
       "      <th></th>\n",
       "      <th></th>\n",
       "      <th></th>\n",
       "      <th></th>\n",
       "      <th></th>\n",
       "      <th></th>\n",
       "      <th></th>\n",
       "      <th></th>\n",
       "      <th></th>\n",
       "      <th></th>\n",
       "    </tr>\n",
       "  </thead>\n",
       "  <tbody>\n",
       "    <tr>\n",
       "      <th>1</th>\n",
       "      <td>NaN</td>\n",
       "      <td>2598.0</td>\n",
       "      <td>2190.0</td>\n",
       "      <td>1300.0</td>\n",
       "      <td>825.0</td>\n",
       "      <td>2957.0</td>\n",
       "      <td>164.0</td>\n",
       "      <td>773.0</td>\n",
       "      <td>1481.0</td>\n",
       "      <td>2170.0</td>\n",
       "      <td>1751.0</td>\n",
       "      <td>1828.0</td>\n",
       "      <td>2031.0</td>\n",
       "    </tr>\n",
       "    <tr>\n",
       "      <th>2</th>\n",
       "      <td>NaN</td>\n",
       "      <td>2773.0</td>\n",
       "      <td>2406.0</td>\n",
       "      <td>1580.0</td>\n",
       "      <td>1122.0</td>\n",
       "      <td>2996.0</td>\n",
       "      <td>9.0</td>\n",
       "      <td>1064.0</td>\n",
       "      <td>1758.0</td>\n",
       "      <td>2533.0</td>\n",
       "      <td>1632.0</td>\n",
       "      <td>1990.0</td>\n",
       "      <td>1909.0</td>\n",
       "    </tr>\n",
       "    <tr>\n",
       "      <th>3</th>\n",
       "      <td>NaN</td>\n",
       "      <td>2431.0</td>\n",
       "      <td>1544.0</td>\n",
       "      <td>843.0</td>\n",
       "      <td>463.0</td>\n",
       "      <td>1861.0</td>\n",
       "      <td>2.0</td>\n",
       "      <td>606.0</td>\n",
       "      <td>901.0</td>\n",
       "      <td>2548.0</td>\n",
       "      <td>921.0</td>\n",
       "      <td>1160.0</td>\n",
       "      <td>1008.0</td>\n",
       "    </tr>\n",
       "  </tbody>\n",
       "</table>\n",
       "</div>"
      ],
      "text/plain": [
       "            Unnamed: 136  Grade_A  Grade_B  Grade_C  Grade_D  Grade_E  \\\n",
       "SemesterID                                                              \n",
       "1                    NaN   2598.0   2190.0   1300.0    825.0   2957.0   \n",
       "2                    NaN   2773.0   2406.0   1580.0   1122.0   2996.0   \n",
       "3                    NaN   2431.0   1544.0    843.0    463.0   1861.0   \n",
       "\n",
       "            Grade_O  Subject_Electives  Subject_English  Subject_Math  \\\n",
       "SemesterID                                                              \n",
       "1             164.0              773.0           1481.0        2170.0   \n",
       "2               9.0             1064.0           1758.0        2533.0   \n",
       "3               2.0              606.0            901.0        2548.0   \n",
       "\n",
       "            Subject_Science  Subject_Social Studies  Subject_World Language  \n",
       "SemesterID                                                                   \n",
       "1                    1751.0                  1828.0                  2031.0  \n",
       "2                    1632.0                  1990.0                  1909.0  \n",
       "3                     921.0                  1160.0                  1008.0  "
      ]
     },
     "execution_count": 221,
     "metadata": {},
     "output_type": "execute_result"
    }
   ],
   "source": [
    "enr_complete.groupby('SemesterID').sum()"
   ]
  },
  {
   "cell_type": "code",
   "execution_count": 222,
   "metadata": {
    "collapsed": false
   },
   "outputs": [
    {
     "data": {
      "text/html": [
       "<div>\n",
       "<table border=\"1\" class=\"dataframe\">\n",
       "  <thead>\n",
       "    <tr style=\"text-align: right;\">\n",
       "      <th></th>\n",
       "      <th>Unnamed: 136</th>\n",
       "      <th>Grade_A</th>\n",
       "      <th>Grade_B</th>\n",
       "      <th>Grade_C</th>\n",
       "      <th>Grade_D</th>\n",
       "      <th>Grade_E</th>\n",
       "      <th>Grade_O</th>\n",
       "      <th>Subject_Electives</th>\n",
       "      <th>Subject_English</th>\n",
       "      <th>Subject_Math</th>\n",
       "      <th>Subject_Science</th>\n",
       "      <th>Subject_Social Studies</th>\n",
       "      <th>Subject_World Language</th>\n",
       "    </tr>\n",
       "    <tr>\n",
       "      <th>Semester</th>\n",
       "      <th></th>\n",
       "      <th></th>\n",
       "      <th></th>\n",
       "      <th></th>\n",
       "      <th></th>\n",
       "      <th></th>\n",
       "      <th></th>\n",
       "      <th></th>\n",
       "      <th></th>\n",
       "      <th></th>\n",
       "      <th></th>\n",
       "      <th></th>\n",
       "      <th></th>\n",
       "    </tr>\n",
       "  </thead>\n",
       "  <tbody>\n",
       "    <tr>\n",
       "      <th>Fall</th>\n",
       "      <td>NaN</td>\n",
       "      <td>2598.0</td>\n",
       "      <td>2190.0</td>\n",
       "      <td>1300.0</td>\n",
       "      <td>825.0</td>\n",
       "      <td>2957.0</td>\n",
       "      <td>164.0</td>\n",
       "      <td>773.0</td>\n",
       "      <td>1481.0</td>\n",
       "      <td>2170.0</td>\n",
       "      <td>1751.0</td>\n",
       "      <td>1828.0</td>\n",
       "      <td>2031.0</td>\n",
       "    </tr>\n",
       "    <tr>\n",
       "      <th>Spring</th>\n",
       "      <td>NaN</td>\n",
       "      <td>2773.0</td>\n",
       "      <td>2406.0</td>\n",
       "      <td>1580.0</td>\n",
       "      <td>1122.0</td>\n",
       "      <td>2996.0</td>\n",
       "      <td>9.0</td>\n",
       "      <td>1064.0</td>\n",
       "      <td>1758.0</td>\n",
       "      <td>2533.0</td>\n",
       "      <td>1632.0</td>\n",
       "      <td>1990.0</td>\n",
       "      <td>1909.0</td>\n",
       "    </tr>\n",
       "    <tr>\n",
       "      <th>Summer</th>\n",
       "      <td>NaN</td>\n",
       "      <td>2431.0</td>\n",
       "      <td>1544.0</td>\n",
       "      <td>843.0</td>\n",
       "      <td>463.0</td>\n",
       "      <td>1861.0</td>\n",
       "      <td>2.0</td>\n",
       "      <td>606.0</td>\n",
       "      <td>901.0</td>\n",
       "      <td>2548.0</td>\n",
       "      <td>921.0</td>\n",
       "      <td>1160.0</td>\n",
       "      <td>1008.0</td>\n",
       "    </tr>\n",
       "  </tbody>\n",
       "</table>\n",
       "</div>"
      ],
      "text/plain": [
       "          Unnamed: 136  Grade_A  Grade_B  Grade_C  Grade_D  Grade_E  Grade_O  \\\n",
       "Semester                                                                       \n",
       "Fall               NaN   2598.0   2190.0   1300.0    825.0   2957.0    164.0   \n",
       "Spring             NaN   2773.0   2406.0   1580.0   1122.0   2996.0      9.0   \n",
       "Summer             NaN   2431.0   1544.0    843.0    463.0   1861.0      2.0   \n",
       "\n",
       "          Subject_Electives  Subject_English  Subject_Math  Subject_Science  \\\n",
       "Semester                                                                      \n",
       "Fall                  773.0           1481.0        2170.0           1751.0   \n",
       "Spring               1064.0           1758.0        2533.0           1632.0   \n",
       "Summer                606.0            901.0        2548.0            921.0   \n",
       "\n",
       "          Subject_Social Studies  Subject_World Language  \n",
       "Semester                                                  \n",
       "Fall                      1828.0                  2031.0  \n",
       "Spring                    1990.0                  1909.0  \n",
       "Summer                    1160.0                  1008.0  "
      ]
     },
     "execution_count": 222,
     "metadata": {},
     "output_type": "execute_result"
    }
   ],
   "source": [
    "enr_complete.groupby('Semester').sum()"
   ]
  },
  {
   "cell_type": "code",
   "execution_count": 227,
   "metadata": {
    "collapsed": false
   },
   "outputs": [
    {
     "data": {
      "text/html": [
       "<div>\n",
       "<table border=\"1\" class=\"dataframe\">\n",
       "  <thead>\n",
       "    <tr style=\"text-align: right;\">\n",
       "      <th></th>\n",
       "      <th>Unnamed: 136</th>\n",
       "      <th>Grade_A</th>\n",
       "      <th>Grade_B</th>\n",
       "      <th>Grade_C</th>\n",
       "      <th>Grade_D</th>\n",
       "      <th>Grade_E</th>\n",
       "      <th>Grade_O</th>\n",
       "      <th>Subject_Electives</th>\n",
       "      <th>Subject_English</th>\n",
       "      <th>Subject_Math</th>\n",
       "      <th>Subject_Science</th>\n",
       "      <th>Subject_Social Studies</th>\n",
       "      <th>Subject_World Language</th>\n",
       "    </tr>\n",
       "    <tr>\n",
       "      <th>Passing</th>\n",
       "      <th></th>\n",
       "      <th></th>\n",
       "      <th></th>\n",
       "      <th></th>\n",
       "      <th></th>\n",
       "      <th></th>\n",
       "      <th></th>\n",
       "      <th></th>\n",
       "      <th></th>\n",
       "      <th></th>\n",
       "      <th></th>\n",
       "      <th></th>\n",
       "      <th></th>\n",
       "    </tr>\n",
       "  </thead>\n",
       "  <tbody>\n",
       "    <tr>\n",
       "      <th>False</th>\n",
       "      <td>NaN</td>\n",
       "      <td>0.0</td>\n",
       "      <td>0.0</td>\n",
       "      <td>0.0</td>\n",
       "      <td>0.0</td>\n",
       "      <td>7814.0</td>\n",
       "      <td>175.0</td>\n",
       "      <td>626.0</td>\n",
       "      <td>1263.0</td>\n",
       "      <td>2198.0</td>\n",
       "      <td>1196.0</td>\n",
       "      <td>1325.0</td>\n",
       "      <td>1381.0</td>\n",
       "    </tr>\n",
       "    <tr>\n",
       "      <th>True</th>\n",
       "      <td>NaN</td>\n",
       "      <td>7802.0</td>\n",
       "      <td>6140.0</td>\n",
       "      <td>3723.0</td>\n",
       "      <td>2410.0</td>\n",
       "      <td>0.0</td>\n",
       "      <td>0.0</td>\n",
       "      <td>1817.0</td>\n",
       "      <td>2877.0</td>\n",
       "      <td>5053.0</td>\n",
       "      <td>3108.0</td>\n",
       "      <td>3653.0</td>\n",
       "      <td>3567.0</td>\n",
       "    </tr>\n",
       "  </tbody>\n",
       "</table>\n",
       "</div>"
      ],
      "text/plain": [
       "         Unnamed: 136  Grade_A  Grade_B  Grade_C  Grade_D  Grade_E  Grade_O  \\\n",
       "Passing                                                                       \n",
       "False             NaN      0.0      0.0      0.0      0.0   7814.0    175.0   \n",
       "True              NaN   7802.0   6140.0   3723.0   2410.0      0.0      0.0   \n",
       "\n",
       "         Subject_Electives  Subject_English  Subject_Math  Subject_Science  \\\n",
       "Passing                                                                      \n",
       "False                626.0           1263.0        2198.0           1196.0   \n",
       "True                1817.0           2877.0        5053.0           3108.0   \n",
       "\n",
       "         Subject_Social Studies  Subject_World Language  \n",
       "Passing                                                  \n",
       "False                    1325.0                  1381.0  \n",
       "True                     3653.0                  3567.0  "
      ]
     },
     "execution_count": 227,
     "metadata": {},
     "output_type": "execute_result"
    }
   ],
   "source": [
    "enr_complete.groupby('Passing').sum()"
   ]
  },
  {
   "cell_type": "code",
   "execution_count": 228,
   "metadata": {
    "collapsed": false
   },
   "outputs": [
    {
     "data": {
      "text/html": [
       "<div>\n",
       "<table border=\"1\" class=\"dataframe\">\n",
       "  <thead>\n",
       "    <tr style=\"text-align: right;\">\n",
       "      <th></th>\n",
       "      <th>LastDueDate</th>\n",
       "      <th>Extension_Granted</th>\n",
       "      <th>ExtensionDate</th>\n",
       "      <th>EnrollmentCount</th>\n",
       "      <th>ProductTypeID</th>\n",
       "      <th>CustomerName</th>\n",
       "      <th>CustomerID</th>\n",
       "      <th>UniverseName</th>\n",
       "      <th>UniverseID</th>\n",
       "      <th>TopParentOrgName</th>\n",
       "      <th>...</th>\n",
       "      <th>Grade_C</th>\n",
       "      <th>Grade_D</th>\n",
       "      <th>Grade_E</th>\n",
       "      <th>Grade_O</th>\n",
       "      <th>Subject_Electives</th>\n",
       "      <th>Subject_English</th>\n",
       "      <th>Subject_Math</th>\n",
       "      <th>Subject_Science</th>\n",
       "      <th>Subject_Social Studies</th>\n",
       "      <th>Subject_World Language</th>\n",
       "    </tr>\n",
       "    <tr>\n",
       "      <th>GradeTranslation</th>\n",
       "      <th></th>\n",
       "      <th></th>\n",
       "      <th></th>\n",
       "      <th></th>\n",
       "      <th></th>\n",
       "      <th></th>\n",
       "      <th></th>\n",
       "      <th></th>\n",
       "      <th></th>\n",
       "      <th></th>\n",
       "      <th></th>\n",
       "      <th></th>\n",
       "      <th></th>\n",
       "      <th></th>\n",
       "      <th></th>\n",
       "      <th></th>\n",
       "      <th></th>\n",
       "      <th></th>\n",
       "      <th></th>\n",
       "      <th></th>\n",
       "      <th></th>\n",
       "    </tr>\n",
       "  </thead>\n",
       "  <tbody>\n",
       "    <tr>\n",
       "      <th>A</th>\n",
       "      <td>7481</td>\n",
       "      <td>601</td>\n",
       "      <td>775</td>\n",
       "      <td>7802</td>\n",
       "      <td>7802</td>\n",
       "      <td>7802</td>\n",
       "      <td>7802</td>\n",
       "      <td>7802</td>\n",
       "      <td>7802</td>\n",
       "      <td>7798</td>\n",
       "      <td>...</td>\n",
       "      <td>7802</td>\n",
       "      <td>7802</td>\n",
       "      <td>7802</td>\n",
       "      <td>7802</td>\n",
       "      <td>7802</td>\n",
       "      <td>7802</td>\n",
       "      <td>7802</td>\n",
       "      <td>7802</td>\n",
       "      <td>7802</td>\n",
       "      <td>7802</td>\n",
       "    </tr>\n",
       "    <tr>\n",
       "      <th>B</th>\n",
       "      <td>5852</td>\n",
       "      <td>663</td>\n",
       "      <td>866</td>\n",
       "      <td>6140</td>\n",
       "      <td>6140</td>\n",
       "      <td>6140</td>\n",
       "      <td>6140</td>\n",
       "      <td>6140</td>\n",
       "      <td>6140</td>\n",
       "      <td>6140</td>\n",
       "      <td>...</td>\n",
       "      <td>6140</td>\n",
       "      <td>6140</td>\n",
       "      <td>6140</td>\n",
       "      <td>6140</td>\n",
       "      <td>6140</td>\n",
       "      <td>6140</td>\n",
       "      <td>6140</td>\n",
       "      <td>6140</td>\n",
       "      <td>6140</td>\n",
       "      <td>6140</td>\n",
       "    </tr>\n",
       "    <tr>\n",
       "      <th>C</th>\n",
       "      <td>3582</td>\n",
       "      <td>478</td>\n",
       "      <td>608</td>\n",
       "      <td>3723</td>\n",
       "      <td>3723</td>\n",
       "      <td>3723</td>\n",
       "      <td>3723</td>\n",
       "      <td>3723</td>\n",
       "      <td>3723</td>\n",
       "      <td>3722</td>\n",
       "      <td>...</td>\n",
       "      <td>3723</td>\n",
       "      <td>3723</td>\n",
       "      <td>3723</td>\n",
       "      <td>3723</td>\n",
       "      <td>3723</td>\n",
       "      <td>3723</td>\n",
       "      <td>3723</td>\n",
       "      <td>3723</td>\n",
       "      <td>3723</td>\n",
       "      <td>3723</td>\n",
       "    </tr>\n",
       "    <tr>\n",
       "      <th>D</th>\n",
       "      <td>2316</td>\n",
       "      <td>387</td>\n",
       "      <td>497</td>\n",
       "      <td>2410</td>\n",
       "      <td>2410</td>\n",
       "      <td>2410</td>\n",
       "      <td>2410</td>\n",
       "      <td>2410</td>\n",
       "      <td>2410</td>\n",
       "      <td>2410</td>\n",
       "      <td>...</td>\n",
       "      <td>2410</td>\n",
       "      <td>2410</td>\n",
       "      <td>2410</td>\n",
       "      <td>2410</td>\n",
       "      <td>2410</td>\n",
       "      <td>2410</td>\n",
       "      <td>2410</td>\n",
       "      <td>2410</td>\n",
       "      <td>2410</td>\n",
       "      <td>2410</td>\n",
       "    </tr>\n",
       "    <tr>\n",
       "      <th>E</th>\n",
       "      <td>7123</td>\n",
       "      <td>651</td>\n",
       "      <td>852</td>\n",
       "      <td>7814</td>\n",
       "      <td>7814</td>\n",
       "      <td>7814</td>\n",
       "      <td>7814</td>\n",
       "      <td>7814</td>\n",
       "      <td>7814</td>\n",
       "      <td>7813</td>\n",
       "      <td>...</td>\n",
       "      <td>7814</td>\n",
       "      <td>7814</td>\n",
       "      <td>7814</td>\n",
       "      <td>7814</td>\n",
       "      <td>7814</td>\n",
       "      <td>7814</td>\n",
       "      <td>7814</td>\n",
       "      <td>7814</td>\n",
       "      <td>7814</td>\n",
       "      <td>7814</td>\n",
       "    </tr>\n",
       "    <tr>\n",
       "      <th>O</th>\n",
       "      <td>171</td>\n",
       "      <td>0</td>\n",
       "      <td>0</td>\n",
       "      <td>175</td>\n",
       "      <td>175</td>\n",
       "      <td>175</td>\n",
       "      <td>175</td>\n",
       "      <td>175</td>\n",
       "      <td>175</td>\n",
       "      <td>175</td>\n",
       "      <td>...</td>\n",
       "      <td>175</td>\n",
       "      <td>175</td>\n",
       "      <td>175</td>\n",
       "      <td>175</td>\n",
       "      <td>175</td>\n",
       "      <td>175</td>\n",
       "      <td>175</td>\n",
       "      <td>175</td>\n",
       "      <td>175</td>\n",
       "      <td>175</td>\n",
       "    </tr>\n",
       "  </tbody>\n",
       "</table>\n",
       "<p>6 rows × 147 columns</p>\n",
       "</div>"
      ],
      "text/plain": [
       "                  LastDueDate  Extension_Granted  ExtensionDate  \\\n",
       "GradeTranslation                                                  \n",
       "A                        7481                601            775   \n",
       "B                        5852                663            866   \n",
       "C                        3582                478            608   \n",
       "D                        2316                387            497   \n",
       "E                        7123                651            852   \n",
       "O                         171                  0              0   \n",
       "\n",
       "                  EnrollmentCount  ProductTypeID  CustomerName  CustomerID  \\\n",
       "GradeTranslation                                                             \n",
       "A                            7802           7802          7802        7802   \n",
       "B                            6140           6140          6140        6140   \n",
       "C                            3723           3723          3723        3723   \n",
       "D                            2410           2410          2410        2410   \n",
       "E                            7814           7814          7814        7814   \n",
       "O                             175            175           175         175   \n",
       "\n",
       "                  UniverseName  UniverseID  TopParentOrgName  \\\n",
       "GradeTranslation                                               \n",
       "A                         7802        7802              7798   \n",
       "B                         6140        6140              6140   \n",
       "C                         3723        3723              3722   \n",
       "D                         2410        2410              2410   \n",
       "E                         7814        7814              7813   \n",
       "O                          175         175               175   \n",
       "\n",
       "                           ...            Grade_C  Grade_D  Grade_E  Grade_O  \\\n",
       "GradeTranslation           ...                                                 \n",
       "A                          ...               7802     7802     7802     7802   \n",
       "B                          ...               6140     6140     6140     6140   \n",
       "C                          ...               3723     3723     3723     3723   \n",
       "D                          ...               2410     2410     2410     2410   \n",
       "E                          ...               7814     7814     7814     7814   \n",
       "O                          ...                175      175      175      175   \n",
       "\n",
       "                  Subject_Electives  Subject_English  Subject_Math  \\\n",
       "GradeTranslation                                                     \n",
       "A                              7802             7802          7802   \n",
       "B                              6140             6140          6140   \n",
       "C                              3723             3723          3723   \n",
       "D                              2410             2410          2410   \n",
       "E                              7814             7814          7814   \n",
       "O                               175              175           175   \n",
       "\n",
       "                  Subject_Science  Subject_Social Studies  \\\n",
       "GradeTranslation                                            \n",
       "A                            7802                    7802   \n",
       "B                            6140                    6140   \n",
       "C                            3723                    3723   \n",
       "D                            2410                    2410   \n",
       "E                            7814                    7814   \n",
       "O                             175                     175   \n",
       "\n",
       "                  Subject_World Language  \n",
       "GradeTranslation                          \n",
       "A                                   7802  \n",
       "B                                   6140  \n",
       "C                                   3723  \n",
       "D                                   2410  \n",
       "E                                   7814  \n",
       "O                                    175  \n",
       "\n",
       "[6 rows x 147 columns]"
      ]
     },
     "execution_count": 228,
     "metadata": {},
     "output_type": "execute_result"
    }
   ],
   "source": [
    "enr_complete.groupby('GradeTranslation').count()"
   ]
  },
  {
   "cell_type": "code",
   "execution_count": 229,
   "metadata": {
    "collapsed": true
   },
   "outputs": [],
   "source": [
    "# for scikit-learn, map each grade to a number \n",
    "enr_complete['gradeID'] = enr_complete.GradeTranslation.map({'A':1,'B':2,'C':3,'D':4,'E':5,'O':6})"
   ]
  },
  {
   "cell_type": "code",
   "execution_count": 230,
   "metadata": {
    "collapsed": false,
    "scrolled": true
   },
   "outputs": [
    {
     "data": {
      "text/html": [
       "<div>\n",
       "<table border=\"1\" class=\"dataframe\">\n",
       "  <thead>\n",
       "    <tr style=\"text-align: right;\">\n",
       "      <th></th>\n",
       "      <th>gradeID</th>\n",
       "      <th>GradeTranslation</th>\n",
       "    </tr>\n",
       "    <tr>\n",
       "      <th>EnrollmentID</th>\n",
       "      <th></th>\n",
       "      <th></th>\n",
       "    </tr>\n",
       "  </thead>\n",
       "  <tbody>\n",
       "    <tr>\n",
       "      <th>24795034</th>\n",
       "      <td>1</td>\n",
       "      <td>A</td>\n",
       "    </tr>\n",
       "    <tr>\n",
       "      <th>25126391</th>\n",
       "      <td>1</td>\n",
       "      <td>A</td>\n",
       "    </tr>\n",
       "    <tr>\n",
       "      <th>25239780</th>\n",
       "      <td>1</td>\n",
       "      <td>A</td>\n",
       "    </tr>\n",
       "    <tr>\n",
       "      <th>25261395</th>\n",
       "      <td>1</td>\n",
       "      <td>A</td>\n",
       "    </tr>\n",
       "    <tr>\n",
       "      <th>25261399</th>\n",
       "      <td>1</td>\n",
       "      <td>A</td>\n",
       "    </tr>\n",
       "    <tr>\n",
       "      <th>25261417</th>\n",
       "      <td>1</td>\n",
       "      <td>A</td>\n",
       "    </tr>\n",
       "    <tr>\n",
       "      <th>25334334</th>\n",
       "      <td>1</td>\n",
       "      <td>A</td>\n",
       "    </tr>\n",
       "    <tr>\n",
       "      <th>25409758</th>\n",
       "      <td>1</td>\n",
       "      <td>A</td>\n",
       "    </tr>\n",
       "    <tr>\n",
       "      <th>25441966</th>\n",
       "      <td>1</td>\n",
       "      <td>A</td>\n",
       "    </tr>\n",
       "    <tr>\n",
       "      <th>25454012</th>\n",
       "      <td>1</td>\n",
       "      <td>A</td>\n",
       "    </tr>\n",
       "    <tr>\n",
       "      <th>25509738</th>\n",
       "      <td>1</td>\n",
       "      <td>A</td>\n",
       "    </tr>\n",
       "    <tr>\n",
       "      <th>25509835</th>\n",
       "      <td>1</td>\n",
       "      <td>A</td>\n",
       "    </tr>\n",
       "    <tr>\n",
       "      <th>25540035</th>\n",
       "      <td>1</td>\n",
       "      <td>A</td>\n",
       "    </tr>\n",
       "    <tr>\n",
       "      <th>25574826</th>\n",
       "      <td>1</td>\n",
       "      <td>A</td>\n",
       "    </tr>\n",
       "    <tr>\n",
       "      <th>25575004</th>\n",
       "      <td>1</td>\n",
       "      <td>A</td>\n",
       "    </tr>\n",
       "    <tr>\n",
       "      <th>25575028</th>\n",
       "      <td>1</td>\n",
       "      <td>A</td>\n",
       "    </tr>\n",
       "    <tr>\n",
       "      <th>25575137</th>\n",
       "      <td>1</td>\n",
       "      <td>A</td>\n",
       "    </tr>\n",
       "    <tr>\n",
       "      <th>25575194</th>\n",
       "      <td>1</td>\n",
       "      <td>A</td>\n",
       "    </tr>\n",
       "    <tr>\n",
       "      <th>25575236</th>\n",
       "      <td>1</td>\n",
       "      <td>A</td>\n",
       "    </tr>\n",
       "    <tr>\n",
       "      <th>25620435</th>\n",
       "      <td>1</td>\n",
       "      <td>A</td>\n",
       "    </tr>\n",
       "    <tr>\n",
       "      <th>25628429</th>\n",
       "      <td>1</td>\n",
       "      <td>A</td>\n",
       "    </tr>\n",
       "    <tr>\n",
       "      <th>25665026</th>\n",
       "      <td>1</td>\n",
       "      <td>A</td>\n",
       "    </tr>\n",
       "    <tr>\n",
       "      <th>25676860</th>\n",
       "      <td>1</td>\n",
       "      <td>A</td>\n",
       "    </tr>\n",
       "    <tr>\n",
       "      <th>25676861</th>\n",
       "      <td>1</td>\n",
       "      <td>A</td>\n",
       "    </tr>\n",
       "    <tr>\n",
       "      <th>25684959</th>\n",
       "      <td>1</td>\n",
       "      <td>A</td>\n",
       "    </tr>\n",
       "    <tr>\n",
       "      <th>25690144</th>\n",
       "      <td>1</td>\n",
       "      <td>A</td>\n",
       "    </tr>\n",
       "    <tr>\n",
       "      <th>25690639</th>\n",
       "      <td>1</td>\n",
       "      <td>A</td>\n",
       "    </tr>\n",
       "    <tr>\n",
       "      <th>25737625</th>\n",
       "      <td>1</td>\n",
       "      <td>A</td>\n",
       "    </tr>\n",
       "    <tr>\n",
       "      <th>25737645</th>\n",
       "      <td>1</td>\n",
       "      <td>A</td>\n",
       "    </tr>\n",
       "    <tr>\n",
       "      <th>25737731</th>\n",
       "      <td>1</td>\n",
       "      <td>A</td>\n",
       "    </tr>\n",
       "    <tr>\n",
       "      <th>...</th>\n",
       "      <td>...</td>\n",
       "      <td>...</td>\n",
       "    </tr>\n",
       "    <tr>\n",
       "      <th>30363027</th>\n",
       "      <td>6</td>\n",
       "      <td>O</td>\n",
       "    </tr>\n",
       "    <tr>\n",
       "      <th>30363034</th>\n",
       "      <td>6</td>\n",
       "      <td>O</td>\n",
       "    </tr>\n",
       "    <tr>\n",
       "      <th>30363037</th>\n",
       "      <td>6</td>\n",
       "      <td>O</td>\n",
       "    </tr>\n",
       "    <tr>\n",
       "      <th>30363074</th>\n",
       "      <td>6</td>\n",
       "      <td>O</td>\n",
       "    </tr>\n",
       "    <tr>\n",
       "      <th>30363076</th>\n",
       "      <td>6</td>\n",
       "      <td>O</td>\n",
       "    </tr>\n",
       "    <tr>\n",
       "      <th>30363081</th>\n",
       "      <td>6</td>\n",
       "      <td>O</td>\n",
       "    </tr>\n",
       "    <tr>\n",
       "      <th>30363082</th>\n",
       "      <td>6</td>\n",
       "      <td>O</td>\n",
       "    </tr>\n",
       "    <tr>\n",
       "      <th>30363084</th>\n",
       "      <td>6</td>\n",
       "      <td>O</td>\n",
       "    </tr>\n",
       "    <tr>\n",
       "      <th>30363087</th>\n",
       "      <td>6</td>\n",
       "      <td>O</td>\n",
       "    </tr>\n",
       "    <tr>\n",
       "      <th>30363094</th>\n",
       "      <td>6</td>\n",
       "      <td>O</td>\n",
       "    </tr>\n",
       "    <tr>\n",
       "      <th>30363103</th>\n",
       "      <td>6</td>\n",
       "      <td>O</td>\n",
       "    </tr>\n",
       "    <tr>\n",
       "      <th>30363108</th>\n",
       "      <td>6</td>\n",
       "      <td>O</td>\n",
       "    </tr>\n",
       "    <tr>\n",
       "      <th>30363114</th>\n",
       "      <td>6</td>\n",
       "      <td>O</td>\n",
       "    </tr>\n",
       "    <tr>\n",
       "      <th>30363119</th>\n",
       "      <td>6</td>\n",
       "      <td>O</td>\n",
       "    </tr>\n",
       "    <tr>\n",
       "      <th>30363120</th>\n",
       "      <td>6</td>\n",
       "      <td>O</td>\n",
       "    </tr>\n",
       "    <tr>\n",
       "      <th>30363128</th>\n",
       "      <td>6</td>\n",
       "      <td>O</td>\n",
       "    </tr>\n",
       "    <tr>\n",
       "      <th>30363129</th>\n",
       "      <td>6</td>\n",
       "      <td>O</td>\n",
       "    </tr>\n",
       "    <tr>\n",
       "      <th>30363132</th>\n",
       "      <td>6</td>\n",
       "      <td>O</td>\n",
       "    </tr>\n",
       "    <tr>\n",
       "      <th>30363135</th>\n",
       "      <td>6</td>\n",
       "      <td>O</td>\n",
       "    </tr>\n",
       "    <tr>\n",
       "      <th>30363136</th>\n",
       "      <td>6</td>\n",
       "      <td>O</td>\n",
       "    </tr>\n",
       "    <tr>\n",
       "      <th>30363137</th>\n",
       "      <td>6</td>\n",
       "      <td>O</td>\n",
       "    </tr>\n",
       "    <tr>\n",
       "      <th>30363139</th>\n",
       "      <td>6</td>\n",
       "      <td>O</td>\n",
       "    </tr>\n",
       "    <tr>\n",
       "      <th>30363145</th>\n",
       "      <td>6</td>\n",
       "      <td>O</td>\n",
       "    </tr>\n",
       "    <tr>\n",
       "      <th>30363153</th>\n",
       "      <td>6</td>\n",
       "      <td>O</td>\n",
       "    </tr>\n",
       "    <tr>\n",
       "      <th>30363157</th>\n",
       "      <td>6</td>\n",
       "      <td>O</td>\n",
       "    </tr>\n",
       "    <tr>\n",
       "      <th>30907746</th>\n",
       "      <td>6</td>\n",
       "      <td>O</td>\n",
       "    </tr>\n",
       "    <tr>\n",
       "      <th>30907745</th>\n",
       "      <td>6</td>\n",
       "      <td>O</td>\n",
       "    </tr>\n",
       "    <tr>\n",
       "      <th>31115874</th>\n",
       "      <td>6</td>\n",
       "      <td>O</td>\n",
       "    </tr>\n",
       "    <tr>\n",
       "      <th>31070955</th>\n",
       "      <td>6</td>\n",
       "      <td>O</td>\n",
       "    </tr>\n",
       "    <tr>\n",
       "      <th>30967339</th>\n",
       "      <td>6</td>\n",
       "      <td>O</td>\n",
       "    </tr>\n",
       "  </tbody>\n",
       "</table>\n",
       "<p>28064 rows × 2 columns</p>\n",
       "</div>"
      ],
      "text/plain": [
       "              gradeID GradeTranslation\n",
       "EnrollmentID                          \n",
       "24795034            1                A\n",
       "25126391            1                A\n",
       "25239780            1                A\n",
       "25261395            1                A\n",
       "25261399            1                A\n",
       "25261417            1                A\n",
       "25334334            1                A\n",
       "25409758            1                A\n",
       "25441966            1                A\n",
       "25454012            1                A\n",
       "25509738            1                A\n",
       "25509835            1                A\n",
       "25540035            1                A\n",
       "25574826            1                A\n",
       "25575004            1                A\n",
       "25575028            1                A\n",
       "25575137            1                A\n",
       "25575194            1                A\n",
       "25575236            1                A\n",
       "25620435            1                A\n",
       "25628429            1                A\n",
       "25665026            1                A\n",
       "25676860            1                A\n",
       "25676861            1                A\n",
       "25684959            1                A\n",
       "25690144            1                A\n",
       "25690639            1                A\n",
       "25737625            1                A\n",
       "25737645            1                A\n",
       "25737731            1                A\n",
       "...               ...              ...\n",
       "30363027            6                O\n",
       "30363034            6                O\n",
       "30363037            6                O\n",
       "30363074            6                O\n",
       "30363076            6                O\n",
       "30363081            6                O\n",
       "30363082            6                O\n",
       "30363084            6                O\n",
       "30363087            6                O\n",
       "30363094            6                O\n",
       "30363103            6                O\n",
       "30363108            6                O\n",
       "30363114            6                O\n",
       "30363119            6                O\n",
       "30363120            6                O\n",
       "30363128            6                O\n",
       "30363129            6                O\n",
       "30363132            6                O\n",
       "30363135            6                O\n",
       "30363136            6                O\n",
       "30363137            6                O\n",
       "30363139            6                O\n",
       "30363145            6                O\n",
       "30363153            6                O\n",
       "30363157            6                O\n",
       "30907746            6                O\n",
       "30907745            6                O\n",
       "31115874            6                O\n",
       "31070955            6                O\n",
       "30967339            6                O\n",
       "\n",
       "[28064 rows x 2 columns]"
      ]
     },
     "execution_count": 230,
     "metadata": {},
     "output_type": "execute_result"
    }
   ],
   "source": [
    "enr_complete[['gradeID','GradeTranslation']]"
   ]
  },
  {
   "cell_type": "code",
   "execution_count": 233,
   "metadata": {
    "collapsed": false
   },
   "outputs": [
    {
     "data": {
      "text/plain": [
       "<matplotlib.axes._subplots.AxesSubplot at 0x145232110>"
      ]
     },
     "execution_count": 233,
     "metadata": {},
     "output_type": "execute_result"
    },
    {
     "data": {
      "image/png": "[encoded data removed]",
      "text/plain": [
       "<matplotlib.figure.Figure at 0x1437e82d0>"
      ]
     },
     "metadata": {},
     "output_type": "display_data"
    }
   ],
   "source": [
    "enr_complete.plot(kind='scatter',x='OverdueActivities',y='gradeID')"
   ]
  },
  {
   "cell_type": "code",
   "execution_count": 234,
   "metadata": {
    "collapsed": false
   },
   "outputs": [
    {
     "data": {
      "text/plain": [
       "<matplotlib.axes._subplots.AxesSubplot at 0x12a331910>"
      ]
     },
     "execution_count": 234,
     "metadata": {},
     "output_type": "execute_result"
    },
    {
     "data": {
      "image/png": "[encoded data removed]",
      "text/plain": [
       "<matplotlib.figure.Figure at 0x129db2250>"
      ]
     },
     "metadata": {},
     "output_type": "display_data"
    }
   ],
   "source": [
    "# Is there any relationship between amount of work in a course (number of scored activities) and amount of work not done (number of overdue activities)?\n",
    "enr_complete.plot(kind='scatter',x='OverdueActivities',y='NumOfScoredActivitiesByCourse')"
   ]
  },
  {
   "cell_type": "code",
   "execution_count": 236,
   "metadata": {
    "collapsed": false
   },
   "outputs": [
    {
     "data": {
      "text/plain": [
       "<matplotlib.axes._subplots.AxesSubplot at 0x12a24bc50>"
      ]
     },
     "execution_count": 236,
     "metadata": {},
     "output_type": "execute_result"
    },
    {
     "data": {
      "image/png": "[encoded data removed]",
      "text/plain": [
       "<matplotlib.figure.Figure at 0x12a331ad0>"
      ]
     },
     "metadata": {},
     "output_type": "display_data"
    }
   ],
   "source": [
    "# Is there any relationship between number of overdue activities and which semester a student is in?\n",
    "enr_complete.plot(kind='scatter',x=\"SemesterID\",y=\"OverdueActivities\")"
   ]
  },
  {
   "cell_type": "code",
   "execution_count": 237,
   "metadata": {
    "collapsed": false,
    "scrolled": true
   },
   "outputs": [
    {
     "data": {
      "text/html": [
       "<div>\n",
       "<table border=\"1\" class=\"dataframe\">\n",
       "  <thead>\n",
       "    <tr style=\"text-align: right;\">\n",
       "      <th></th>\n",
       "      <th>LastDueDate</th>\n",
       "      <th>Extension_Granted</th>\n",
       "      <th>ExtensionDate</th>\n",
       "      <th>EnrollmentCount</th>\n",
       "      <th>ProductTypeID</th>\n",
       "      <th>CustomerName</th>\n",
       "      <th>CustomerID</th>\n",
       "      <th>UniverseName</th>\n",
       "      <th>UniverseID</th>\n",
       "      <th>TopParentOrgName</th>\n",
       "      <th>...</th>\n",
       "      <th>Grade_D</th>\n",
       "      <th>Grade_E</th>\n",
       "      <th>Grade_O</th>\n",
       "      <th>Subject_Electives</th>\n",
       "      <th>Subject_English</th>\n",
       "      <th>Subject_Math</th>\n",
       "      <th>Subject_Science</th>\n",
       "      <th>Subject_Social Studies</th>\n",
       "      <th>Subject_World Language</th>\n",
       "      <th>gradeID</th>\n",
       "    </tr>\n",
       "    <tr>\n",
       "      <th>StartedThree</th>\n",
       "      <th></th>\n",
       "      <th></th>\n",
       "      <th></th>\n",
       "      <th></th>\n",
       "      <th></th>\n",
       "      <th></th>\n",
       "      <th></th>\n",
       "      <th></th>\n",
       "      <th></th>\n",
       "      <th></th>\n",
       "      <th></th>\n",
       "      <th></th>\n",
       "      <th></th>\n",
       "      <th></th>\n",
       "      <th></th>\n",
       "      <th></th>\n",
       "      <th></th>\n",
       "      <th></th>\n",
       "      <th></th>\n",
       "      <th></th>\n",
       "      <th></th>\n",
       "    </tr>\n",
       "  </thead>\n",
       "  <tbody>\n",
       "    <tr>\n",
       "      <th>No</th>\n",
       "      <td>6577</td>\n",
       "      <td>731</td>\n",
       "      <td>933</td>\n",
       "      <td>7178</td>\n",
       "      <td>7178</td>\n",
       "      <td>7178</td>\n",
       "      <td>7178</td>\n",
       "      <td>7178</td>\n",
       "      <td>7178</td>\n",
       "      <td>7174</td>\n",
       "      <td>...</td>\n",
       "      <td>7178</td>\n",
       "      <td>7178</td>\n",
       "      <td>7178</td>\n",
       "      <td>7178</td>\n",
       "      <td>7178</td>\n",
       "      <td>7178</td>\n",
       "      <td>7178</td>\n",
       "      <td>7178</td>\n",
       "      <td>7178</td>\n",
       "      <td>7178</td>\n",
       "    </tr>\n",
       "    <tr>\n",
       "      <th>Yes</th>\n",
       "      <td>19948</td>\n",
       "      <td>2049</td>\n",
       "      <td>2665</td>\n",
       "      <td>20886</td>\n",
       "      <td>20886</td>\n",
       "      <td>20886</td>\n",
       "      <td>20886</td>\n",
       "      <td>20886</td>\n",
       "      <td>20886</td>\n",
       "      <td>20884</td>\n",
       "      <td>...</td>\n",
       "      <td>20886</td>\n",
       "      <td>20886</td>\n",
       "      <td>20886</td>\n",
       "      <td>20886</td>\n",
       "      <td>20886</td>\n",
       "      <td>20886</td>\n",
       "      <td>20886</td>\n",
       "      <td>20886</td>\n",
       "      <td>20886</td>\n",
       "      <td>20886</td>\n",
       "    </tr>\n",
       "  </tbody>\n",
       "</table>\n",
       "<p>2 rows × 148 columns</p>\n",
       "</div>"
      ],
      "text/plain": [
       "              LastDueDate  Extension_Granted  ExtensionDate  EnrollmentCount  \\\n",
       "StartedThree                                                                   \n",
       "No                   6577                731            933             7178   \n",
       "Yes                 19948               2049           2665            20886   \n",
       "\n",
       "              ProductTypeID  CustomerName  CustomerID  UniverseName  \\\n",
       "StartedThree                                                          \n",
       "No                     7178          7178        7178          7178   \n",
       "Yes                   20886         20886       20886         20886   \n",
       "\n",
       "              UniverseID  TopParentOrgName   ...     Grade_D  Grade_E  \\\n",
       "StartedThree                                 ...                        \n",
       "No                  7178              7174   ...        7178     7178   \n",
       "Yes                20886             20884   ...       20886    20886   \n",
       "\n",
       "              Grade_O  Subject_Electives  Subject_English  Subject_Math  \\\n",
       "StartedThree                                                              \n",
       "No               7178               7178             7178          7178   \n",
       "Yes             20886              20886            20886         20886   \n",
       "\n",
       "              Subject_Science  Subject_Social Studies  Subject_World Language  \\\n",
       "StartedThree                                                                    \n",
       "No                       7178                    7178                    7178   \n",
       "Yes                     20886                   20886                   20886   \n",
       "\n",
       "              gradeID  \n",
       "StartedThree           \n",
       "No               7178  \n",
       "Yes             20886  \n",
       "\n",
       "[2 rows x 148 columns]"
      ]
     },
     "execution_count": 237,
     "metadata": {},
     "output_type": "execute_result"
    }
   ],
   "source": [
    "# 'StartedThree' measures if a student started working on the course within three days of the course starting\n",
    "# Check counts and check for nulls\n",
    "enr_complete.groupby('StartedThree').count()"
   ]
  },
  {
   "cell_type": "code",
   "execution_count": 242,
   "metadata": {
    "collapsed": false
   },
   "outputs": [],
   "source": [
    "# StartedThree is a Yes/No field. Create a numeric 0/1 field for it.\n",
    "enr_complete['StartedThree_binary'] = enr_complete['StartedThree'].map({'No':0,'Yes':1})"
   ]
  },
  {
   "cell_type": "code",
   "execution_count": 243,
   "metadata": {
    "collapsed": false
   },
   "outputs": [
    {
     "data": {
      "text/html": [
       "<div>\n",
       "<table border=\"1\" class=\"dataframe\">\n",
       "  <thead>\n",
       "    <tr style=\"text-align: right;\">\n",
       "      <th></th>\n",
       "      <th>LastDueDate</th>\n",
       "      <th>Extension_Granted</th>\n",
       "      <th>ExtensionDate</th>\n",
       "      <th>EnrollmentCount</th>\n",
       "      <th>ProductTypeID</th>\n",
       "      <th>CustomerName</th>\n",
       "      <th>CustomerID</th>\n",
       "      <th>UniverseName</th>\n",
       "      <th>UniverseID</th>\n",
       "      <th>TopParentOrgName</th>\n",
       "      <th>...</th>\n",
       "      <th>Grade_D</th>\n",
       "      <th>Grade_E</th>\n",
       "      <th>Grade_O</th>\n",
       "      <th>Subject_Electives</th>\n",
       "      <th>Subject_English</th>\n",
       "      <th>Subject_Math</th>\n",
       "      <th>Subject_Science</th>\n",
       "      <th>Subject_Social Studies</th>\n",
       "      <th>Subject_World Language</th>\n",
       "      <th>gradeID</th>\n",
       "    </tr>\n",
       "    <tr>\n",
       "      <th>StartedThree_binary</th>\n",
       "      <th></th>\n",
       "      <th></th>\n",
       "      <th></th>\n",
       "      <th></th>\n",
       "      <th></th>\n",
       "      <th></th>\n",
       "      <th></th>\n",
       "      <th></th>\n",
       "      <th></th>\n",
       "      <th></th>\n",
       "      <th></th>\n",
       "      <th></th>\n",
       "      <th></th>\n",
       "      <th></th>\n",
       "      <th></th>\n",
       "      <th></th>\n",
       "      <th></th>\n",
       "      <th></th>\n",
       "      <th></th>\n",
       "      <th></th>\n",
       "      <th></th>\n",
       "    </tr>\n",
       "  </thead>\n",
       "  <tbody>\n",
       "    <tr>\n",
       "      <th>0</th>\n",
       "      <td>6577</td>\n",
       "      <td>731</td>\n",
       "      <td>933</td>\n",
       "      <td>7178</td>\n",
       "      <td>7178</td>\n",
       "      <td>7178</td>\n",
       "      <td>7178</td>\n",
       "      <td>7178</td>\n",
       "      <td>7178</td>\n",
       "      <td>7174</td>\n",
       "      <td>...</td>\n",
       "      <td>7178</td>\n",
       "      <td>7178</td>\n",
       "      <td>7178</td>\n",
       "      <td>7178</td>\n",
       "      <td>7178</td>\n",
       "      <td>7178</td>\n",
       "      <td>7178</td>\n",
       "      <td>7178</td>\n",
       "      <td>7178</td>\n",
       "      <td>7178</td>\n",
       "    </tr>\n",
       "    <tr>\n",
       "      <th>1</th>\n",
       "      <td>19948</td>\n",
       "      <td>2049</td>\n",
       "      <td>2665</td>\n",
       "      <td>20886</td>\n",
       "      <td>20886</td>\n",
       "      <td>20886</td>\n",
       "      <td>20886</td>\n",
       "      <td>20886</td>\n",
       "      <td>20886</td>\n",
       "      <td>20884</td>\n",
       "      <td>...</td>\n",
       "      <td>20886</td>\n",
       "      <td>20886</td>\n",
       "      <td>20886</td>\n",
       "      <td>20886</td>\n",
       "      <td>20886</td>\n",
       "      <td>20886</td>\n",
       "      <td>20886</td>\n",
       "      <td>20886</td>\n",
       "      <td>20886</td>\n",
       "      <td>20886</td>\n",
       "    </tr>\n",
       "  </tbody>\n",
       "</table>\n",
       "<p>2 rows × 149 columns</p>\n",
       "</div>"
      ],
      "text/plain": [
       "                     LastDueDate  Extension_Granted  ExtensionDate  \\\n",
       "StartedThree_binary                                                  \n",
       "0                           6577                731            933   \n",
       "1                          19948               2049           2665   \n",
       "\n",
       "                     EnrollmentCount  ProductTypeID  CustomerName  CustomerID  \\\n",
       "StartedThree_binary                                                             \n",
       "0                               7178           7178          7178        7178   \n",
       "1                              20886          20886         20886       20886   \n",
       "\n",
       "                     UniverseName  UniverseID  TopParentOrgName   ...     \\\n",
       "StartedThree_binary                                               ...      \n",
       "0                            7178        7178              7174   ...      \n",
       "1                           20886       20886             20884   ...      \n",
       "\n",
       "                     Grade_D  Grade_E  Grade_O  Subject_Electives  \\\n",
       "StartedThree_binary                                                 \n",
       "0                       7178     7178     7178               7178   \n",
       "1                      20886    20886    20886              20886   \n",
       "\n",
       "                     Subject_English  Subject_Math  Subject_Science  \\\n",
       "StartedThree_binary                                                   \n",
       "0                               7178          7178             7178   \n",
       "1                              20886         20886            20886   \n",
       "\n",
       "                     Subject_Social Studies  Subject_World Language  gradeID  \n",
       "StartedThree_binary                                                           \n",
       "0                                      7178                    7178     7178  \n",
       "1                                     20886                   20886    20886  \n",
       "\n",
       "[2 rows x 149 columns]"
      ]
     },
     "execution_count": 243,
     "metadata": {},
     "output_type": "execute_result"
    }
   ],
   "source": [
    "# Check counts of new column match counts in original Yes/No column above\n",
    "enr_complete.groupby('StartedThree_binary').count()"
   ]
  },
  {
   "cell_type": "code",
   "execution_count": 244,
   "metadata": {
    "collapsed": false
   },
   "outputs": [
    {
     "data": {
      "text/plain": [
       "<matplotlib.axes._subplots.AxesSubplot at 0x129d0ead0>"
      ]
     },
     "execution_count": 244,
     "metadata": {},
     "output_type": "execute_result"
    },
    {
     "data": {
      "image/png": "[encoded data removed]",
      "text/plain": [
       "<matplotlib.figure.Figure at 0x12a2f2ed0>"
      ]
     },
     "metadata": {},
     "output_type": "display_data"
    }
   ],
   "source": [
    "enr_complete.plot(kind='scatter',x='StartedThree_binary',y=\"OverdueActivities\")"
   ]
  },
  {
   "cell_type": "markdown",
   "metadata": {
    "collapsed": true
   },
   "source": [
    "## Started_Three does not seem very predictive of the number of overdue activities students will have."
   ]
  },
  {
   "cell_type": "code",
   "execution_count": 251,
   "metadata": {
    "collapsed": false
   },
   "outputs": [
    {
     "data": {
      "text/plain": [
       "StartedThree_binary\n",
       "0     7178\n",
       "1    20886\n",
       "Name: gradeID, dtype: int64"
      ]
     },
     "execution_count": 251,
     "metadata": {},
     "output_type": "execute_result"
    }
   ],
   "source": [
    "# What's the breakdown of grades by the 'StartedThree' value?\n",
    "enr_complete['gradeID'].groupby(enr_complete['StartedThree_binary']).count()"
   ]
  },
  {
   "cell_type": "code",
   "execution_count": 252,
   "metadata": {
    "collapsed": false
   },
   "outputs": [
    {
     "data": {
      "text/plain": [
       "gradeID\n",
       "1    7802\n",
       "2    6140\n",
       "3    3723\n",
       "4    2410\n",
       "5    7814\n",
       "6     175\n",
       "Name: StartedThree_binary, dtype: int64"
      ]
     },
     "execution_count": 252,
     "metadata": {},
     "output_type": "execute_result"
    }
   ],
   "source": [
    "enr_complete['StartedThree_binary'].groupby(enr_complete['gradeID']).count()"
   ]
  },
  {
   "cell_type": "markdown",
   "metadata": {},
   "source": [
    "### Most students who get an A, B, or E started within 3 days of the classroom starting. It's not clear if this will be that helpful since A, B, and E all share that characteristic, and we're trying to take steps to ensure a higher grade, not an equal chance of the highest or lowest grade."
   ]
  },
  {
   "cell_type": "markdown",
   "metadata": {},
   "source": [
    "## Let's start exploring the response variable.\n",
    "## First, will take approach of exploring just passing or not rather than specific grades."
   ]
  },
  {
   "cell_type": "code",
   "execution_count": 355,
   "metadata": {
    "collapsed": false
   },
   "outputs": [
    {
     "data": {
      "text/html": [
       "<div>\n",
       "<table border=\"1\" class=\"dataframe\">\n",
       "  <thead>\n",
       "    <tr style=\"text-align: right;\">\n",
       "      <th></th>\n",
       "      <th>LastDueDate</th>\n",
       "      <th>Extension_Granted</th>\n",
       "      <th>ExtensionDate</th>\n",
       "      <th>EnrollmentCount</th>\n",
       "      <th>ProductTypeID</th>\n",
       "      <th>CustomerName</th>\n",
       "      <th>CustomerID</th>\n",
       "      <th>UniverseName</th>\n",
       "      <th>UniverseID</th>\n",
       "      <th>TopParentOrgName</th>\n",
       "      <th>...</th>\n",
       "      <th>Grade_O</th>\n",
       "      <th>Subject_Electives</th>\n",
       "      <th>Subject_English</th>\n",
       "      <th>Subject_Math</th>\n",
       "      <th>Subject_Science</th>\n",
       "      <th>Subject_Social Studies</th>\n",
       "      <th>Subject_World Language</th>\n",
       "      <th>gradeID</th>\n",
       "      <th>StartedThree_binary</th>\n",
       "      <th>No_Time_Test</th>\n",
       "    </tr>\n",
       "    <tr>\n",
       "      <th>Passing</th>\n",
       "      <th></th>\n",
       "      <th></th>\n",
       "      <th></th>\n",
       "      <th></th>\n",
       "      <th></th>\n",
       "      <th></th>\n",
       "      <th></th>\n",
       "      <th></th>\n",
       "      <th></th>\n",
       "      <th></th>\n",
       "      <th></th>\n",
       "      <th></th>\n",
       "      <th></th>\n",
       "      <th></th>\n",
       "      <th></th>\n",
       "      <th></th>\n",
       "      <th></th>\n",
       "      <th></th>\n",
       "      <th></th>\n",
       "      <th></th>\n",
       "      <th></th>\n",
       "    </tr>\n",
       "  </thead>\n",
       "  <tbody>\n",
       "    <tr>\n",
       "      <th>False</th>\n",
       "      <td>7294</td>\n",
       "      <td>651</td>\n",
       "      <td>852</td>\n",
       "      <td>7989</td>\n",
       "      <td>7989</td>\n",
       "      <td>7989</td>\n",
       "      <td>7989</td>\n",
       "      <td>7989</td>\n",
       "      <td>7989</td>\n",
       "      <td>7988</td>\n",
       "      <td>...</td>\n",
       "      <td>7989</td>\n",
       "      <td>7989</td>\n",
       "      <td>7989</td>\n",
       "      <td>7989</td>\n",
       "      <td>7989</td>\n",
       "      <td>7989</td>\n",
       "      <td>7989</td>\n",
       "      <td>7989</td>\n",
       "      <td>7989</td>\n",
       "      <td>7989</td>\n",
       "    </tr>\n",
       "    <tr>\n",
       "      <th>True</th>\n",
       "      <td>19231</td>\n",
       "      <td>2129</td>\n",
       "      <td>2746</td>\n",
       "      <td>20075</td>\n",
       "      <td>20075</td>\n",
       "      <td>20075</td>\n",
       "      <td>20075</td>\n",
       "      <td>20075</td>\n",
       "      <td>20075</td>\n",
       "      <td>20070</td>\n",
       "      <td>...</td>\n",
       "      <td>20075</td>\n",
       "      <td>20075</td>\n",
       "      <td>20075</td>\n",
       "      <td>20075</td>\n",
       "      <td>20075</td>\n",
       "      <td>20075</td>\n",
       "      <td>20075</td>\n",
       "      <td>20075</td>\n",
       "      <td>20075</td>\n",
       "      <td>20075</td>\n",
       "    </tr>\n",
       "  </tbody>\n",
       "</table>\n",
       "<p>2 rows × 150 columns</p>\n",
       "</div>"
      ],
      "text/plain": [
       "         LastDueDate  Extension_Granted  ExtensionDate  EnrollmentCount  \\\n",
       "Passing                                                                   \n",
       "False           7294                651            852             7989   \n",
       "True           19231               2129           2746            20075   \n",
       "\n",
       "         ProductTypeID  CustomerName  CustomerID  UniverseName  UniverseID  \\\n",
       "Passing                                                                      \n",
       "False             7989          7989        7989          7989        7989   \n",
       "True             20075         20075       20075         20075       20075   \n",
       "\n",
       "         TopParentOrgName      ...       Grade_O  Subject_Electives  \\\n",
       "Passing                        ...                                    \n",
       "False                7988      ...          7989               7989   \n",
       "True                20070      ...         20075              20075   \n",
       "\n",
       "         Subject_English  Subject_Math  Subject_Science  \\\n",
       "Passing                                                   \n",
       "False               7989          7989             7989   \n",
       "True               20075         20075            20075   \n",
       "\n",
       "         Subject_Social Studies  Subject_World Language  gradeID  \\\n",
       "Passing                                                            \n",
       "False                      7989                    7989     7989   \n",
       "True                      20075                   20075    20075   \n",
       "\n",
       "         StartedThree_binary  No_Time_Test  \n",
       "Passing                                     \n",
       "False                   7989          7989  \n",
       "True                   20075         20075  \n",
       "\n",
       "[2 rows x 150 columns]"
      ]
     },
     "execution_count": 355,
     "metadata": {},
     "output_type": "execute_result"
    }
   ],
   "source": [
    "enr_complete.groupby('Passing').count()"
   ]
  },
  {
   "cell_type": "code",
   "execution_count": 371,
   "metadata": {
    "collapsed": false
   },
   "outputs": [],
   "source": [
    "# Passing is a Yes/No field. Create a numeric 0/1 field for it.\n",
    "# Example apply with lambda: sample['PR'] = sample['PR'].apply(lambda x: np.nan if x < 90 else x)\n",
    "enr_complete['Passing_binary'] = enr_complete['Passing'].apply(lambda x: 1 if x else 0)"
   ]
  },
  {
   "cell_type": "code",
   "execution_count": 372,
   "metadata": {
    "collapsed": false
   },
   "outputs": [
    {
     "data": {
      "text/html": [
       "<div>\n",
       "<table border=\"1\" class=\"dataframe\">\n",
       "  <thead>\n",
       "    <tr style=\"text-align: right;\">\n",
       "      <th></th>\n",
       "      <th>Unnamed: 136</th>\n",
       "      <th>Grade_A</th>\n",
       "      <th>Grade_B</th>\n",
       "      <th>Grade_C</th>\n",
       "      <th>Grade_D</th>\n",
       "      <th>Grade_E</th>\n",
       "      <th>Grade_O</th>\n",
       "      <th>Subject_Electives</th>\n",
       "      <th>Subject_English</th>\n",
       "      <th>Subject_Math</th>\n",
       "      <th>Subject_Science</th>\n",
       "      <th>Subject_Social Studies</th>\n",
       "      <th>Subject_World Language</th>\n",
       "      <th>gradeID</th>\n",
       "      <th>StartedThree_binary</th>\n",
       "    </tr>\n",
       "    <tr>\n",
       "      <th>Passing_binary</th>\n",
       "      <th></th>\n",
       "      <th></th>\n",
       "      <th></th>\n",
       "      <th></th>\n",
       "      <th></th>\n",
       "      <th></th>\n",
       "      <th></th>\n",
       "      <th></th>\n",
       "      <th></th>\n",
       "      <th></th>\n",
       "      <th></th>\n",
       "      <th></th>\n",
       "      <th></th>\n",
       "      <th></th>\n",
       "      <th></th>\n",
       "    </tr>\n",
       "  </thead>\n",
       "  <tbody>\n",
       "    <tr>\n",
       "      <th>0</th>\n",
       "      <td>NaN</td>\n",
       "      <td>0.0</td>\n",
       "      <td>0.0</td>\n",
       "      <td>0.0</td>\n",
       "      <td>0.0</td>\n",
       "      <td>7814.0</td>\n",
       "      <td>175.0</td>\n",
       "      <td>626.0</td>\n",
       "      <td>1263.0</td>\n",
       "      <td>2198.0</td>\n",
       "      <td>1196.0</td>\n",
       "      <td>1325.0</td>\n",
       "      <td>1381.0</td>\n",
       "      <td>40120</td>\n",
       "      <td>4783</td>\n",
       "    </tr>\n",
       "    <tr>\n",
       "      <th>1</th>\n",
       "      <td>NaN</td>\n",
       "      <td>7802.0</td>\n",
       "      <td>6140.0</td>\n",
       "      <td>3723.0</td>\n",
       "      <td>2410.0</td>\n",
       "      <td>0.0</td>\n",
       "      <td>0.0</td>\n",
       "      <td>1817.0</td>\n",
       "      <td>2877.0</td>\n",
       "      <td>5053.0</td>\n",
       "      <td>3108.0</td>\n",
       "      <td>3653.0</td>\n",
       "      <td>3567.0</td>\n",
       "      <td>40891</td>\n",
       "      <td>16103</td>\n",
       "    </tr>\n",
       "  </tbody>\n",
       "</table>\n",
       "</div>"
      ],
      "text/plain": [
       "                Unnamed: 136  Grade_A  Grade_B  Grade_C  Grade_D  Grade_E  \\\n",
       "Passing_binary                                                              \n",
       "0                        NaN      0.0      0.0      0.0      0.0   7814.0   \n",
       "1                        NaN   7802.0   6140.0   3723.0   2410.0      0.0   \n",
       "\n",
       "                Grade_O  Subject_Electives  Subject_English  Subject_Math  \\\n",
       "Passing_binary                                                              \n",
       "0                 175.0              626.0           1263.0        2198.0   \n",
       "1                   0.0             1817.0           2877.0        5053.0   \n",
       "\n",
       "                Subject_Science  Subject_Social Studies  \\\n",
       "Passing_binary                                            \n",
       "0                        1196.0                  1325.0   \n",
       "1                        3108.0                  3653.0   \n",
       "\n",
       "                Subject_World Language  gradeID  StartedThree_binary  \n",
       "Passing_binary                                                        \n",
       "0                               1381.0    40120                 4783  \n",
       "1                               3567.0    40891                16103  "
      ]
     },
     "execution_count": 372,
     "metadata": {},
     "output_type": "execute_result"
    }
   ],
   "source": [
    "enr_complete.groupby('Passing_binary').sum()"
   ]
  },
  {
   "cell_type": "code",
   "execution_count": 375,
   "metadata": {
    "collapsed": false
   },
   "outputs": [
    {
     "data": {
      "text/html": [
       "<div>\n",
       "<table border=\"1\" class=\"dataframe\">\n",
       "  <thead>\n",
       "    <tr style=\"text-align: right;\">\n",
       "      <th></th>\n",
       "      <th>Unnamed: 136</th>\n",
       "      <th>Grade_A</th>\n",
       "      <th>Grade_B</th>\n",
       "      <th>Grade_C</th>\n",
       "      <th>Grade_D</th>\n",
       "      <th>Grade_E</th>\n",
       "      <th>Grade_O</th>\n",
       "      <th>Subject_Electives</th>\n",
       "      <th>Subject_English</th>\n",
       "      <th>Subject_Math</th>\n",
       "      <th>Subject_Science</th>\n",
       "      <th>Subject_Social Studies</th>\n",
       "      <th>Subject_World Language</th>\n",
       "      <th>gradeID</th>\n",
       "      <th>StartedThree_binary</th>\n",
       "      <th>Passing_binary</th>\n",
       "    </tr>\n",
       "  </thead>\n",
       "  <tbody>\n",
       "    <tr>\n",
       "      <th>Unnamed: 136</th>\n",
       "      <td>NaN</td>\n",
       "      <td>NaN</td>\n",
       "      <td>NaN</td>\n",
       "      <td>NaN</td>\n",
       "      <td>NaN</td>\n",
       "      <td>NaN</td>\n",
       "      <td>NaN</td>\n",
       "      <td>NaN</td>\n",
       "      <td>NaN</td>\n",
       "      <td>NaN</td>\n",
       "      <td>NaN</td>\n",
       "      <td>NaN</td>\n",
       "      <td>NaN</td>\n",
       "      <td>NaN</td>\n",
       "      <td>NaN</td>\n",
       "      <td>NaN</td>\n",
       "    </tr>\n",
       "    <tr>\n",
       "      <th>Grade_A</th>\n",
       "      <td>NaN</td>\n",
       "      <td>1.000000</td>\n",
       "      <td>-0.328387</td>\n",
       "      <td>-0.242683</td>\n",
       "      <td>-0.190192</td>\n",
       "      <td>-0.385466</td>\n",
       "      <td>-0.049155</td>\n",
       "      <td>0.011801</td>\n",
       "      <td>-0.057853</td>\n",
       "      <td>-0.032674</td>\n",
       "      <td>0.037623</td>\n",
       "      <td>0.021879</td>\n",
       "      <td>0.025132</td>\n",
       "      <td>-0.729750</td>\n",
       "      <td>0.139736</td>\n",
       "      <td>0.391454</td>\n",
       "    </tr>\n",
       "    <tr>\n",
       "      <th>Grade_B</th>\n",
       "      <td>NaN</td>\n",
       "      <td>-0.328387</td>\n",
       "      <td>1.000000</td>\n",
       "      <td>-0.206967</td>\n",
       "      <td>-0.162202</td>\n",
       "      <td>-0.328737</td>\n",
       "      <td>-0.041921</td>\n",
       "      <td>0.008716</td>\n",
       "      <td>0.007347</td>\n",
       "      <td>0.000903</td>\n",
       "      <td>-0.025989</td>\n",
       "      <td>0.010804</td>\n",
       "      <td>-0.000577</td>\n",
       "      <td>-0.292481</td>\n",
       "      <td>0.070218</td>\n",
       "      <td>0.333843</td>\n",
       "    </tr>\n",
       "    <tr>\n",
       "      <th>Grade_C</th>\n",
       "      <td>NaN</td>\n",
       "      <td>-0.242683</td>\n",
       "      <td>-0.206967</td>\n",
       "      <td>1.000000</td>\n",
       "      <td>-0.119869</td>\n",
       "      <td>-0.242941</td>\n",
       "      <td>-0.030980</td>\n",
       "      <td>-0.008232</td>\n",
       "      <td>0.029558</td>\n",
       "      <td>0.003378</td>\n",
       "      <td>-0.008155</td>\n",
       "      <td>-0.001481</td>\n",
       "      <td>-0.016100</td>\n",
       "      <td>0.027632</td>\n",
       "      <td>0.020283</td>\n",
       "      <td>0.246715</td>\n",
       "    </tr>\n",
       "    <tr>\n",
       "      <th>Grade_D</th>\n",
       "      <td>NaN</td>\n",
       "      <td>-0.190192</td>\n",
       "      <td>-0.162202</td>\n",
       "      <td>-0.119869</td>\n",
       "      <td>1.000000</td>\n",
       "      <td>-0.190395</td>\n",
       "      <td>-0.024279</td>\n",
       "      <td>0.009567</td>\n",
       "      <td>0.015592</td>\n",
       "      <td>0.007937</td>\n",
       "      <td>-0.001626</td>\n",
       "      <td>-0.018473</td>\n",
       "      <td>-0.010649</td>\n",
       "      <td>0.212707</td>\n",
       "      <td>-0.012706</td>\n",
       "      <td>0.193352</td>\n",
       "    </tr>\n",
       "    <tr>\n",
       "      <th>Grade_E</th>\n",
       "      <td>NaN</td>\n",
       "      <td>-0.385466</td>\n",
       "      <td>-0.328737</td>\n",
       "      <td>-0.242941</td>\n",
       "      <td>-0.190395</td>\n",
       "      <td>1.000000</td>\n",
       "      <td>-0.049207</td>\n",
       "      <td>-0.015289</td>\n",
       "      <td>0.024049</td>\n",
       "      <td>0.031430</td>\n",
       "      <td>-0.001408</td>\n",
       "      <td>-0.014162</td>\n",
       "      <td>-0.031645</td>\n",
       "      <td>0.818306</td>\n",
       "      <td>-0.189387</td>\n",
       "      <td>-0.984704</td>\n",
       "    </tr>\n",
       "    <tr>\n",
       "      <th>Grade_O</th>\n",
       "      <td>NaN</td>\n",
       "      <td>-0.049155</td>\n",
       "      <td>-0.041921</td>\n",
       "      <td>-0.030980</td>\n",
       "      <td>-0.024279</td>\n",
       "      <td>-0.049207</td>\n",
       "      <td>1.000000</td>\n",
       "      <td>-0.024461</td>\n",
       "      <td>-0.029123</td>\n",
       "      <td>-0.040551</td>\n",
       "      <td>-0.028690</td>\n",
       "      <td>-0.028489</td>\n",
       "      <td>0.147460</td>\n",
       "      <td>0.153727</td>\n",
       "      <td>-0.127860</td>\n",
       "      <td>-0.125569</td>\n",
       "    </tr>\n",
       "    <tr>\n",
       "      <th>Subject_Electives</th>\n",
       "      <td>NaN</td>\n",
       "      <td>0.011801</td>\n",
       "      <td>0.008716</td>\n",
       "      <td>-0.008232</td>\n",
       "      <td>0.009567</td>\n",
       "      <td>-0.015289</td>\n",
       "      <td>-0.024461</td>\n",
       "      <td>1.000000</td>\n",
       "      <td>-0.128454</td>\n",
       "      <td>-0.182262</td>\n",
       "      <td>-0.131425</td>\n",
       "      <td>-0.143389</td>\n",
       "      <td>-0.142864</td>\n",
       "      <td>-0.019310</td>\n",
       "      <td>-0.055087</td>\n",
       "      <td>0.019453</td>\n",
       "    </tr>\n",
       "    <tr>\n",
       "      <th>Subject_English</th>\n",
       "      <td>NaN</td>\n",
       "      <td>-0.057853</td>\n",
       "      <td>0.007347</td>\n",
       "      <td>0.029558</td>\n",
       "      <td>0.015592</td>\n",
       "      <td>0.024049</td>\n",
       "      <td>-0.029123</td>\n",
       "      <td>-0.128454</td>\n",
       "      <td>1.000000</td>\n",
       "      <td>-0.245536</td>\n",
       "      <td>-0.177050</td>\n",
       "      <td>-0.193169</td>\n",
       "      <td>-0.192461</td>\n",
       "      <td>0.042294</td>\n",
       "      <td>0.001128</td>\n",
       "      <td>-0.018807</td>\n",
       "    </tr>\n",
       "    <tr>\n",
       "      <th>Subject_Math</th>\n",
       "      <td>NaN</td>\n",
       "      <td>-0.032674</td>\n",
       "      <td>0.000903</td>\n",
       "      <td>0.003378</td>\n",
       "      <td>0.007937</td>\n",
       "      <td>0.031430</td>\n",
       "      <td>-0.040551</td>\n",
       "      <td>-0.182262</td>\n",
       "      <td>-0.245536</td>\n",
       "      <td>1.000000</td>\n",
       "      <td>-0.251214</td>\n",
       "      <td>-0.274085</td>\n",
       "      <td>-0.273080</td>\n",
       "      <td>0.030997</td>\n",
       "      <td>0.055526</td>\n",
       "      <td>-0.024145</td>\n",
       "    </tr>\n",
       "    <tr>\n",
       "      <th>Subject_Science</th>\n",
       "      <td>NaN</td>\n",
       "      <td>0.037623</td>\n",
       "      <td>-0.025989</td>\n",
       "      <td>-0.008155</td>\n",
       "      <td>-0.001626</td>\n",
       "      <td>-0.001408</td>\n",
       "      <td>-0.028690</td>\n",
       "      <td>-0.131425</td>\n",
       "      <td>-0.177050</td>\n",
       "      <td>-0.251214</td>\n",
       "      <td>1.000000</td>\n",
       "      <td>-0.197636</td>\n",
       "      <td>-0.196912</td>\n",
       "      <td>-0.019611</td>\n",
       "      <td>0.033736</td>\n",
       "      <td>0.006404</td>\n",
       "    </tr>\n",
       "    <tr>\n",
       "      <th>Subject_Social Studies</th>\n",
       "      <td>NaN</td>\n",
       "      <td>0.021879</td>\n",
       "      <td>0.010804</td>\n",
       "      <td>-0.001481</td>\n",
       "      <td>-0.018473</td>\n",
       "      <td>-0.014162</td>\n",
       "      <td>-0.028489</td>\n",
       "      <td>-0.143389</td>\n",
       "      <td>-0.193169</td>\n",
       "      <td>-0.274085</td>\n",
       "      <td>-0.197636</td>\n",
       "      <td>1.000000</td>\n",
       "      <td>-0.214838</td>\n",
       "      <td>-0.030338</td>\n",
       "      <td>0.020576</td>\n",
       "      <td>0.019037</td>\n",
       "    </tr>\n",
       "    <tr>\n",
       "      <th>Subject_World Language</th>\n",
       "      <td>NaN</td>\n",
       "      <td>0.025132</td>\n",
       "      <td>-0.000577</td>\n",
       "      <td>-0.016100</td>\n",
       "      <td>-0.010649</td>\n",
       "      <td>-0.031645</td>\n",
       "      <td>0.147460</td>\n",
       "      <td>-0.142864</td>\n",
       "      <td>-0.192461</td>\n",
       "      <td>-0.273080</td>\n",
       "      <td>-0.196912</td>\n",
       "      <td>-0.214838</td>\n",
       "      <td>1.000000</td>\n",
       "      <td>-0.011724</td>\n",
       "      <td>-0.076604</td>\n",
       "      <td>0.005709</td>\n",
       "    </tr>\n",
       "    <tr>\n",
       "      <th>gradeID</th>\n",
       "      <td>NaN</td>\n",
       "      <td>-0.729750</td>\n",
       "      <td>-0.292481</td>\n",
       "      <td>0.027632</td>\n",
       "      <td>0.212707</td>\n",
       "      <td>0.818306</td>\n",
       "      <td>0.153727</td>\n",
       "      <td>-0.019310</td>\n",
       "      <td>0.042294</td>\n",
       "      <td>0.030997</td>\n",
       "      <td>-0.019611</td>\n",
       "      <td>-0.030338</td>\n",
       "      <td>-0.011724</td>\n",
       "      <td>1.000000</td>\n",
       "      <td>-0.223011</td>\n",
       "      <td>-0.839631</td>\n",
       "    </tr>\n",
       "    <tr>\n",
       "      <th>StartedThree_binary</th>\n",
       "      <td>NaN</td>\n",
       "      <td>0.139736</td>\n",
       "      <td>0.070218</td>\n",
       "      <td>0.020283</td>\n",
       "      <td>-0.012706</td>\n",
       "      <td>-0.189387</td>\n",
       "      <td>-0.127860</td>\n",
       "      <td>-0.055087</td>\n",
       "      <td>0.001128</td>\n",
       "      <td>0.055526</td>\n",
       "      <td>0.033736</td>\n",
       "      <td>0.020576</td>\n",
       "      <td>-0.076604</td>\n",
       "      <td>-0.223011</td>\n",
       "      <td>1.000000</td>\n",
       "      <td>0.210421</td>\n",
       "    </tr>\n",
       "    <tr>\n",
       "      <th>Passing_binary</th>\n",
       "      <td>NaN</td>\n",
       "      <td>0.391454</td>\n",
       "      <td>0.333843</td>\n",
       "      <td>0.246715</td>\n",
       "      <td>0.193352</td>\n",
       "      <td>-0.984704</td>\n",
       "      <td>-0.125569</td>\n",
       "      <td>0.019453</td>\n",
       "      <td>-0.018807</td>\n",
       "      <td>-0.024145</td>\n",
       "      <td>0.006404</td>\n",
       "      <td>0.019037</td>\n",
       "      <td>0.005709</td>\n",
       "      <td>-0.839631</td>\n",
       "      <td>0.210421</td>\n",
       "      <td>1.000000</td>\n",
       "    </tr>\n",
       "  </tbody>\n",
       "</table>\n",
       "</div>"
      ],
      "text/plain": [
       "                        Unnamed: 136   Grade_A   Grade_B   Grade_C   Grade_D  \\\n",
       "Unnamed: 136                     NaN       NaN       NaN       NaN       NaN   \n",
       "Grade_A                          NaN  1.000000 -0.328387 -0.242683 -0.190192   \n",
       "Grade_B                          NaN -0.328387  1.000000 -0.206967 -0.162202   \n",
       "Grade_C                          NaN -0.242683 -0.206967  1.000000 -0.119869   \n",
       "Grade_D                          NaN -0.190192 -0.162202 -0.119869  1.000000   \n",
       "Grade_E                          NaN -0.385466 -0.328737 -0.242941 -0.190395   \n",
       "Grade_O                          NaN -0.049155 -0.041921 -0.030980 -0.024279   \n",
       "Subject_Electives                NaN  0.011801  0.008716 -0.008232  0.009567   \n",
       "Subject_English                  NaN -0.057853  0.007347  0.029558  0.015592   \n",
       "Subject_Math                     NaN -0.032674  0.000903  0.003378  0.007937   \n",
       "Subject_Science                  NaN  0.037623 -0.025989 -0.008155 -0.001626   \n",
       "Subject_Social Studies           NaN  0.021879  0.010804 -0.001481 -0.018473   \n",
       "Subject_World Language           NaN  0.025132 -0.000577 -0.016100 -0.010649   \n",
       "gradeID                          NaN -0.729750 -0.292481  0.027632  0.212707   \n",
       "StartedThree_binary              NaN  0.139736  0.070218  0.020283 -0.012706   \n",
       "Passing_binary                   NaN  0.391454  0.333843  0.246715  0.193352   \n",
       "\n",
       "                         Grade_E   Grade_O  Subject_Electives  \\\n",
       "Unnamed: 136                 NaN       NaN                NaN   \n",
       "Grade_A                -0.385466 -0.049155           0.011801   \n",
       "Grade_B                -0.328737 -0.041921           0.008716   \n",
       "Grade_C                -0.242941 -0.030980          -0.008232   \n",
       "Grade_D                -0.190395 -0.024279           0.009567   \n",
       "Grade_E                 1.000000 -0.049207          -0.015289   \n",
       "Grade_O                -0.049207  1.000000          -0.024461   \n",
       "Subject_Electives      -0.015289 -0.024461           1.000000   \n",
       "Subject_English         0.024049 -0.029123          -0.128454   \n",
       "Subject_Math            0.031430 -0.040551          -0.182262   \n",
       "Subject_Science        -0.001408 -0.028690          -0.131425   \n",
       "Subject_Social Studies -0.014162 -0.028489          -0.143389   \n",
       "Subject_World Language -0.031645  0.147460          -0.142864   \n",
       "gradeID                 0.818306  0.153727          -0.019310   \n",
       "StartedThree_binary    -0.189387 -0.127860          -0.055087   \n",
       "Passing_binary         -0.984704 -0.125569           0.019453   \n",
       "\n",
       "                        Subject_English  Subject_Math  Subject_Science  \\\n",
       "Unnamed: 136                        NaN           NaN              NaN   \n",
       "Grade_A                       -0.057853     -0.032674         0.037623   \n",
       "Grade_B                        0.007347      0.000903        -0.025989   \n",
       "Grade_C                        0.029558      0.003378        -0.008155   \n",
       "Grade_D                        0.015592      0.007937        -0.001626   \n",
       "Grade_E                        0.024049      0.031430        -0.001408   \n",
       "Grade_O                       -0.029123     -0.040551        -0.028690   \n",
       "Subject_Electives             -0.128454     -0.182262        -0.131425   \n",
       "Subject_English                1.000000     -0.245536        -0.177050   \n",
       "Subject_Math                  -0.245536      1.000000        -0.251214   \n",
       "Subject_Science               -0.177050     -0.251214         1.000000   \n",
       "Subject_Social Studies        -0.193169     -0.274085        -0.197636   \n",
       "Subject_World Language        -0.192461     -0.273080        -0.196912   \n",
       "gradeID                        0.042294      0.030997        -0.019611   \n",
       "StartedThree_binary            0.001128      0.055526         0.033736   \n",
       "Passing_binary                -0.018807     -0.024145         0.006404   \n",
       "\n",
       "                        Subject_Social Studies  Subject_World Language  \\\n",
       "Unnamed: 136                               NaN                     NaN   \n",
       "Grade_A                               0.021879                0.025132   \n",
       "Grade_B                               0.010804               -0.000577   \n",
       "Grade_C                              -0.001481               -0.016100   \n",
       "Grade_D                              -0.018473               -0.010649   \n",
       "Grade_E                              -0.014162               -0.031645   \n",
       "Grade_O                              -0.028489                0.147460   \n",
       "Subject_Electives                    -0.143389               -0.142864   \n",
       "Subject_English                      -0.193169               -0.192461   \n",
       "Subject_Math                         -0.274085               -0.273080   \n",
       "Subject_Science                      -0.197636               -0.196912   \n",
       "Subject_Social Studies                1.000000               -0.214838   \n",
       "Subject_World Language               -0.214838                1.000000   \n",
       "gradeID                              -0.030338               -0.011724   \n",
       "StartedThree_binary                   0.020576               -0.076604   \n",
       "Passing_binary                        0.019037                0.005709   \n",
       "\n",
       "                         gradeID  StartedThree_binary  Passing_binary  \n",
       "Unnamed: 136                 NaN                  NaN             NaN  \n",
       "Grade_A                -0.729750             0.139736        0.391454  \n",
       "Grade_B                -0.292481             0.070218        0.333843  \n",
       "Grade_C                 0.027632             0.020283        0.246715  \n",
       "Grade_D                 0.212707            -0.012706        0.193352  \n",
       "Grade_E                 0.818306            -0.189387       -0.984704  \n",
       "Grade_O                 0.153727            -0.127860       -0.125569  \n",
       "Subject_Electives      -0.019310            -0.055087        0.019453  \n",
       "Subject_English         0.042294             0.001128       -0.018807  \n",
       "Subject_Math            0.030997             0.055526       -0.024145  \n",
       "Subject_Science        -0.019611             0.033736        0.006404  \n",
       "Subject_Social Studies -0.030338             0.020576        0.019037  \n",
       "Subject_World Language -0.011724            -0.076604        0.005709  \n",
       "gradeID                 1.000000            -0.223011       -0.839631  \n",
       "StartedThree_binary    -0.223011             1.000000        0.210421  \n",
       "Passing_binary         -0.839631             0.210421        1.000000  "
      ]
     },
     "execution_count": 375,
     "metadata": {},
     "output_type": "execute_result"
    }
   ],
   "source": [
    "# Do correlation matrix and decide on feature columns\n",
    "\n",
    "enr_complete.corr()"
   ]
  },
  {
   "cell_type": "code",
   "execution_count": 376,
   "metadata": {
    "collapsed": true
   },
   "outputs": [],
   "source": [
    "feature_cols = ['TotalPointsAttempted','ActivityCompletePerc','ActivityCountTotal','CompletionDaysNew','CourseDurationDays','OverdueActivities','SemesterID','StartToFirstAccessDays']"
   ]
  },
  {
   "cell_type": "markdown",
   "metadata": {},
   "source": [
    "## Start building models."
   ]
  },
  {
   "cell_type": "markdown",
   "metadata": {},
   "source": [
    "## Run KNN on just OverdueActivities"
   ]
  },
  {
   "cell_type": "code",
   "execution_count": 424,
   "metadata": {
    "collapsed": false
   },
   "outputs": [],
   "source": [
    "feature_cols = ['OverdueActivities']\n",
    "X = enr_complete[feature_cols]\n",
    "y = enr_complete.Passing_binary"
   ]
  },
  {
   "cell_type": "code",
   "execution_count": 425,
   "metadata": {
    "collapsed": false
   },
   "outputs": [
    {
     "name": "stdout",
     "output_type": "stream",
     "text": [
      "(28064, 1)\n",
      "(28064,)\n"
     ]
    }
   ],
   "source": [
    "print X.shape\n",
    "print y.shape"
   ]
  },
  {
   "cell_type": "code",
   "execution_count": 429,
   "metadata": {
    "collapsed": false
   },
   "outputs": [
    {
     "name": "stdout",
     "output_type": "stream",
     "text": [
      "Y is of type <class 'pandas.core.series.Series'>\n",
      "X is of type <class 'pandas.core.frame.DataFrame'>\n"
     ]
    }
   ],
   "source": [
    "print \"Y is of type {}\".format(type(y))\n",
    "print \"X is of type {}\".format(type(X))"
   ]
  },
  {
   "cell_type": "code",
   "execution_count": 430,
   "metadata": {
    "collapsed": false
   },
   "outputs": [
    {
     "data": {
      "text/plain": [
       "KNeighborsClassifier(algorithm='auto', leaf_size=30, metric='minkowski',\n",
       "           metric_params=None, n_jobs=1, n_neighbors=1, p=2,\n",
       "           weights='uniform')"
      ]
     },
     "execution_count": 430,
     "metadata": {},
     "output_type": "execute_result"
    }
   ],
   "source": [
    "from sklearn.neighbors import KNeighborsClassifier\n",
    "knn = KNeighborsClassifier(n_neighbors=1)\n",
    "knn.fit(X, y)"
   ]
  },
  {
   "cell_type": "markdown",
   "metadata": {},
   "source": [
    "## Determine if there is a linear relationship between number of overdue activities and likelihood of predicting a 0 (non-passing grade)."
   ]
  },
  {
   "cell_type": "code",
   "execution_count": 490,
   "metadata": {
    "collapsed": true
   },
   "outputs": [],
   "source": [
    "# Create empty list and fill it with predicted values for 0-100 overdue activities\n",
    "\n",
    "preds = []\n",
    "\n",
    "for i in range(0,101):\n",
    "    preds.append(knn.predict(i))"
   ]
  },
  {
   "cell_type": "code",
   "execution_count": 491,
   "metadata": {
    "collapsed": false
   },
   "outputs": [
    {
     "data": {
      "text/plain": [
       "101"
      ]
     },
     "execution_count": 491,
     "metadata": {},
     "output_type": "execute_result"
    }
   ],
   "source": [
    "len(preds)"
   ]
  },
  {
   "cell_type": "code",
   "execution_count": 492,
   "metadata": {
    "collapsed": false
   },
   "outputs": [],
   "source": [
    "# Create dataframe of predictions\n",
    "pred_passing_df = pd.DataFrame(preds,columns=[\"Pred Passing Ind Overdue Only\"])"
   ]
  },
  {
   "cell_type": "code",
   "execution_count": 493,
   "metadata": {
    "collapsed": false
   },
   "outputs": [
    {
     "data": {
      "text/html": [
       "<div>\n",
       "<table border=\"1\" class=\"dataframe\">\n",
       "  <thead>\n",
       "    <tr style=\"text-align: right;\">\n",
       "      <th></th>\n",
       "      <th>Pred Passing Ind Overdue Only</th>\n",
       "    </tr>\n",
       "  </thead>\n",
       "  <tbody>\n",
       "    <tr>\n",
       "      <th>0</th>\n",
       "      <td>1</td>\n",
       "    </tr>\n",
       "    <tr>\n",
       "      <th>1</th>\n",
       "      <td>1</td>\n",
       "    </tr>\n",
       "    <tr>\n",
       "      <th>2</th>\n",
       "      <td>1</td>\n",
       "    </tr>\n",
       "    <tr>\n",
       "      <th>3</th>\n",
       "      <td>1</td>\n",
       "    </tr>\n",
       "    <tr>\n",
       "      <th>4</th>\n",
       "      <td>0</td>\n",
       "    </tr>\n",
       "  </tbody>\n",
       "</table>\n",
       "</div>"
      ],
      "text/plain": [
       "   Pred Passing Ind Overdue Only\n",
       "0                              1\n",
       "1                              1\n",
       "2                              1\n",
       "3                              1\n",
       "4                              0"
      ]
     },
     "execution_count": 493,
     "metadata": {},
     "output_type": "execute_result"
    }
   ],
   "source": [
    "pred_passing_df.head()"
   ]
  },
  {
   "cell_type": "code",
   "execution_count": 494,
   "metadata": {
    "collapsed": true
   },
   "outputs": [],
   "source": [
    "pred_passing_df['Num Overdue Assignments'] = np.arange(0,101)"
   ]
  },
  {
   "cell_type": "code",
   "execution_count": 495,
   "metadata": {
    "collapsed": false
   },
   "outputs": [
    {
     "data": {
      "text/html": [
       "<div>\n",
       "<table border=\"1\" class=\"dataframe\">\n",
       "  <thead>\n",
       "    <tr style=\"text-align: right;\">\n",
       "      <th></th>\n",
       "      <th>Pred Passing Ind Overdue Only</th>\n",
       "      <th>Num Overdue Assignments</th>\n",
       "    </tr>\n",
       "  </thead>\n",
       "  <tbody>\n",
       "    <tr>\n",
       "      <th>0</th>\n",
       "      <td>1</td>\n",
       "      <td>0</td>\n",
       "    </tr>\n",
       "    <tr>\n",
       "      <th>1</th>\n",
       "      <td>1</td>\n",
       "      <td>1</td>\n",
       "    </tr>\n",
       "    <tr>\n",
       "      <th>2</th>\n",
       "      <td>1</td>\n",
       "      <td>2</td>\n",
       "    </tr>\n",
       "    <tr>\n",
       "      <th>3</th>\n",
       "      <td>1</td>\n",
       "      <td>3</td>\n",
       "    </tr>\n",
       "    <tr>\n",
       "      <th>4</th>\n",
       "      <td>0</td>\n",
       "      <td>4</td>\n",
       "    </tr>\n",
       "  </tbody>\n",
       "</table>\n",
       "</div>"
      ],
      "text/plain": [
       "   Pred Passing Ind Overdue Only  Num Overdue Assignments\n",
       "0                              1                        0\n",
       "1                              1                        1\n",
       "2                              1                        2\n",
       "3                              1                        3\n",
       "4                              0                        4"
      ]
     },
     "execution_count": 495,
     "metadata": {},
     "output_type": "execute_result"
    }
   ],
   "source": [
    "pred_passing_df.head()"
   ]
  },
  {
   "cell_type": "code",
   "execution_count": 497,
   "metadata": {
    "collapsed": false
   },
   "outputs": [
    {
     "data": {
      "text/plain": [
       "<matplotlib.axes._subplots.AxesSubplot at 0x13c604350>"
      ]
     },
     "execution_count": 497,
     "metadata": {},
     "output_type": "execute_result"
    },
    {
     "data": {
      "image/png": "[encoded data removed]",
      "text/plain": [
       "<matplotlib.figure.Figure at 0x14ee08c50>"
      ]
     },
     "metadata": {},
     "output_type": "display_data"
    }
   ],
   "source": [
    "pred_passing_df.plot(kind='scatter',alpha=0.2,x='Num Overdue Assignments',y='Pred Passing Ind Overdue Only')"
   ]
  },
  {
   "cell_type": "code",
   "execution_count": 509,
   "metadata": {
    "collapsed": false
   },
   "outputs": [
    {
     "data": {
      "text/plain": [
       "Index([u'Pred Passing Ind Overdue Only', u'Num Overdue Assignments'], dtype='object')"
      ]
     },
     "execution_count": 509,
     "metadata": {},
     "output_type": "execute_result"
    }
   ],
   "source": [
    "pred_passing_df.columns"
   ]
  },
  {
   "cell_type": "markdown",
   "metadata": {},
   "source": [
    "## A number of overdue assignments above 20 (x axis) is associated with higher prediction of not passing (0 on y axis). For assignments < 20, there doesn't seem to be a strong association.\n",
    "\n",
    "## It could be that when a student gets behind by 20 or more assignments, the likelihood of their passing drops significantly, but that other factors are at play for students who don't get behind."
   ]
  },
  {
   "cell_type": "markdown",
   "metadata": {},
   "source": [
    "## Perform test-train split to create and test model."
   ]
  },
  {
   "cell_type": "code",
   "execution_count": 511,
   "metadata": {
    "collapsed": false
   },
   "outputs": [],
   "source": [
    "from sklearn.cross_validation import train_test_split\n",
    "from sklearn import metrics"
   ]
  },
  {
   "cell_type": "code",
   "execution_count": 512,
   "metadata": {
    "collapsed": true
   },
   "outputs": [],
   "source": [
    "feature_cols = ['OverdueActivities']\n",
    "X = enr_complete[feature_cols]\n",
    "y = enr_complete.Passing_binary\n",
    "X_train, X_test, y_train, y_test = train_test_split(X, y, random_state=99)"
   ]
  },
  {
   "cell_type": "code",
   "execution_count": 513,
   "metadata": {
    "collapsed": false
   },
   "outputs": [
    {
     "data": {
      "text/plain": [
       "KNeighborsClassifier(algorithm='auto', leaf_size=30, metric='minkowski',\n",
       "           metric_params=None, n_jobs=1, n_neighbors=1, p=2,\n",
       "           weights='uniform')"
      ]
     },
     "execution_count": 513,
     "metadata": {},
     "output_type": "execute_result"
    }
   ],
   "source": [
    "knn = KNeighborsClassifier(n_neighbors=1)\n",
    "knn.fit(X_train, y_train)"
   ]
  },
  {
   "cell_type": "code",
   "execution_count": 514,
   "metadata": {
    "collapsed": false
   },
   "outputs": [
    {
     "name": "stdout",
     "output_type": "stream",
     "text": [
      "0.932725199544\n"
     ]
    }
   ],
   "source": [
    "# test the model on the testing set, and check the accuracy\n",
    "y_pred_class = knn.predict(X_test)\n",
    "print metrics.accuracy_score(y_test, y_pred_class)"
   ]
  },
  {
   "cell_type": "markdown",
   "metadata": {},
   "source": [
    "## The number of overdue activities is, in this model, highly predictive of whether a student will pass or not. This makes sense, because missing work will contribute to a lower grade. Because of the high correlation, however, this predictive power isn't very interesting or surprising."
   ]
  },
  {
   "cell_type": "markdown",
   "metadata": {},
   "source": [
    "## Repeat with other features (by themselves) at first."
   ]
  },
  {
   "cell_type": "code",
   "execution_count": 536,
   "metadata": {
    "collapsed": false
   },
   "outputs": [
    {
     "name": "stdout",
     "output_type": "stream",
     "text": [
      "0.857468643101\n"
     ]
    }
   ],
   "source": [
    "feature_cols = ['TotalPointsAttempted']\n",
    "X = enr_complete[feature_cols]\n",
    "y = enr_complete.Passing_binary\n",
    "X_train, X_test, y_train, y_test = train_test_split(X, y, random_state=99)\n",
    "knn = KNeighborsClassifier(n_neighbors=1)\n",
    "knn.fit(X_train, y_train)\n",
    "y_pred_class = knn.predict(X_test)\n",
    "print metrics.accuracy_score(y_test, y_pred_class)"
   ]
  },
  {
   "cell_type": "code",
   "execution_count": 537,
   "metadata": {
    "collapsed": false
   },
   "outputs": [
    {
     "name": "stdout",
     "output_type": "stream",
     "text": [
      "0.642246294185\n"
     ]
    }
   ],
   "source": [
    "# Test on total count of scored activities in course\n",
    "# Is there a 'fatigue' factor? i.e., the more scored activities, the less are done?\n",
    "feature_cols = ['NumOfScoredActivitiesByCourse']\n",
    "X = enr_complete[feature_cols]\n",
    "y = enr_complete.Passing_binary\n",
    "X_train, X_test, y_train, y_test = train_test_split(X, y, random_state=99)\n",
    "knn = KNeighborsClassifier(n_neighbors=1)\n",
    "knn.fit(X_train, y_train)\n",
    "y_pred_class = knn.predict(X_test)\n",
    "print metrics.accuracy_score(y_test, y_pred_class)"
   ]
  },
  {
   "cell_type": "code",
   "execution_count": 538,
   "metadata": {
    "collapsed": false
   },
   "outputs": [
    {
     "name": "stdout",
     "output_type": "stream",
     "text": [
      "0.642246294185\n"
     ]
    }
   ],
   "source": [
    "# Test on total count of activities in course\n",
    "feature_cols = ['ActivityCountTotal']\n",
    "X = enr_complete[feature_cols]\n",
    "y = enr_complete.Passing_binary\n",
    "X_train, X_test, y_train, y_test = train_test_split(X, y, random_state=99)\n",
    "knn = KNeighborsClassifier(n_neighbors=1)\n",
    "knn.fit(X_train, y_train)\n",
    "y_pred_class = knn.predict(X_test)\n",
    "print metrics.accuracy_score(y_test, y_pred_class)"
   ]
  },
  {
   "cell_type": "markdown",
   "metadata": {},
   "source": [
    "## Is the 'Number of Scored Activities' and the 'Activity Count' the same?"
   ]
  },
  {
   "cell_type": "code",
   "execution_count": 541,
   "metadata": {
    "collapsed": false
   },
   "outputs": [
    {
     "data": {
      "text/plain": [
       "True    28064\n",
       "dtype: int64"
      ]
     },
     "execution_count": 541,
     "metadata": {},
     "output_type": "execute_result"
    }
   ],
   "source": [
    "activ_scored_vs_activ_total = enr_complete['NumOfScoredActivitiesByCourse'] == enr_complete['ActivityCountTotal']\n",
    "activ_scored_vs_activ_total.value_counts()"
   ]
  },
  {
   "cell_type": "markdown",
   "metadata": {},
   "source": [
    "## Yes, those two columns have the same information. I'll need to pick one if this feature is included in final model, but it doesn't seem to matter which one."
   ]
  },
  {
   "cell_type": "markdown",
   "metadata": {},
   "source": [
    "## Just to test model so far, create model on grade dummies columns created earlier - this should be a perfect predictor of passing or not."
   ]
  },
  {
   "cell_type": "code",
   "execution_count": 525,
   "metadata": {
    "collapsed": false
   },
   "outputs": [
    {
     "data": {
      "text/plain": [
       "Index([u'Grade_A', u'Grade_B', u'Grade_C', u'Grade_D', u'Grade_E', u'Grade_O'], dtype='object')"
      ]
     },
     "execution_count": 525,
     "metadata": {},
     "output_type": "execute_result"
    }
   ],
   "source": [
    "grade_dummies.columns"
   ]
  },
  {
   "cell_type": "code",
   "execution_count": 527,
   "metadata": {
    "collapsed": false
   },
   "outputs": [
    {
     "name": "stdout",
     "output_type": "stream",
     "text": [
      "1.0\n"
     ]
    }
   ],
   "source": [
    "# Create model on grades\n",
    "feature_cols = list(grade_dummies.columns)\n",
    "X = enr_complete[feature_cols]\n",
    "y = enr_complete.Passing_binary\n",
    "X_train, X_test, y_train, y_test = train_test_split(X, y, random_state=99)\n",
    "knn = KNeighborsClassifier(n_neighbors=1)\n",
    "knn.fit(X_train, y_train)\n",
    "y_pred_class = knn.predict(X_test)\n",
    "print metrics.accuracy_score(y_test, y_pred_class)"
   ]
  },
  {
   "cell_type": "markdown",
   "metadata": {},
   "source": [
    "## Not surprisingly, final grade perfectly predicts whether a student passes a course. This check was more for verification of the model set-up than anything.\n",
    "\n",
    "## Now test model on predicting passing based on subject."
   ]
  },
  {
   "cell_type": "code",
   "execution_count": 524,
   "metadata": {
    "collapsed": false
   },
   "outputs": [
    {
     "data": {
      "text/plain": [
       "Index([u'Subject_Electives', u'Subject_English', u'Subject_Math',\n",
       "       u'Subject_Science', u'Subject_Social Studies',\n",
       "       u'Subject_World Language'],\n",
       "      dtype='object')"
      ]
     },
     "execution_count": 524,
     "metadata": {},
     "output_type": "execute_result"
    }
   ],
   "source": [
    "subject_dummies.columns"
   ]
  },
  {
   "cell_type": "code",
   "execution_count": 528,
   "metadata": {
    "collapsed": false
   },
   "outputs": [
    {
     "name": "stdout",
     "output_type": "stream",
     "text": [
      "0.725057012543\n"
     ]
    }
   ],
   "source": [
    "# Create model on subjects\n",
    "feature_cols = list(subject_dummies.columns)\n",
    "X = enr_complete[feature_cols]\n",
    "y = enr_complete.Passing_binary\n",
    "X_train, X_test, y_train, y_test = train_test_split(X, y, random_state=99)\n",
    "knn = KNeighborsClassifier(n_neighbors=1)\n",
    "knn.fit(X_train, y_train)\n",
    "y_pred_class = knn.predict(X_test)\n",
    "print metrics.accuracy_score(y_test, y_pred_class)"
   ]
  },
  {
   "cell_type": "code",
   "execution_count": 556,
   "metadata": {
    "collapsed": false
   },
   "outputs": [
    {
     "name": "stdout",
     "output_type": "stream",
     "text": [
      "0.725057012543\n"
     ]
    }
   ],
   "source": [
    "# Create model on semester ID\n",
    "feature_cols = ['SemesterID']\n",
    "X = enr_complete[feature_cols]\n",
    "y = enr_complete.Passing_binary\n",
    "X_train, X_test, y_train, y_test = train_test_split(X, y, random_state=99)\n",
    "knn = KNeighborsClassifier(n_neighbors=1)\n",
    "knn.fit(X_train, y_train)\n",
    "y_pred_class = knn.predict(X_test)\n",
    "print metrics.accuracy_score(y_test, y_pred_class)"
   ]
  },
  {
   "cell_type": "markdown",
   "metadata": {},
   "source": [
    "## Create dummies for track name (AP, Honors, Core, etc.) and create model on those columns."
   ]
  },
  {
   "cell_type": "code",
   "execution_count": 529,
   "metadata": {
    "collapsed": true
   },
   "outputs": [],
   "source": [
    "track_dummies = pd.get_dummies(enr_complete.TrackName, prefix='Track')\n",
    "enr_complete = pd.concat([enr_complete, track_dummies], axis=1)"
   ]
  },
  {
   "cell_type": "code",
   "execution_count": 531,
   "metadata": {
    "collapsed": false
   },
   "outputs": [
    {
     "name": "stdout",
     "output_type": "stream",
     "text": [
      "0.462086659065\n"
     ]
    }
   ],
   "source": [
    "feature_cols = list(track_dummies.columns)\n",
    "X = enr_complete[feature_cols]\n",
    "y = enr_complete.Passing_binary\n",
    "X_train, X_test, y_train, y_test = train_test_split(X, y, random_state=99)\n",
    "knn = KNeighborsClassifier(n_neighbors=1)\n",
    "knn.fit(X_train, y_train)\n",
    "y_pred_class = knn.predict(X_test)\n",
    "print metrics.accuracy_score(y_test, y_pred_class)"
   ]
  },
  {
   "cell_type": "markdown",
   "metadata": {},
   "source": [
    "## The model is not very predictive of passing based on track.\n",
    "## There is a tendency to believe that Honors and AP students will pass at  a higher rate than core or prescriptive students--the former are often more highly motivated academically--but with this model that belief is not borne out."
   ]
  },
  {
   "cell_type": "markdown",
   "metadata": {},
   "source": [
    "## Calculate null accuracy (i.e., accuracy achievable by always predicting the most common class)."
   ]
  },
  {
   "cell_type": "code",
   "execution_count": 542,
   "metadata": {
    "collapsed": false
   },
   "outputs": [
    {
     "data": {
      "text/plain": [
       "1    5087\n",
       "0    1929\n",
       "Name: Passing_binary, dtype: int64"
      ]
     },
     "execution_count": 542,
     "metadata": {},
     "output_type": "execute_result"
    }
   ],
   "source": [
    "# calculate the counts of each class\n",
    "y_test.value_counts()"
   ]
  },
  {
   "cell_type": "code",
   "execution_count": 543,
   "metadata": {
    "collapsed": false
   },
   "outputs": [
    {
     "data": {
      "text/plain": [
       "1    0.725057\n",
       "0    0.274943\n",
       "Name: Passing_binary, dtype: float64"
      ]
     },
     "execution_count": 543,
     "metadata": {},
     "output_type": "execute_result"
    }
   ],
   "source": [
    "# compute null accuracy\n",
    "y_test.value_counts().head() / len(y_test)"
   ]
  },
  {
   "cell_type": "markdown",
   "metadata": {},
   "source": [
    "## About 72.5% of students pass. Just by guessing, for any feature we choose we could guess that 72.% of the students would pass. This is a high bar for a model -- any feature or combination of features needs to have a higher accuracy than this in order to be helpful."
   ]
  },
  {
   "cell_type": "markdown",
   "metadata": {},
   "source": [
    "## The model so far has used a neighbor value of 1. Many other neighbor values are possible.\n",
    "\n",
    "## Calculate optimum neighbor value for different predictors.\n"
   ]
  },
  {
   "cell_type": "code",
   "execution_count": 547,
   "metadata": {
    "collapsed": false
   },
   "outputs": [
    {
     "data": {
      "text/plain": [
       "(0.27494298745724055, 25)"
      ]
     },
     "execution_count": 547,
     "metadata": {},
     "output_type": "execute_result"
    }
   ],
   "source": [
    "feature_cols = ['NumOfScoredActivitiesByCourse']\n",
    "X = enr_complete[feature_cols]\n",
    "y = enr_complete.Passing_binary\n",
    "X_train, X_test, y_train, y_test = train_test_split(X, y, random_state=99)\n",
    "\n",
    "k_range = range(1, 50)\n",
    "testing_error = []\n",
    "\n",
    "for k in k_range:\n",
    "\n",
    "    # instantiate the model with the current K value\n",
    "    knn = KNeighborsClassifier(n_neighbors=k)\n",
    "    \n",
    "    # calculate testing error\n",
    "    knn.fit(X_train, y_train)\n",
    "    y_pred_class = knn.predict(X_test)\n",
    "    testing_accuracy = metrics.accuracy_score(y_test, y_pred_class)\n",
    "    testing_error.append(1 - testing_accuracy)\n",
    "\n",
    "# Find value of k with minimum testing error\n",
    "min(zip(testing_error, k_range))\n"
   ]
  },
  {
   "cell_type": "code",
   "execution_count": 548,
   "metadata": {
    "collapsed": false
   },
   "outputs": [
    {
     "data": {
      "text/plain": [
       "(0.27109464082098067, 31)"
      ]
     },
     "execution_count": 548,
     "metadata": {},
     "output_type": "execute_result"
    }
   ],
   "source": [
    "feature_cols = list(track_dummies.columns)\n",
    "X = enr_complete[feature_cols]\n",
    "y = enr_complete.Passing_binary\n",
    "X_train, X_test, y_train, y_test = train_test_split(X, y, random_state=99)\n",
    "\n",
    "k_range = range(1, 50)\n",
    "testing_error = []\n",
    "\n",
    "for k in k_range:\n",
    "\n",
    "    # instantiate the model with the current K value\n",
    "    knn = KNeighborsClassifier(n_neighbors=k)\n",
    "    \n",
    "    # calculate testing error\n",
    "    knn.fit(X_train, y_train)\n",
    "    y_pred_class = knn.predict(X_test)\n",
    "    testing_accuracy = metrics.accuracy_score(y_test, y_pred_class)\n",
    "    testing_error.append(1 - testing_accuracy)\n",
    "\n",
    "# Find value of k with minimum testing error\n",
    "min(zip(testing_error, k_range))"
   ]
  },
  {
   "cell_type": "code",
   "execution_count": 549,
   "metadata": {
    "collapsed": false
   },
   "outputs": [
    {
     "name": "stdout",
     "output_type": "stream",
     "text": [
      "0.728905359179\n"
     ]
    }
   ],
   "source": [
    "# Optimum k value for track is 31\n",
    "# Re-run KNN test with that k value\n",
    "\n",
    "feature_cols = list(track_dummies.columns)\n",
    "X = enr_complete[feature_cols]\n",
    "y = enr_complete.Passing_binary\n",
    "X_train, X_test, y_train, y_test = train_test_split(X, y, random_state=99)\n",
    "knn = KNeighborsClassifier(n_neighbors=31)\n",
    "knn.fit(X_train, y_train)\n",
    "y_pred_class = knn.predict(X_test)\n",
    "print metrics.accuracy_score(y_test, y_pred_class)"
   ]
  },
  {
   "cell_type": "code",
   "execution_count": 550,
   "metadata": {
    "collapsed": false
   },
   "outputs": [
    {
     "data": {
      "text/plain": [
       "(28064, 158)"
      ]
     },
     "execution_count": 550,
     "metadata": {},
     "output_type": "execute_result"
    }
   ],
   "source": [
    "enr_complete.shape"
   ]
  },
  {
   "cell_type": "markdown",
   "metadata": {},
   "source": [
    "## A k-value of 31 seems high, but given that the data contains 28,000 rows, predicting class based on the 31 nearest rows in terms of track name may be ok. \n",
    "## What's the count by track?"
   ]
  },
  {
   "cell_type": "code",
   "execution_count": 555,
   "metadata": {
    "collapsed": false
   },
   "outputs": [
    {
     "data": {
      "text/plain": [
       "Track_Advanced Placement     6625.0\n",
       "Track_Core                  16895.0\n",
       "Track_Foundations             245.0\n",
       "Track_Honors                 1914.0\n",
       "Track_Literacy Advantage      728.0\n",
       "Track_Prescriptive           1657.0\n",
       "dtype: float64"
      ]
     },
     "execution_count": 555,
     "metadata": {},
     "output_type": "execute_result"
    }
   ],
   "source": [
    "enr_complete[track_dummies.columns].sum()"
   ]
  },
  {
   "cell_type": "markdown",
   "metadata": {},
   "source": [
    "## Create and test models using cross-validation."
   ]
  },
  {
   "cell_type": "code",
   "execution_count": 557,
   "metadata": {
    "collapsed": true
   },
   "outputs": [],
   "source": [
    "from sklearn.cross_validation import cross_val_score"
   ]
  },
  {
   "cell_type": "code",
   "execution_count": 558,
   "metadata": {
    "collapsed": false
   },
   "outputs": [
    {
     "name": "stdout",
     "output_type": "stream",
     "text": [
      "0.910026858698\n"
     ]
    }
   ],
   "source": [
    "#knn = KNeighborsClassifier(n_neighbors=5)\n",
    "#scores = cross_val_score(knn, X, y, cv=10, scoring='accuracy')\n",
    "#print scores\n",
    "\n",
    "feature_cols = ['OverdueActivities']\n",
    "X = enr_complete[feature_cols]\n",
    "y = enr_complete.Passing_binary\n",
    "knn = KNeighborsClassifier(n_neighbors=1)\n",
    "scores = cross_val_score(knn, X, y, cv=10, scoring='accuracy')\n",
    "print scores.mean()"
   ]
  },
  {
   "cell_type": "code",
   "execution_count": 579,
   "metadata": {
    "collapsed": false
   },
   "outputs": [
    {
     "name": "stdout",
     "output_type": "stream",
     "text": [
      "{1: 0.9100268586984317, 2: 0.90870622300912129, 3: 0.9246700314839128, 4: 0.91144912398240441, 5: 0.9213551331553681, 6: 0.92292278256400895, 7: 0.92823050907300897, 8: 0.92605608765191894, 9: 0.92940807178732565, 10: 0.92773220034603587, 11: 0.93090462314896827, 12: 0.92955081390362637, 13: 0.93001343395465952, 14: 0.9306904274499459, 15: 0.93065497997251878, 16: 0.9317953298919367, 17: 0.93054830744195238, 18: 0.929693035480323, 19: 0.93183180610553029, 20: 0.93086912491434703, 21: 0.93037025753234892, 22: 0.93015632845117224, 23: 0.93076217306984665, 24: 0.93058398347611893, 25: 0.93229504826487075, 26: 0.93108282546594123, 27: 0.93215254737424014, 28: 0.93311477118036978, 29: 0.93343551244907963, 30: 0.9324372441235026}\n",
      "optimal k(s): {}.format(i, v)\n"
     ]
    }
   ],
   "source": [
    "# search for an optimal value of K for KNN\n",
    "k_range = range(1, 31)\n",
    "k_scores = []\n",
    "for k in k_range:\n",
    "    knn = KNeighborsClassifier(n_neighbors=k)\n",
    "    scores = cross_val_score(knn, X, y, cv=10, scoring='accuracy')\n",
    "    k_scores.append(scores.mean())\n",
    "\n",
    "k_score_dict = {} \n",
    "for k in range(0,len(k_scores)):\n",
    "    k_score_dict[k+1] = k_scores[k]\n",
    "print k_score_dict\n",
    "\n",
    "for i, v in k_score_dict.iteritems():\n",
    "    if v == max(k_score_dict.values()):\n",
    "        print \"\\nOptimal k(s): k {},score {}\".format(i, v)"
   ]
  },
  {
   "cell_type": "code",
   "execution_count": 583,
   "metadata": {
    "collapsed": false
   },
   "outputs": [
    {
     "name": "stdout",
     "output_type": "stream",
     "text": [
      "\n",
      "Optimal k(s): k 29,score 0.933435512449\n"
     ]
    }
   ],
   "source": [
    "for i, v in k_score_dict.iteritems():\n",
    "    if v == max(k_score_dict.values()):\n",
    "        print \"\\nOptimal k(s): k {},score {}\".format(i, v)"
   ]
  },
  {
   "cell_type": "markdown",
   "metadata": {},
   "source": [
    "## The models created so far have only used one feature. If additional features are added with different scaling, then standardization/rescaling of the X input will be necessary."
   ]
  },
  {
   "cell_type": "markdown",
   "metadata": {
    "collapsed": true
   },
   "source": [
    "## Continued work will concentrate on choosing more features and putting them into the model to test their predictive power.\n",
    "\n",
    "## I may also need to build other types of classification models with the same features and then compare them to KNN. \n",
    "\n",
    "## I could also tune the KNN model to try to achieve higher accuracy scores."
   ]
  },
  {
   "cell_type": "code",
   "execution_count": null,
   "metadata": {
    "collapsed": true
   },
   "outputs": [],
   "source": []
  }
 ],
 "metadata": {
  "kernelspec": {
   "display_name": "Python [python_molted]",
   "language": "python",
   "name": "Python [python_molted]"
  },
  "language_info": {
   "codemirror_mode": {
    "name": "ipython",
    "version": 2
   },
   "file_extension": ".py",
   "mimetype": "text/x-python",
   "name": "python",
   "nbconvert_exporter": "python",
   "pygments_lexer": "ipython2",
   "version": "2.7.12"
  }
 },
 "nbformat": 4,
 "nbformat_minor": 0
}
